{
  "nbformat": 4,
  "nbformat_minor": 0,
  "metadata": {
    "colab": {
      "name": "Clustering.ipynb",
      "version": "0.3.2",
      "provenance": [],
      "collapsed_sections": []
    },
    "kernelspec": {
      "name": "python3",
      "display_name": "Python 3"
    }
  },
  "cells": [
    {
      "metadata": {
        "id": "aHghBWOxubSQ",
        "colab_type": "text"
      },
      "cell_type": "markdown",
      "source": [
        "# Clustering\n",
        "## Platform: Spark, colab.research.google.com"
      ]
    },
    {
      "metadata": {
        "id": "-jQwTWE6udPn",
        "colab_type": "code",
        "colab": {}
      },
      "cell_type": "code",
      "source": [
        "# install Spark\n",
        "!apt-get install openjdk-8-jdk-headless -qq > /dev/null\n",
        "!wget -q http://www-us.apache.org/dist/spark/spark-2.3.1/spark-2.3.1-bin-hadoop2.7.tgz\n",
        "!tar xf spark-2.3.1-bin-hadoop2.7.tgz\n",
        "!pip install -q findspark"
      ],
      "execution_count": 0,
      "outputs": []
    },
    {
      "metadata": {
        "id": "YKK21Zmkuny6",
        "colab_type": "code",
        "colab": {}
      },
      "cell_type": "code",
      "source": [
        "# init Spark\n",
        "import os\n",
        "os.environ[\"JAVA_HOME\"] = \"/usr/lib/jvm/java-8-openjdk-amd64\"\n",
        "os.environ[\"SPARK_HOME\"] = \"/content/spark-2.3.1-bin-hadoop2.7\"\n",
        "import findspark\n",
        "findspark.init()\n",
        "from pyspark.sql import SparkSession\n",
        "spark = SparkSession.builder.master(\"local[*]\").getOrCreate()"
      ],
      "execution_count": 0,
      "outputs": []
    },
    {
      "metadata": {
        "id": "t6058xncWK9g",
        "colab_type": "code",
        "colab": {}
      },
      "cell_type": "code",
      "source": [
        "import pandas as pd\n",
        "import time\n",
        "\n",
        "from pyspark.ml.clustering import KMeans\n",
        "from pyspark.ml.feature import VectorAssembler"
      ],
      "execution_count": 0,
      "outputs": []
    },
    {
      "metadata": {
        "id": "VWj6KwZ3uqMT",
        "colab_type": "code",
        "outputId": "5ef8b036-82dc-4e77-d76a-cc081920c6ee",
        "colab": {
          "base_uri": "https://localhost:8080/",
          "height": 35
        }
      },
      "cell_type": "code",
      "source": [
        "from google.colab import drive\n",
        "drive.mount('/content/gdrive', force_remount=True)"
      ],
      "execution_count": 13,
      "outputs": [
        {
          "output_type": "stream",
          "text": [
            "Mounted at /content/gdrive\n"
          ],
          "name": "stdout"
        }
      ]
    },
    {
      "metadata": {
        "id": "tRXyPLJ2usHS",
        "colab_type": "code",
        "outputId": "3b1fc92b-641c-470c-b403-7af88e0c5926",
        "colab": {
          "base_uri": "https://localhost:8080/",
          "height": 228
        }
      },
      "cell_type": "code",
      "source": [
        "customers = spark.read.csv(\"/content/gdrive/My Drive/Colab Notebooks/SparkAzureTutorial/data/customers.csv\", header=True, inferSchema=True)\n",
        "customers.show(5, False)"
      ],
      "execution_count": 14,
      "outputs": [
        {
          "output_type": "stream",
          "text": [
            "+---------------+---+-------------+-----------+------+-------------+--------------+---------+----------+---------+----+\n",
            "|CustomerName   |Age|MaritalStatus|IncomeRange|Gender|TotalChildren|ChildrenAtHome|Education|Occupation|HomeOwner|Cars|\n",
            "+---------------+---+-------------+-----------+------+-------------+--------------+---------+----------+---------+----+\n",
            "|Aaron Adams    |42 |0            |50000      |0     |0            |0             |3        |2         |1        |1   |\n",
            "|Aaron Alexander|40 |1            |50000      |0     |0            |0             |2        |2         |1        |2   |\n",
            "|Aaron Allen    |63 |0            |25000      |0     |2            |1             |2        |1         |1        |2   |\n",
            "|Aaron Baker    |56 |1            |50000      |0     |4            |2             |2        |2         |1        |2   |\n",
            "|Aaron Bryant   |72 |0            |75000      |0     |4            |0             |4        |4         |1        |2   |\n",
            "+---------------+---+-------------+-----------+------+-------------+--------------+---------+----------+---------+----+\n",
            "only showing top 5 rows\n",
            "\n"
          ],
          "name": "stdout"
        }
      ]
    },
    {
      "metadata": {
        "id": "rjl34p473NJe",
        "colab_type": "code",
        "colab": {}
      },
      "cell_type": "code",
      "source": [
        "assembler = VectorAssembler(inputCols = [\"Age\", \"MaritalStatus\", \"IncomeRange\", \"Gender\", \"TotalChildren\", \"ChildrenAtHome\", \"Education\", \"Occupation\", \"HomeOwner\", \"Cars\"], outputCol=\"features\")\n",
        "train = assembler.transform(customers)\n",
        "\n",
        "kmeans = KMeans(featuresCol=assembler.getOutputCol(), predictionCol=\"cluster\", k=5, seed=0)\n",
        "model = kmeans.fit(train)"
      ],
      "execution_count": 0,
      "outputs": []
    },
    {
      "metadata": {
        "id": "2NfkuZVB8D8c",
        "colab_type": "code",
        "colab": {
          "base_uri": "https://localhost:8080/",
          "height": 988
        },
        "outputId": "81410863-873f-49d5-9229-ec4184d818a6"
      },
      "cell_type": "code",
      "source": [
        "prediction = model.transform(train)\n",
        "prediction.select(\"CustomerName\", \"cluster\").show(50)"
      ],
      "execution_count": 16,
      "outputs": [
        {
          "output_type": "stream",
          "text": [
            "+----------------+-------+\n",
            "|    CustomerName|cluster|\n",
            "+----------------+-------+\n",
            "|     Aaron Adams|      0|\n",
            "| Aaron Alexander|      0|\n",
            "|     Aaron Allen|      4|\n",
            "|     Aaron Baker|      0|\n",
            "|    Aaron Bryant|      3|\n",
            "|    Aaron Butler|      3|\n",
            "|  Aaron Campbell|      3|\n",
            "|    Aaron Carter|      0|\n",
            "|      Aaron Chen|      3|\n",
            "|   Aaron Coleman|      0|\n",
            "|   Aaron Collins|      1|\n",
            "|      Aaron Diaz|      2|\n",
            "|   Aaron Edwards|      1|\n",
            "|     Aaron Evans|      3|\n",
            "|    Aaron Flores|      3|\n",
            "|    Aaron Foster|      3|\n",
            "|  Aaron Gonzales|      3|\n",
            "|  Aaron Gonzalez|      0|\n",
            "|     Aaron Green|      0|\n",
            "|     Aaron Green|      0|\n",
            "|   Aaron Griffin|      4|\n",
            "|      Aaron Hall|      0|\n",
            "|     Aaron Hayes|      2|\n",
            "| Aaron Henderson|      0|\n",
            "| Aaron Hernandez|      0|\n",
            "|      Aaron Hill|      2|\n",
            "|    Aaron Hughes|      2|\n",
            "|       Aaron Jai|      3|\n",
            "|   Aaron Jenkins|      0|\n",
            "|      Aaron King|      3|\n",
            "|     Aaron Kumar|      3|\n",
            "|       Aaron Lal|      0|\n",
            "|        Aaron Li|      3|\n",
            "|  Aaron McDonald|      0|\n",
            "|  Aaron Mitchell|      2|\n",
            "|    Aaron Nelson|      3|\n",
            "| Aaron Patterson|      0|\n",
            "|     Aaron Perez|      3|\n",
            "|     Aaron Perry|      1|\n",
            "|  Aaron Phillips|      0|\n",
            "|    Aaron Powell|      2|\n",
            "|   Aaron Roberts|      3|\n",
            "|      Aaron Ross|      3|\n",
            "|   Aaron Russell|      4|\n",
            "|     Aaron Scott|      3|\n",
            "|      Aaron Shan|      0|\n",
            "|    Aaron Sharma|      3|\n",
            "|   Aaron Simmons|      3|\n",
            "|      Aaron Wang|      1|\n",
            "|Aaron Washington|      0|\n",
            "+----------------+-------+\n",
            "only showing top 50 rows\n",
            "\n"
          ],
          "name": "stdout"
        }
      ]
    },
    {
      "metadata": {
        "id": "QhuXX-g572xm",
        "colab_type": "code",
        "colab": {
          "base_uri": "https://localhost:8080/",
          "height": 191
        },
        "outputId": "4a51df57-d1ca-4f8b-b85c-9a48da922d9e"
      },
      "cell_type": "code",
      "source": [
        "prediction.groupBy(\"cluster\").count().orderBy(\"cluster\").show()"
      ],
      "execution_count": 17,
      "outputs": [
        {
          "output_type": "stream",
          "text": [
            "+-------+-----+\n",
            "|cluster|count|\n",
            "+-------+-----+\n",
            "|      0| 5713|\n",
            "|      1| 1628|\n",
            "|      2| 2762|\n",
            "|      3| 5483|\n",
            "|      4| 2922|\n",
            "+-------+-----+\n",
            "\n"
          ],
          "name": "stdout"
        }
      ]
    },
    {
      "metadata": {
        "id": "i3Gy81hf75kS",
        "colab_type": "code",
        "colab": {}
      },
      "cell_type": "code",
      "source": [
        ""
      ],
      "execution_count": 0,
      "outputs": []
    }
  ]
}