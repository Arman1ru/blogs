{
  "nbformat": 4,
  "nbformat_minor": 0,
  "metadata": {
    "colab": {
      "name": "Preprocessing.ipynb",
      "version": "0.3.2",
      "provenance": [],
      "collapsed_sections": []
    },
    "kernelspec": {
      "name": "python3",
      "display_name": "Python 3"
    }
  },
  "cells": [
    {
      "metadata": {
        "id": "pwZWSO9Ckcqg",
        "colab_type": "text"
      },
      "cell_type": "markdown",
      "source": [
        "# Spark"
      ]
    },
    {
      "metadata": {
        "id": "o102sJ3-FCr6",
        "colab_type": "code",
        "colab": {}
      },
      "cell_type": "code",
      "source": [
        "# Google preinstalled packages\n",
        "import pandas as pd\n",
        "import time"
      ],
      "execution_count": 0,
      "outputs": []
    },
    {
      "metadata": {
        "id": "tft3Lv6tFttA",
        "colab_type": "code",
        "colab": {}
      },
      "cell_type": "code",
      "source": [
        "# install Spark\n",
        "!apt-get install openjdk-8-jdk-headless -qq > /dev/null\n",
        "!wget -q http://www-us.apache.org/dist/spark/spark-2.3.1/spark-2.3.1-bin-hadoop2.7.tgz\n",
        "!tar xf spark-2.3.1-bin-hadoop2.7.tgz\n",
        "!pip install -q findspark"
      ],
      "execution_count": 0,
      "outputs": []
    },
    {
      "metadata": {
        "id": "C49OQjvbGu1p",
        "colab_type": "code",
        "colab": {}
      },
      "cell_type": "code",
      "source": [
        "# init Spark\n",
        "import os\n",
        "os.environ[\"JAVA_HOME\"] = \"/usr/lib/jvm/java-8-openjdk-amd64\"\n",
        "os.environ[\"SPARK_HOME\"] = \"/content/spark-2.3.1-bin-hadoop2.7\"\n",
        "import findspark\n",
        "findspark.init()\n",
        "from pyspark.sql import SparkSession\n",
        "spark = SparkSession.builder.master(\"local[*]\").getOrCreate()"
      ],
      "execution_count": 0,
      "outputs": []
    },
    {
      "metadata": {
        "id": "XtgA2u2pG2SP",
        "colab_type": "code",
        "outputId": "139968b8-fe2f-43d8-a645-2346f476a04a",
        "colab": {
          "base_uri": "https://localhost:8080/",
          "height": 35
        }
      },
      "cell_type": "code",
      "source": [
        "from google.colab import drive\n",
        "drive.mount('/content/gdrive', force_remount=True)"
      ],
      "execution_count": 0,
      "outputs": [
        {
          "output_type": "stream",
          "text": [
            "Mounted at /content/gdrive\n"
          ],
          "name": "stdout"
        }
      ]
    },
    {
      "metadata": {
        "id": "QaxAhvibMUN9",
        "colab_type": "code",
        "outputId": "f0ab482e-b2c9-4cbe-dcb0-eaa1b4b3e2de",
        "colab": {
          "base_uri": "https://localhost:8080/",
          "height": 208
        }
      },
      "cell_type": "code",
      "source": [
        "airports_dfs = spark.read.csv(\"/content/gdrive/My Drive/Colab Notebooks/SparkAzureTutorial/data/airports.csv\", header=True, inferSchema=True)\n",
        "airports_dfs.show(5, False)"
      ],
      "execution_count": 0,
      "outputs": [
        {
          "output_type": "stream",
          "text": [
            "+----------+-----------+-----+-----------------------------------+\n",
            "|airport_id|city       |state|name                               |\n",
            "+----------+-----------+-----+-----------------------------------+\n",
            "|10165     |Adak Island|AK   |Adak                               |\n",
            "|10299     |Anchorage  |AK   |Ted Stevens Anchorage International|\n",
            "|10304     |Aniak      |AK   |Aniak Airport                      |\n",
            "|10754     |Barrow     |AK   |Wiley Post/Will Rogers Memorial    |\n",
            "|10551     |Bethel     |AK   |Bethel Airport                     |\n",
            "+----------+-----------+-----+-----------------------------------+\n",
            "only showing top 5 rows\n",
            "\n"
          ],
          "name": "stdout"
        }
      ]
    },
    {
      "metadata": {
        "id": "_PWmzuwuJT1l",
        "colab_type": "code",
        "outputId": "3c382cb3-0995-47d4-c24e-3d127f35ff2a",
        "colab": {
          "base_uri": "https://localhost:8080/",
          "height": 208
        }
      },
      "cell_type": "code",
      "source": [
        "flights_dfs = spark.read.csv(\"/content/gdrive/My Drive/Colab Notebooks/SparkAzureTutorial/data/raw-flight-data.csv\", header=True, inferSchema=True)\n",
        "flights_dfs.show(5, False)"
      ],
      "execution_count": 0,
      "outputs": [
        {
          "output_type": "stream",
          "text": [
            "+----------+---------+-------+---------------+-------------+--------+--------+\n",
            "|DayofMonth|DayOfWeek|Carrier|OriginAirportID|DestAirportID|DepDelay|ArrDelay|\n",
            "+----------+---------+-------+---------------+-------------+--------+--------+\n",
            "|19        |5        |DL     |11433          |13303        |-3      |1       |\n",
            "|19        |5        |DL     |14869          |12478        |0       |-8      |\n",
            "|19        |5        |DL     |14057          |14869        |-4      |-15     |\n",
            "|19        |5        |DL     |15016          |11433        |28      |24      |\n",
            "|19        |5        |DL     |11193          |12892        |-6      |-11     |\n",
            "+----------+---------+-------+---------------+-------------+--------+--------+\n",
            "only showing top 5 rows\n",
            "\n"
          ],
          "name": "stdout"
        }
      ]
    },
    {
      "metadata": {
        "id": "Ko9jpg8PJs-P",
        "colab_type": "code",
        "outputId": "a658dd1b-d7b0-4d92-bee4-0fbbcca07e86",
        "colab": {
          "base_uri": "https://localhost:8080/",
          "height": 121
        }
      },
      "cell_type": "code",
      "source": [
        "airports_dfs.printSchema()"
      ],
      "execution_count": 0,
      "outputs": [
        {
          "output_type": "stream",
          "text": [
            "root\n",
            " |-- airport_id: integer (nullable = true)\n",
            " |-- city: string (nullable = true)\n",
            " |-- state: string (nullable = true)\n",
            " |-- name: string (nullable = true)\n",
            "\n"
          ],
          "name": "stdout"
        }
      ]
    },
    {
      "metadata": {
        "id": "b1BEq9ClNeMW",
        "colab_type": "code",
        "outputId": "5a7d79d3-c6d4-4083-e3c3-71d88df7ff4e",
        "colab": {
          "base_uri": "https://localhost:8080/",
          "height": 173
        }
      },
      "cell_type": "code",
      "source": [
        "flights_dfs.printSchema()"
      ],
      "execution_count": 0,
      "outputs": [
        {
          "output_type": "stream",
          "text": [
            "root\n",
            " |-- DayofMonth: integer (nullable = true)\n",
            " |-- DayOfWeek: integer (nullable = true)\n",
            " |-- Carrier: string (nullable = true)\n",
            " |-- OriginAirportID: integer (nullable = true)\n",
            " |-- DestAirportID: integer (nullable = true)\n",
            " |-- DepDelay: integer (nullable = true)\n",
            " |-- ArrDelay: integer (nullable = true)\n",
            "\n"
          ],
          "name": "stdout"
        }
      ]
    },
    {
      "metadata": {
        "id": "yUsn8tupNhfe",
        "colab_type": "code",
        "colab": {}
      },
      "cell_type": "code",
      "source": [
        "flights_dfs.createOrReplaceTempView(\"flights_sql\")\n",
        "airports_dfs.createOrReplaceTempView(\"airports_sql\")"
      ],
      "execution_count": 0,
      "outputs": []
    },
    {
      "metadata": {
        "id": "VYpa8EK3Novf",
        "colab_type": "code",
        "outputId": "f7cfd92f-8fcb-4dc9-fa83-becd09f6759c",
        "colab": {
          "base_uri": "https://localhost:8080/",
          "height": 295
        }
      },
      "cell_type": "code",
      "source": [
        "start_time = time.time()\n",
        "spark.sql(\"\"\"\n",
        "SELECT city, count(city) \n",
        "FROM flights_sql \n",
        "INNER JOIN airports_sql ON flights_sql.DestAirportID = airports_sql.airport_id\n",
        "GROUP BY city\n",
        "ORDER BY count(city) DESC\n",
        "LIMIT 10\"\"\").show(truncate = False)\n",
        "print(\"--- {} seconds ---\".format(time.time() - start_time))"
      ],
      "execution_count": 0,
      "outputs": [
        {
          "output_type": "stream",
          "text": [
            "+-----------------+-----------+\n",
            "|city             |count(city)|\n",
            "+-----------------+-----------+\n",
            "|Chicago          |177703     |\n",
            "|Atlanta          |150029     |\n",
            "|Los Angeles      |119062     |\n",
            "|New York         |118282     |\n",
            "|Dallas/Fort Worth|104730     |\n",
            "|Houston          |103030     |\n",
            "|Denver           |97264      |\n",
            "|Phoenix          |90360      |\n",
            "|San Francisco    |84397      |\n",
            "|Washington       |81163      |\n",
            "+-----------------+-----------+\n",
            "\n",
            "--- 5.429871559143066 seconds ---\n"
          ],
          "name": "stdout"
        }
      ]
    },
    {
      "metadata": {
        "id": "v64iapkScSdc",
        "colab_type": "text"
      },
      "cell_type": "markdown",
      "source": [
        "# Preprocessing"
      ]
    },
    {
      "metadata": {
        "id": "q_bwR6fucTpd",
        "colab_type": "code",
        "outputId": "227a0cc3-0565-4452-84dd-c61b84dfc743",
        "colab": {
          "base_uri": "https://localhost:8080/",
          "height": 211
        }
      },
      "cell_type": "code",
      "source": [
        "flights_dfs.describe().show()"
      ],
      "execution_count": 0,
      "outputs": [
        {
          "output_type": "stream",
          "text": [
            "+-------+-----------------+------------------+-------+------------------+------------------+-----------------+-----------------+\n",
            "|summary|       DayofMonth|         DayOfWeek|Carrier|   OriginAirportID|     DestAirportID|         DepDelay|         ArrDelay|\n",
            "+-------+-----------------+------------------+-------+------------------+------------------+-----------------+-----------------+\n",
            "|  count|          2719418|           2719418|2719418|           2719418|           2719418|          2691974|          2690385|\n",
            "|   mean|15.79747468024408|3.8983907586108497|   null| 12742.26441172339|12742.455345592329|10.53686662649788| 6.63768791455498|\n",
            "| stddev|8.799860168985367|1.9859881390373617|   null|1501.9729397025808|1501.9692528927785|36.09952806643081|38.64881489390021|\n",
            "|    min|                1|                 1|     9E|             10140|             10140|              -63|              -94|\n",
            "|    max|               31|                 7|     YV|             15376|             15376|             1863|             1845|\n",
            "+-------+-----------------+------------------+-------+------------------+------------------+-----------------+-----------------+\n",
            "\n"
          ],
          "name": "stdout"
        }
      ]
    },
    {
      "metadata": {
        "id": "XwFL6OUedXTN",
        "colab_type": "code",
        "outputId": "fc557a9c-3d75-4355-8eb7-0d7d6b26d795",
        "colab": {
          "base_uri": "https://localhost:8080/",
          "height": 35
        }
      },
      "cell_type": "code",
      "source": [
        "raw_no_rows = flights_dfs.count()\n",
        "no_duplicates = raw_no_rows - flights_dfs.dropDuplicates().count()\n",
        "no_duplicates"
      ],
      "execution_count": 0,
      "outputs": [
        {
          "output_type": "execute_result",
          "data": {
            "text/plain": [
              "22435"
            ]
          },
          "metadata": {
            "tags": []
          },
          "execution_count": 146
        }
      ]
    },
    {
      "metadata": {
        "id": "O38_UE50dzL0",
        "colab_type": "code",
        "outputId": "bd991a0c-903f-45ab-d7fe-a2df48701e60",
        "colab": {
          "base_uri": "https://localhost:8080/",
          "height": 35
        }
      },
      "cell_type": "code",
      "source": [
        "no_missing = raw_no_rows - flights_dfs.dropna(how=\"any\", subset=[\"ArrDelay\", \"DepDelay\"]).count()\n",
        "no_missing"
      ],
      "execution_count": 0,
      "outputs": [
        {
          "output_type": "execute_result",
          "data": {
            "text/plain": [
              "29033"
            ]
          },
          "metadata": {
            "tags": []
          },
          "execution_count": 147
        }
      ]
    },
    {
      "metadata": {
        "id": "QUfpDXnliEZ4",
        "colab_type": "code",
        "colab": {}
      },
      "cell_type": "code",
      "source": [
        ""
      ],
      "execution_count": 0,
      "outputs": []
    },
    {
      "metadata": {
        "id": "Az1JLVG3fyPd",
        "colab_type": "code",
        "colab": {}
      },
      "cell_type": "code",
      "source": [
        "flights_dfs_clean = flights_dfs.dropDuplicates().fillna(value=0, subset=[\"ArrDelay\", \"DepDelay\"])\n",
        "assert raw_no_rows - no_duplicates == flights_dfs_clean.count()"
      ],
      "execution_count": 0,
      "outputs": []
    },
    {
      "metadata": {
        "id": "Wo1l0ddugHS4",
        "colab_type": "code",
        "outputId": "ab63aa64-f1a3-4203-db41-5cdd2d5d94ab",
        "colab": {
          "base_uri": "https://localhost:8080/",
          "height": 35
        }
      },
      "cell_type": "code",
      "source": [
        "flights_dfs_clean.corr(\"ArrDelay\", \"DepDelay\")"
      ],
      "execution_count": 0,
      "outputs": [
        {
          "output_type": "execute_result",
          "data": {
            "text/plain": [
              "0.9392630367706957"
            ]
          },
          "metadata": {
            "tags": []
          },
          "execution_count": 149
        }
      ]
    },
    {
      "metadata": {
        "id": "a4fiJQ7dhgyK",
        "colab_type": "code",
        "outputId": "7519dcfe-b212-4168-cd5b-34c80d319909",
        "colab": {
          "base_uri": "https://localhost:8080/",
          "height": 379
        }
      },
      "cell_type": "code",
      "source": [
        "df = spark.sql(\"SELECT ArrDelay, DepDelay from flights_sql\")\n",
        "df = df.toPandas()\n",
        "df.plot(kind=\"scatter\", x=\"DepDelay\", y=\"ArrDelay\")"
      ],
      "execution_count": 0,
      "outputs": [
        {
          "output_type": "execute_result",
          "data": {
            "text/plain": [
              "<matplotlib.axes._subplots.AxesSubplot at 0x7f2cd648bc88>"
            ]
          },
          "metadata": {
            "tags": []
          },
          "execution_count": 150
        },
        {
          "output_type": "display_data",
          "data": {
            "image/png": "[encoded data removed]",
            "text/plain": [
              "<matplotlib.figure.Figure at 0x7f2cd648b5f8>"
            ]
          },
          "metadata": {
            "tags": []
          }
        }
      ]
    },
    {
      "metadata": {
        "id": "0e_AD_w9kiFa",
        "colab_type": "text"
      },
      "cell_type": "markdown",
      "source": [
        "# Pandas Comparison"
      ]
    },
    {
      "metadata": {
        "id": "TVsPeGl9jGxG",
        "colab_type": "code",
        "outputId": "d99d0cfb-3e88-4844-ecde-4d66fa4193cd",
        "colab": {
          "base_uri": "https://localhost:8080/",
          "height": 294
        }
      },
      "cell_type": "code",
      "source": [
        "flights_df = pd.read_csv(\"/content/gdrive/My Drive/Colab Notebooks/SparkAzureTutorial/data/raw-flight-data.csv\", header=0)\n",
        "flights_df.describe()"
      ],
      "execution_count": 0,
      "outputs": [
        {
          "output_type": "execute_result",
          "data": {
            "text/html": [
              "<div>\n",
              "<style scoped>\n",
              "    .dataframe tbody tr th:only-of-type {\n",
              "        vertical-align: middle;\n",
              "    }\n",
              "\n",
              "    .dataframe tbody tr th {\n",
              "        vertical-align: top;\n",
              "    }\n",
              "\n",
              "    .dataframe thead th {\n",
              "        text-align: right;\n",
              "    }\n",
              "</style>\n",
              "<table border=\"1\" class=\"dataframe\">\n",
              "  <thead>\n",
              "    <tr style=\"text-align: right;\">\n",
              "      <th></th>\n",
              "      <th>DayofMonth</th>\n",
              "      <th>DayOfWeek</th>\n",
              "      <th>OriginAirportID</th>\n",
              "      <th>DestAirportID</th>\n",
              "      <th>DepDelay</th>\n",
              "      <th>ArrDelay</th>\n",
              "    </tr>\n",
              "  </thead>\n",
              "  <tbody>\n",
              "    <tr>\n",
              "      <th>count</th>\n",
              "      <td>2.719418e+06</td>\n",
              "      <td>2.719418e+06</td>\n",
              "      <td>2.719418e+06</td>\n",
              "      <td>2.719418e+06</td>\n",
              "      <td>2.691974e+06</td>\n",
              "      <td>2.690385e+06</td>\n",
              "    </tr>\n",
              "    <tr>\n",
              "      <th>mean</th>\n",
              "      <td>1.579747e+01</td>\n",
              "      <td>3.898391e+00</td>\n",
              "      <td>1.274226e+04</td>\n",
              "      <td>1.274246e+04</td>\n",
              "      <td>1.053687e+01</td>\n",
              "      <td>6.637688e+00</td>\n",
              "    </tr>\n",
              "    <tr>\n",
              "      <th>std</th>\n",
              "      <td>8.799860e+00</td>\n",
              "      <td>1.985988e+00</td>\n",
              "      <td>1.501973e+03</td>\n",
              "      <td>1.501969e+03</td>\n",
              "      <td>3.609953e+01</td>\n",
              "      <td>3.864881e+01</td>\n",
              "    </tr>\n",
              "    <tr>\n",
              "      <th>min</th>\n",
              "      <td>1.000000e+00</td>\n",
              "      <td>1.000000e+00</td>\n",
              "      <td>1.014000e+04</td>\n",
              "      <td>1.014000e+04</td>\n",
              "      <td>-6.300000e+01</td>\n",
              "      <td>-9.400000e+01</td>\n",
              "    </tr>\n",
              "    <tr>\n",
              "      <th>25%</th>\n",
              "      <td>8.000000e+00</td>\n",
              "      <td>2.000000e+00</td>\n",
              "      <td>1.129200e+04</td>\n",
              "      <td>1.129200e+04</td>\n",
              "      <td>-4.000000e+00</td>\n",
              "      <td>-1.100000e+01</td>\n",
              "    </tr>\n",
              "    <tr>\n",
              "      <th>50%</th>\n",
              "      <td>1.600000e+01</td>\n",
              "      <td>4.000000e+00</td>\n",
              "      <td>1.289200e+04</td>\n",
              "      <td>1.289200e+04</td>\n",
              "      <td>-1.000000e+00</td>\n",
              "      <td>-3.000000e+00</td>\n",
              "    </tr>\n",
              "    <tr>\n",
              "      <th>75%</th>\n",
              "      <td>2.300000e+01</td>\n",
              "      <td>6.000000e+00</td>\n",
              "      <td>1.405700e+04</td>\n",
              "      <td>1.405700e+04</td>\n",
              "      <td>9.000000e+00</td>\n",
              "      <td>1.000000e+01</td>\n",
              "    </tr>\n",
              "    <tr>\n",
              "      <th>max</th>\n",
              "      <td>3.100000e+01</td>\n",
              "      <td>7.000000e+00</td>\n",
              "      <td>1.537600e+04</td>\n",
              "      <td>1.537600e+04</td>\n",
              "      <td>1.863000e+03</td>\n",
              "      <td>1.845000e+03</td>\n",
              "    </tr>\n",
              "  </tbody>\n",
              "</table>\n",
              "</div>"
            ],
            "text/plain": [
              "         DayofMonth     DayOfWeek  OriginAirportID  DestAirportID  \\\n",
              "count  2.719418e+06  2.719418e+06     2.719418e+06   2.719418e+06   \n",
              "mean   1.579747e+01  3.898391e+00     1.274226e+04   1.274246e+04   \n",
              "std    8.799860e+00  1.985988e+00     1.501973e+03   1.501969e+03   \n",
              "min    1.000000e+00  1.000000e+00     1.014000e+04   1.014000e+04   \n",
              "25%    8.000000e+00  2.000000e+00     1.129200e+04   1.129200e+04   \n",
              "50%    1.600000e+01  4.000000e+00     1.289200e+04   1.289200e+04   \n",
              "75%    2.300000e+01  6.000000e+00     1.405700e+04   1.405700e+04   \n",
              "max    3.100000e+01  7.000000e+00     1.537600e+04   1.537600e+04   \n",
              "\n",
              "           DepDelay      ArrDelay  \n",
              "count  2.691974e+06  2.690385e+06  \n",
              "mean   1.053687e+01  6.637688e+00  \n",
              "std    3.609953e+01  3.864881e+01  \n",
              "min   -6.300000e+01 -9.400000e+01  \n",
              "25%   -4.000000e+00 -1.100000e+01  \n",
              "50%   -1.000000e+00 -3.000000e+00  \n",
              "75%    9.000000e+00  1.000000e+01  \n",
              "max    1.863000e+03  1.845000e+03  "
            ]
          },
          "metadata": {
            "tags": []
          },
          "execution_count": 151
        }
      ]
    },
    {
      "metadata": {
        "id": "K5wYL3EBAF5j",
        "colab_type": "code",
        "outputId": "841a3f12-6d75-4280-c774-9dd241fbbfa5",
        "colab": {
          "base_uri": "https://localhost:8080/",
          "height": 202
        }
      },
      "cell_type": "code",
      "source": [
        "flights_df.head(5)"
      ],
      "execution_count": 0,
      "outputs": [
        {
          "output_type": "execute_result",
          "data": {
            "text/html": [
              "<div>\n",
              "<style scoped>\n",
              "    .dataframe tbody tr th:only-of-type {\n",
              "        vertical-align: middle;\n",
              "    }\n",
              "\n",
              "    .dataframe tbody tr th {\n",
              "        vertical-align: top;\n",
              "    }\n",
              "\n",
              "    .dataframe thead th {\n",
              "        text-align: right;\n",
              "    }\n",
              "</style>\n",
              "<table border=\"1\" class=\"dataframe\">\n",
              "  <thead>\n",
              "    <tr style=\"text-align: right;\">\n",
              "      <th></th>\n",
              "      <th>DayofMonth</th>\n",
              "      <th>DayOfWeek</th>\n",
              "      <th>Carrier</th>\n",
              "      <th>OriginAirportID</th>\n",
              "      <th>DestAirportID</th>\n",
              "      <th>DepDelay</th>\n",
              "      <th>ArrDelay</th>\n",
              "    </tr>\n",
              "  </thead>\n",
              "  <tbody>\n",
              "    <tr>\n",
              "      <th>0</th>\n",
              "      <td>19</td>\n",
              "      <td>5</td>\n",
              "      <td>DL</td>\n",
              "      <td>11433</td>\n",
              "      <td>13303</td>\n",
              "      <td>-3.0</td>\n",
              "      <td>1.0</td>\n",
              "    </tr>\n",
              "    <tr>\n",
              "      <th>1</th>\n",
              "      <td>19</td>\n",
              "      <td>5</td>\n",
              "      <td>DL</td>\n",
              "      <td>14869</td>\n",
              "      <td>12478</td>\n",
              "      <td>0.0</td>\n",
              "      <td>-8.0</td>\n",
              "    </tr>\n",
              "    <tr>\n",
              "      <th>2</th>\n",
              "      <td>19</td>\n",
              "      <td>5</td>\n",
              "      <td>DL</td>\n",
              "      <td>14057</td>\n",
              "      <td>14869</td>\n",
              "      <td>-4.0</td>\n",
              "      <td>-15.0</td>\n",
              "    </tr>\n",
              "    <tr>\n",
              "      <th>3</th>\n",
              "      <td>19</td>\n",
              "      <td>5</td>\n",
              "      <td>DL</td>\n",
              "      <td>15016</td>\n",
              "      <td>11433</td>\n",
              "      <td>28.0</td>\n",
              "      <td>24.0</td>\n",
              "    </tr>\n",
              "    <tr>\n",
              "      <th>4</th>\n",
              "      <td>19</td>\n",
              "      <td>5</td>\n",
              "      <td>DL</td>\n",
              "      <td>11193</td>\n",
              "      <td>12892</td>\n",
              "      <td>-6.0</td>\n",
              "      <td>-11.0</td>\n",
              "    </tr>\n",
              "  </tbody>\n",
              "</table>\n",
              "</div>"
            ],
            "text/plain": [
              "   DayofMonth  DayOfWeek Carrier  OriginAirportID  DestAirportID  DepDelay  \\\n",
              "0          19          5      DL            11433          13303      -3.0   \n",
              "1          19          5      DL            14869          12478       0.0   \n",
              "2          19          5      DL            14057          14869      -4.0   \n",
              "3          19          5      DL            15016          11433      28.0   \n",
              "4          19          5      DL            11193          12892      -6.0   \n",
              "\n",
              "   ArrDelay  \n",
              "0       1.0  \n",
              "1      -8.0  \n",
              "2     -15.0  \n",
              "3      24.0  \n",
              "4     -11.0  "
            ]
          },
          "metadata": {
            "tags": []
          },
          "execution_count": 152
        }
      ]
    },
    {
      "metadata": {
        "id": "kdnHHd9v9Kzm",
        "colab_type": "code",
        "outputId": "8ebaac52-3173-4f97-e59e-907bb5d38ae0",
        "colab": {
          "base_uri": "https://localhost:8080/",
          "height": 69
        }
      },
      "cell_type": "code",
      "source": [
        "flights_df.columns"
      ],
      "execution_count": 0,
      "outputs": [
        {
          "output_type": "execute_result",
          "data": {
            "text/plain": [
              "Index(['DayofMonth', 'DayOfWeek', 'Carrier', 'OriginAirportID',\n",
              "       'DestAirportID', 'DepDelay', 'ArrDelay'],\n",
              "      dtype='object')"
            ]
          },
          "metadata": {
            "tags": []
          },
          "execution_count": 153
        }
      ]
    },
    {
      "metadata": {
        "id": "zPSM373kkYqo",
        "colab_type": "code",
        "outputId": "e169484f-d631-434e-b789-352a504ab35c",
        "colab": {
          "base_uri": "https://localhost:8080/",
          "height": 294
        }
      },
      "cell_type": "code",
      "source": [
        "airports_df = pd.read_csv(\"/content/gdrive/My Drive/Colab Notebooks/SparkAzureTutorial/data/airports.csv\", header=0)\n",
        "airports_df.describe()"
      ],
      "execution_count": 0,
      "outputs": [
        {
          "output_type": "execute_result",
          "data": {
            "text/html": [
              "<div>\n",
              "<style scoped>\n",
              "    .dataframe tbody tr th:only-of-type {\n",
              "        vertical-align: middle;\n",
              "    }\n",
              "\n",
              "    .dataframe tbody tr th {\n",
              "        vertical-align: top;\n",
              "    }\n",
              "\n",
              "    .dataframe thead th {\n",
              "        text-align: right;\n",
              "    }\n",
              "</style>\n",
              "<table border=\"1\" class=\"dataframe\">\n",
              "  <thead>\n",
              "    <tr style=\"text-align: right;\">\n",
              "      <th></th>\n",
              "      <th>airport_id</th>\n",
              "    </tr>\n",
              "  </thead>\n",
              "  <tbody>\n",
              "    <tr>\n",
              "      <th>count</th>\n",
              "      <td>365.000000</td>\n",
              "    </tr>\n",
              "    <tr>\n",
              "      <th>mean</th>\n",
              "      <td>12761.016438</td>\n",
              "    </tr>\n",
              "    <tr>\n",
              "      <th>std</th>\n",
              "      <td>1660.796638</td>\n",
              "    </tr>\n",
              "    <tr>\n",
              "      <th>min</th>\n",
              "      <td>10135.000000</td>\n",
              "    </tr>\n",
              "    <tr>\n",
              "      <th>25%</th>\n",
              "      <td>11292.000000</td>\n",
              "    </tr>\n",
              "    <tr>\n",
              "      <th>50%</th>\n",
              "      <td>12523.000000</td>\n",
              "    </tr>\n",
              "    <tr>\n",
              "      <th>75%</th>\n",
              "      <td>14193.000000</td>\n",
              "    </tr>\n",
              "    <tr>\n",
              "      <th>max</th>\n",
              "      <td>16440.000000</td>\n",
              "    </tr>\n",
              "  </tbody>\n",
              "</table>\n",
              "</div>"
            ],
            "text/plain": [
              "         airport_id\n",
              "count    365.000000\n",
              "mean   12761.016438\n",
              "std     1660.796638\n",
              "min    10135.000000\n",
              "25%    11292.000000\n",
              "50%    12523.000000\n",
              "75%    14193.000000\n",
              "max    16440.000000"
            ]
          },
          "metadata": {
            "tags": []
          },
          "execution_count": 154
        }
      ]
    },
    {
      "metadata": {
        "id": "gjK8sakUAMZH",
        "colab_type": "code",
        "outputId": "ce496a6a-158f-4a56-c8c4-2720d6b98716",
        "colab": {
          "base_uri": "https://localhost:8080/",
          "height": 202
        }
      },
      "cell_type": "code",
      "source": [
        "airports_df.head(5)"
      ],
      "execution_count": 0,
      "outputs": [
        {
          "output_type": "execute_result",
          "data": {
            "text/html": [
              "<div>\n",
              "<style scoped>\n",
              "    .dataframe tbody tr th:only-of-type {\n",
              "        vertical-align: middle;\n",
              "    }\n",
              "\n",
              "    .dataframe tbody tr th {\n",
              "        vertical-align: top;\n",
              "    }\n",
              "\n",
              "    .dataframe thead th {\n",
              "        text-align: right;\n",
              "    }\n",
              "</style>\n",
              "<table border=\"1\" class=\"dataframe\">\n",
              "  <thead>\n",
              "    <tr style=\"text-align: right;\">\n",
              "      <th></th>\n",
              "      <th>airport_id</th>\n",
              "      <th>city</th>\n",
              "      <th>state</th>\n",
              "      <th>name</th>\n",
              "    </tr>\n",
              "  </thead>\n",
              "  <tbody>\n",
              "    <tr>\n",
              "      <th>0</th>\n",
              "      <td>10165</td>\n",
              "      <td>Adak Island</td>\n",
              "      <td>AK</td>\n",
              "      <td>Adak</td>\n",
              "    </tr>\n",
              "    <tr>\n",
              "      <th>1</th>\n",
              "      <td>10299</td>\n",
              "      <td>Anchorage</td>\n",
              "      <td>AK</td>\n",
              "      <td>Ted Stevens Anchorage International</td>\n",
              "    </tr>\n",
              "    <tr>\n",
              "      <th>2</th>\n",
              "      <td>10304</td>\n",
              "      <td>Aniak</td>\n",
              "      <td>AK</td>\n",
              "      <td>Aniak Airport</td>\n",
              "    </tr>\n",
              "    <tr>\n",
              "      <th>3</th>\n",
              "      <td>10754</td>\n",
              "      <td>Barrow</td>\n",
              "      <td>AK</td>\n",
              "      <td>Wiley Post/Will Rogers Memorial</td>\n",
              "    </tr>\n",
              "    <tr>\n",
              "      <th>4</th>\n",
              "      <td>10551</td>\n",
              "      <td>Bethel</td>\n",
              "      <td>AK</td>\n",
              "      <td>Bethel Airport</td>\n",
              "    </tr>\n",
              "  </tbody>\n",
              "</table>\n",
              "</div>"
            ],
            "text/plain": [
              "   airport_id         city state                                 name\n",
              "0       10165  Adak Island    AK                                 Adak\n",
              "1       10299    Anchorage    AK  Ted Stevens Anchorage International\n",
              "2       10304        Aniak    AK                        Aniak Airport\n",
              "3       10754       Barrow    AK      Wiley Post/Will Rogers Memorial\n",
              "4       10551       Bethel    AK                       Bethel Airport"
            ]
          },
          "metadata": {
            "tags": []
          },
          "execution_count": 155
        }
      ]
    },
    {
      "metadata": {
        "id": "IyMY7jQy9OXq",
        "colab_type": "code",
        "outputId": "7b3bf06b-fa19-49ff-ddc9-fbc7deb6561e",
        "colab": {
          "base_uri": "https://localhost:8080/",
          "height": 35
        }
      },
      "cell_type": "code",
      "source": [
        "airports_df.columns"
      ],
      "execution_count": 0,
      "outputs": [
        {
          "output_type": "execute_result",
          "data": {
            "text/plain": [
              "Index(['airport_id', 'city', 'state', 'name'], dtype='object')"
            ]
          },
          "metadata": {
            "tags": []
          },
          "execution_count": 156
        }
      ]
    },
    {
      "metadata": {
        "id": "rutRi5To8K2J",
        "colab_type": "code",
        "outputId": "2f0faa5e-51be-4743-9cc2-71197e058887",
        "colab": {
          "base_uri": "https://localhost:8080/",
          "height": 243
        }
      },
      "cell_type": "code",
      "source": [
        "airports_df.columns = ['DestAirportID', 'city', 'state', 'name']\n",
        "start_time = time.time()\n",
        "airports_flights_df = flights_df.merge(airports_df, how=\"left\", on=\"DestAirportID\")\n",
        "print(airports_flights_df.groupby(\"city\")[\"city\"].agg([\"count\"]).sort_values(by=\"count\", ascending=False).head(10))\n",
        "print(\"--- {} seconds ---\".format(time.time() - start_time))"
      ],
      "execution_count": 0,
      "outputs": [
        {
          "output_type": "stream",
          "text": [
            "                    count\n",
            "city                     \n",
            "Chicago            177703\n",
            "Atlanta            150029\n",
            "Los Angeles        119062\n",
            "New York           118282\n",
            "Dallas/Fort Worth  104730\n",
            "Houston            103030\n",
            "Denver              97264\n",
            "Phoenix             90360\n",
            "San Francisco       84397\n",
            "Washington          81163\n",
            "--- 1.2761781215667725 seconds ---\n"
          ],
          "name": "stdout"
        }
      ]
    },
    {
      "metadata": {
        "id": "eMRhZBVjAlY3",
        "colab_type": "code",
        "outputId": "19d7c3c1-9a7c-4ea1-c92e-cfe11f8ae35f",
        "colab": {
          "base_uri": "https://localhost:8080/",
          "height": 378
        }
      },
      "cell_type": "code",
      "source": [
        "airports_flights_df.head(5)"
      ],
      "execution_count": 0,
      "outputs": [
        {
          "output_type": "execute_result",
          "data": {
            "text/html": [
              "<div>\n",
              "<style scoped>\n",
              "    .dataframe tbody tr th:only-of-type {\n",
              "        vertical-align: middle;\n",
              "    }\n",
              "\n",
              "    .dataframe tbody tr th {\n",
              "        vertical-align: top;\n",
              "    }\n",
              "\n",
              "    .dataframe thead th {\n",
              "        text-align: right;\n",
              "    }\n",
              "</style>\n",
              "<table border=\"1\" class=\"dataframe\">\n",
              "  <thead>\n",
              "    <tr style=\"text-align: right;\">\n",
              "      <th></th>\n",
              "      <th>DayofMonth</th>\n",
              "      <th>DayOfWeek</th>\n",
              "      <th>Carrier</th>\n",
              "      <th>OriginAirportID</th>\n",
              "      <th>DestAirportID</th>\n",
              "      <th>DepDelay</th>\n",
              "      <th>ArrDelay</th>\n",
              "      <th>city</th>\n",
              "      <th>state</th>\n",
              "      <th>name</th>\n",
              "    </tr>\n",
              "  </thead>\n",
              "  <tbody>\n",
              "    <tr>\n",
              "      <th>0</th>\n",
              "      <td>19</td>\n",
              "      <td>5</td>\n",
              "      <td>DL</td>\n",
              "      <td>11433</td>\n",
              "      <td>13303</td>\n",
              "      <td>-3.0</td>\n",
              "      <td>1.0</td>\n",
              "      <td>Miami</td>\n",
              "      <td>FL</td>\n",
              "      <td>Miami International</td>\n",
              "    </tr>\n",
              "    <tr>\n",
              "      <th>1</th>\n",
              "      <td>19</td>\n",
              "      <td>5</td>\n",
              "      <td>DL</td>\n",
              "      <td>14869</td>\n",
              "      <td>12478</td>\n",
              "      <td>0.0</td>\n",
              "      <td>-8.0</td>\n",
              "      <td>New York</td>\n",
              "      <td>NY</td>\n",
              "      <td>John F. Kennedy International</td>\n",
              "    </tr>\n",
              "    <tr>\n",
              "      <th>2</th>\n",
              "      <td>19</td>\n",
              "      <td>5</td>\n",
              "      <td>DL</td>\n",
              "      <td>14057</td>\n",
              "      <td>14869</td>\n",
              "      <td>-4.0</td>\n",
              "      <td>-15.0</td>\n",
              "      <td>Salt Lake City</td>\n",
              "      <td>UT</td>\n",
              "      <td>Salt Lake City International</td>\n",
              "    </tr>\n",
              "    <tr>\n",
              "      <th>3</th>\n",
              "      <td>19</td>\n",
              "      <td>5</td>\n",
              "      <td>DL</td>\n",
              "      <td>15016</td>\n",
              "      <td>11433</td>\n",
              "      <td>28.0</td>\n",
              "      <td>24.0</td>\n",
              "      <td>Detroit</td>\n",
              "      <td>MI</td>\n",
              "      <td>Detroit Metro Wayne County</td>\n",
              "    </tr>\n",
              "    <tr>\n",
              "      <th>4</th>\n",
              "      <td>19</td>\n",
              "      <td>5</td>\n",
              "      <td>DL</td>\n",
              "      <td>11193</td>\n",
              "      <td>12892</td>\n",
              "      <td>-6.0</td>\n",
              "      <td>-11.0</td>\n",
              "      <td>Los Angeles</td>\n",
              "      <td>CA</td>\n",
              "      <td>Los Angeles International</td>\n",
              "    </tr>\n",
              "  </tbody>\n",
              "</table>\n",
              "</div>"
            ],
            "text/plain": [
              "   DayofMonth  DayOfWeek Carrier  OriginAirportID  DestAirportID  DepDelay  \\\n",
              "0          19          5      DL            11433          13303      -3.0   \n",
              "1          19          5      DL            14869          12478       0.0   \n",
              "2          19          5      DL            14057          14869      -4.0   \n",
              "3          19          5      DL            15016          11433      28.0   \n",
              "4          19          5      DL            11193          12892      -6.0   \n",
              "\n",
              "   ArrDelay            city state                           name  \n",
              "0       1.0           Miami    FL            Miami International  \n",
              "1      -8.0        New York    NY  John F. Kennedy International  \n",
              "2     -15.0  Salt Lake City    UT   Salt Lake City International  \n",
              "3      24.0         Detroit    MI     Detroit Metro Wayne County  \n",
              "4     -11.0     Los Angeles    CA      Los Angeles International  "
            ]
          },
          "metadata": {
            "tags": []
          },
          "execution_count": 158
        }
      ]
    },
    {
      "metadata": {
        "id": "B_AJ5Q8GHVrQ",
        "colab_type": "code",
        "colab": {}
      },
      "cell_type": "code",
      "source": [
        ""
      ],
      "execution_count": 0,
      "outputs": []
    }
  ]
}