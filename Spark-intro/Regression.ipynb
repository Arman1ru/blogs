{
  "nbformat": 4,
  "nbformat_minor": 0,
  "metadata": {
    "colab": {
      "name": "Regression.ipynb",
      "version": "0.3.2",
      "provenance": [],
      "collapsed_sections": []
    },
    "kernelspec": {
      "name": "python3",
      "display_name": "Python 3"
    }
  },
  "cells": [
    {
      "metadata": {
        "id": "aHghBWOxubSQ",
        "colab_type": "text"
      },
      "cell_type": "markdown",
      "source": [
        "# Regression\n",
        "## Platform: Spark, colab.research.google.com"
      ]
    },
    {
      "metadata": {
        "id": "u1k0LFpfuX60",
        "colab_type": "code",
        "colab": {}
      },
      "cell_type": "code",
      "source": [
        "# Colab preinstalled packages\n",
        "import pandas as pd\n",
        "import time"
      ],
      "execution_count": 0,
      "outputs": []
    },
    {
      "metadata": {
        "id": "-jQwTWE6udPn",
        "colab_type": "code",
        "colab": {}
      },
      "cell_type": "code",
      "source": [
        "# install Spark\n",
        "!apt-get install openjdk-8-jdk-headless -qq > /dev/null\n",
        "!wget -q http://www-us.apache.org/dist/spark/spark-2.3.1/spark-2.3.1-bin-hadoop2.7.tgz\n",
        "!tar xf spark-2.3.1-bin-hadoop2.7.tgz\n",
        "!pip install -q findspark"
      ],
      "execution_count": 0,
      "outputs": []
    },
    {
      "metadata": {
        "id": "YKK21Zmkuny6",
        "colab_type": "code",
        "colab": {}
      },
      "cell_type": "code",
      "source": [
        "# init Spark\n",
        "import os\n",
        "os.environ[\"JAVA_HOME\"] = \"/usr/lib/jvm/java-8-openjdk-amd64\"\n",
        "os.environ[\"SPARK_HOME\"] = \"/content/spark-2.3.1-bin-hadoop2.7\"\n",
        "import findspark\n",
        "findspark.init()\n",
        "from pyspark.sql import SparkSession\n",
        "spark = SparkSession.builder.master(\"local[*]\").getOrCreate()"
      ],
      "execution_count": 0,
      "outputs": []
    },
    {
      "metadata": {
        "id": "t6058xncWK9g",
        "colab_type": "code",
        "colab": {}
      },
      "cell_type": "code",
      "source": [
        "from pyspark.ml.regression import LinearRegression\n",
        "from pyspark.ml.feature import VectorAssembler\n",
        "from pyspark.sql.functions import *\n",
        "from pyspark.sql.types import *"
      ],
      "execution_count": 0,
      "outputs": []
    },
    {
      "metadata": {
        "id": "VWj6KwZ3uqMT",
        "colab_type": "code",
        "outputId": "5d899a33-5ced-4812-d2de-9241b44b82bf",
        "colab": {
          "base_uri": "https://localhost:8080/",
          "height": 124
        }
      },
      "cell_type": "code",
      "source": [
        "from google.colab import drive\n",
        "drive.mount('/content/gdrive', force_remount=True)"
      ],
      "execution_count": 5,
      "outputs": [
        {
          "output_type": "stream",
          "text": [
            "Go to this URL in a browser: https://accounts.google.com/o/oauth2/auth?client_id=947318989803-6bn6qk8qdgf4n4g3pfee6491hc0brc4i.apps.googleusercontent.com&redirect_uri=urn%3Aietf%3Awg%3Aoauth%3A2.0%3Aoob&scope=email%20https%3A%2F%2Fwww.googleapis.com%2Fauth%2Fdocs.test%20https%3A%2F%2Fwww.googleapis.com%2Fauth%2Fdrive%20https%3A%2F%2Fwww.googleapis.com%2Fauth%2Fdrive.photos.readonly%20https%3A%2F%2Fwww.googleapis.com%2Fauth%2Fpeopleapi.readonly&response_type=code\n",
            "\n",
            "Enter your authorization code:\n",
            "··········\n",
            "Mounted at /content/gdrive\n"
          ],
          "name": "stdout"
        }
      ]
    },
    {
      "metadata": {
        "id": "tRXyPLJ2usHS",
        "colab_type": "code",
        "colab": {}
      },
      "cell_type": "code",
      "source": [
        "flights_dfs = spark.read.csv(\"/content/gdrive/My Drive/Colab Notebooks/SparkAzureTutorial/data/flights.csv\", header=True, inferSchema=True)"
      ],
      "execution_count": 0,
      "outputs": []
    },
    {
      "metadata": {
        "id": "RvhTuYofvR3D",
        "colab_type": "code",
        "outputId": "53102a69-1c7b-4192-b9f7-a76f35a59116",
        "colab": {
          "base_uri": "https://localhost:8080/",
          "height": 211
        }
      },
      "cell_type": "code",
      "source": [
        "flights_dfs.describe().show(5, False)"
      ],
      "execution_count": 7,
      "outputs": [
        {
          "output_type": "stream",
          "text": [
            "+-------+------------------+-----------------+-------+------------------+------------------+------------------+------------------+\n",
            "|summary|DayofMonth        |DayOfWeek        |Carrier|OriginAirportID   |DestAirportID     |DepDelay          |ArrDelay          |\n",
            "+-------+------------------+-----------------+-------+------------------+------------------+------------------+------------------+\n",
            "|count  |2702218           |2702218          |2702218|2702218           |2702218           |2702218           |2702218           |\n",
            "|mean   |15.797897875004903|3.899480352806472|null   |12742.597593162358|12743.000197985506|10.510732294729737|6.6550108096386005|\n",
            "|stddev |8.7988350691642   |1.985924603367557|null   |1501.8408475102513|1501.8014309297723|36.02975608466093 |38.547584236791245|\n",
            "|min    |1                 |1                |9E     |10140             |10140             |-63               |-94               |\n",
            "|max    |31                |7                |YV     |15376             |15376             |1863              |1845              |\n",
            "+-------+------------------+-----------------+-------+------------------+------------------+------------------+------------------+\n",
            "\n"
          ],
          "name": "stdout"
        }
      ]
    },
    {
      "metadata": {
        "id": "dztq1GpJvo6G",
        "colab_type": "code",
        "outputId": "631efdfd-5043-48b1-b48b-65fda1744bcf",
        "colab": {
          "base_uri": "https://localhost:8080/",
          "height": 208
        }
      },
      "cell_type": "code",
      "source": [
        "data = flights_dfs.select(\"DayOfMonth\", \"DayOfWeek\", \"OriginAirportID\", \"DestAirportID\", \"DepDelay\", \"ArrDelay\")\n",
        "data.show(5)"
      ],
      "execution_count": 8,
      "outputs": [
        {
          "output_type": "stream",
          "text": [
            "+----------+---------+---------------+-------------+--------+--------+\n",
            "|DayOfMonth|DayOfWeek|OriginAirportID|DestAirportID|DepDelay|ArrDelay|\n",
            "+----------+---------+---------------+-------------+--------+--------+\n",
            "|        19|        5|          11433|        13303|      -3|       1|\n",
            "|        19|        5|          14869|        12478|       0|      -8|\n",
            "|        19|        5|          14057|        14869|      -4|     -15|\n",
            "|        19|        5|          15016|        11433|      28|      24|\n",
            "|        19|        5|          11193|        12892|      -6|     -11|\n",
            "+----------+---------+---------------+-------------+--------+--------+\n",
            "only showing top 5 rows\n",
            "\n"
          ],
          "name": "stdout"
        }
      ]
    },
    {
      "metadata": {
        "id": "MkBPxthLwrSg",
        "colab_type": "code",
        "outputId": "79fd3c1d-a2e4-4aad-c9a8-e05e250d6c64",
        "colab": {
          "base_uri": "https://localhost:8080/",
          "height": 35
        }
      },
      "cell_type": "code",
      "source": [
        "splits = data.randomSplit([0.7, 0.3])\n",
        "train = splits[0]\n",
        "test = splits[1]\n",
        "print(\"Train len: {}, test len: {}\".format(train.count(), test.count()))"
      ],
      "execution_count": 9,
      "outputs": [
        {
          "output_type": "stream",
          "text": [
            "Train len: 1891958, test len: 810260\n"
          ],
          "name": "stdout"
        }
      ]
    },
    {
      "metadata": {
        "id": "xCII-CeQyyQZ",
        "colab_type": "code",
        "outputId": "305f9244-6a9d-47c3-b0b3-8639a2ca47ae",
        "colab": {
          "base_uri": "https://localhost:8080/",
          "height": 208
        }
      },
      "cell_type": "code",
      "source": [
        "assembler = VectorAssembler(inputCols = [\"DayOfMonth\", \"DayOfWeek\", \"OriginAirportID\", \"DestAirportID\", \"DepDelay\"], outputCol=\"features\")\n",
        "training = assembler.transform(train).select(col(\"features\"), col(\"ArrDelay\").alias(\"label\"))\n",
        "training.show(5, truncate=False)"
      ],
      "execution_count": 10,
      "outputs": [
        {
          "output_type": "stream",
          "text": [
            "+------------------------------+-----+\n",
            "|features                      |label|\n",
            "+------------------------------+-----+\n",
            "|[1.0,1.0,10140.0,10397.0,-4.0]|-11  |\n",
            "|[1.0,1.0,10140.0,10397.0,-2.0]|-18  |\n",
            "|[1.0,1.0,10140.0,10397.0,-2.0]|-17  |\n",
            "|[1.0,1.0,10140.0,10821.0,4.0] |4    |\n",
            "|[1.0,1.0,10140.0,10821.0,8.0] |-9   |\n",
            "+------------------------------+-----+\n",
            "only showing top 5 rows\n",
            "\n"
          ],
          "name": "stdout"
        }
      ]
    },
    {
      "metadata": {
        "id": "ls4aFGAsZ-nI",
        "colab_type": "code",
        "outputId": "4f43f6be-ba34-49d5-e90d-4c13f4ce2969",
        "colab": {
          "base_uri": "https://localhost:8080/",
          "height": 208
        }
      },
      "cell_type": "code",
      "source": [
        "testing = assembler.transform(test).select(col(\"features\"), col(\"ArrDelay\").alias(\"label\"))\n",
        "testing.show(5, truncate=False)"
      ],
      "execution_count": 11,
      "outputs": [
        {
          "output_type": "stream",
          "text": [
            "+------------------------------+-----+\n",
            "|features                      |label|\n",
            "+------------------------------+-----+\n",
            "|[1.0,1.0,10140.0,10397.0,0.0] |-12  |\n",
            "|[1.0,1.0,10140.0,10397.0,0.0] |-9   |\n",
            "|[1.0,1.0,10140.0,11292.0,-8.0]|-6   |\n",
            "|[1.0,1.0,10140.0,11292.0,-2.0]|-5   |\n",
            "|[1.0,1.0,10140.0,11292.0,2.0] |-1   |\n",
            "+------------------------------+-----+\n",
            "only showing top 5 rows\n",
            "\n"
          ],
          "name": "stdout"
        }
      ]
    },
    {
      "metadata": {
        "id": "w5t99FgXWOkU",
        "colab_type": "code",
        "colab": {
          "base_uri": "https://localhost:8080/",
          "height": 52
        },
        "outputId": "e940f3b5-5f6e-4565-e6cb-b2754d0a33c3"
      },
      "cell_type": "code",
      "source": [
        "model = LinearRegression(labelCol=\"label\", featuresCol=\"features\", maxIter=10, regParam=0.3)\n",
        "print(\"Training model...\")\n",
        "start_time = time.time()\n",
        "model = model.fit(training)\n",
        "print(\"... training finished in {} seconds ---\".format(time.time() - start_time))"
      ],
      "execution_count": 14,
      "outputs": [
        {
          "output_type": "stream",
          "text": [
            "Training model...\n",
            "... training finished in 43.0670280456543 seconds ---\n"
          ],
          "name": "stdout"
        }
      ]
    },
    {
      "metadata": {
        "id": "ujCtbZeZZy_X",
        "colab_type": "code",
        "outputId": "e698272b-6899-4034-f602-c8a1d50d4020",
        "colab": {
          "base_uri": "https://localhost:8080/",
          "height": 208
        }
      },
      "cell_type": "code",
      "source": [
        "prediction = model.transform(testing)\n",
        "predicted = prediction.select(\"features\", \"label\", \"prediction\")\n",
        "predicted.show(5, truncate=False)"
      ],
      "execution_count": 15,
      "outputs": [
        {
          "output_type": "stream",
          "text": [
            "+------------------------------+-----+-------------------+\n",
            "|features                      |label|prediction         |\n",
            "+------------------------------+-----+-------------------+\n",
            "|[1.0,1.0,10140.0,10397.0,0.0] |-12  |-3.5583082357840894|\n",
            "|[1.0,1.0,10140.0,10397.0,0.0] |-9   |-3.5583082357840894|\n",
            "|[1.0,1.0,10140.0,11292.0,-8.0]|-6   |-11.749332091922902|\n",
            "|[1.0,1.0,10140.0,11292.0,-2.0]|-5   |-5.761708393183558 |\n",
            "|[1.0,1.0,10140.0,11292.0,2.0] |-1   |-1.7699592606906616|\n",
            "+------------------------------+-----+-------------------+\n",
            "only showing top 5 rows\n",
            "\n"
          ],
          "name": "stdout"
        }
      ]
    },
    {
      "metadata": {
        "id": "8H1_kqONarKD",
        "colab_type": "code",
        "outputId": "1363591e-387f-4057-98f3-bc7c786b8578",
        "colab": {
          "base_uri": "https://localhost:8080/",
          "height": 52
        }
      },
      "cell_type": "code",
      "source": [
        "trainingSummary = model.summary\n",
        "rmse = trainingSummary.rootMeanSquaredError\n",
        "r2 = trainingSummary.r2\n",
        "print(\"RMSE: {}\".format(rmse))\n",
        "print(\"R2: {}\".format(r2))"
      ],
      "execution_count": 16,
      "outputs": [
        {
          "output_type": "stream",
          "text": [
            "RMSE: 13.216181590888775\n",
            "R2: 0.8825939547575687\n"
          ],
          "name": "stdout"
        }
      ]
    },
    {
      "metadata": {
        "id": "OPKCmhoRBBTO",
        "colab_type": "text"
      },
      "cell_type": "markdown",
      "source": [
        "## Platform: Pandas, scikit-learn, colab.research.google.com"
      ]
    },
    {
      "metadata": {
        "id": "wjUBSNiKNF-g",
        "colab_type": "code",
        "colab": {}
      },
      "cell_type": "code",
      "source": [
        "from sklearn.linear_model import LinearRegression\n",
        "from sklearn.metrics import mean_squared_error, r2_score\n",
        "from sklearn.model_selection import train_test_split"
      ],
      "execution_count": 0,
      "outputs": []
    },
    {
      "metadata": {
        "id": "r9MtmZ7-BFOx",
        "colab_type": "code",
        "outputId": "ff8eb41a-bf82-4e75-e136-c6e68db26e02",
        "colab": {
          "base_uri": "https://localhost:8080/",
          "height": 314
        }
      },
      "cell_type": "code",
      "source": [
        "flights_df = flights_dfs.toPandas()\n",
        "flights_df.describe()"
      ],
      "execution_count": 18,
      "outputs": [
        {
          "output_type": "execute_result",
          "data": {
            "text/html": [
              "<div>\n",
              "<style scoped>\n",
              "    .dataframe tbody tr th:only-of-type {\n",
              "        vertical-align: middle;\n",
              "    }\n",
              "\n",
              "    .dataframe tbody tr th {\n",
              "        vertical-align: top;\n",
              "    }\n",
              "\n",
              "    .dataframe thead th {\n",
              "        text-align: right;\n",
              "    }\n",
              "</style>\n",
              "<table border=\"1\" class=\"dataframe\">\n",
              "  <thead>\n",
              "    <tr style=\"text-align: right;\">\n",
              "      <th></th>\n",
              "      <th>DayofMonth</th>\n",
              "      <th>DayOfWeek</th>\n",
              "      <th>OriginAirportID</th>\n",
              "      <th>DestAirportID</th>\n",
              "      <th>DepDelay</th>\n",
              "      <th>ArrDelay</th>\n",
              "    </tr>\n",
              "  </thead>\n",
              "  <tbody>\n",
              "    <tr>\n",
              "      <th>count</th>\n",
              "      <td>2.702218e+06</td>\n",
              "      <td>2.702218e+06</td>\n",
              "      <td>2.702218e+06</td>\n",
              "      <td>2.702218e+06</td>\n",
              "      <td>2.702218e+06</td>\n",
              "      <td>2.702218e+06</td>\n",
              "    </tr>\n",
              "    <tr>\n",
              "      <th>mean</th>\n",
              "      <td>1.579790e+01</td>\n",
              "      <td>3.899480e+00</td>\n",
              "      <td>1.274260e+04</td>\n",
              "      <td>1.274300e+04</td>\n",
              "      <td>1.051073e+01</td>\n",
              "      <td>6.655011e+00</td>\n",
              "    </tr>\n",
              "    <tr>\n",
              "      <th>std</th>\n",
              "      <td>8.798835e+00</td>\n",
              "      <td>1.985925e+00</td>\n",
              "      <td>1.501841e+03</td>\n",
              "      <td>1.501801e+03</td>\n",
              "      <td>3.602976e+01</td>\n",
              "      <td>3.854758e+01</td>\n",
              "    </tr>\n",
              "    <tr>\n",
              "      <th>min</th>\n",
              "      <td>1.000000e+00</td>\n",
              "      <td>1.000000e+00</td>\n",
              "      <td>1.014000e+04</td>\n",
              "      <td>1.014000e+04</td>\n",
              "      <td>-6.300000e+01</td>\n",
              "      <td>-9.400000e+01</td>\n",
              "    </tr>\n",
              "    <tr>\n",
              "      <th>25%</th>\n",
              "      <td>8.000000e+00</td>\n",
              "      <td>2.000000e+00</td>\n",
              "      <td>1.129200e+04</td>\n",
              "      <td>1.129200e+04</td>\n",
              "      <td>-4.000000e+00</td>\n",
              "      <td>-1.100000e+01</td>\n",
              "    </tr>\n",
              "    <tr>\n",
              "      <th>50%</th>\n",
              "      <td>1.600000e+01</td>\n",
              "      <td>4.000000e+00</td>\n",
              "      <td>1.289200e+04</td>\n",
              "      <td>1.289200e+04</td>\n",
              "      <td>-1.000000e+00</td>\n",
              "      <td>-3.000000e+00</td>\n",
              "    </tr>\n",
              "    <tr>\n",
              "      <th>75%</th>\n",
              "      <td>2.300000e+01</td>\n",
              "      <td>6.000000e+00</td>\n",
              "      <td>1.405700e+04</td>\n",
              "      <td>1.405700e+04</td>\n",
              "      <td>9.000000e+00</td>\n",
              "      <td>1.000000e+01</td>\n",
              "    </tr>\n",
              "    <tr>\n",
              "      <th>max</th>\n",
              "      <td>3.100000e+01</td>\n",
              "      <td>7.000000e+00</td>\n",
              "      <td>1.537600e+04</td>\n",
              "      <td>1.537600e+04</td>\n",
              "      <td>1.863000e+03</td>\n",
              "      <td>1.845000e+03</td>\n",
              "    </tr>\n",
              "  </tbody>\n",
              "</table>\n",
              "</div>"
            ],
            "text/plain": [
              "         DayofMonth     DayOfWeek  OriginAirportID  DestAirportID  \\\n",
              "count  2.702218e+06  2.702218e+06     2.702218e+06   2.702218e+06   \n",
              "mean   1.579790e+01  3.899480e+00     1.274260e+04   1.274300e+04   \n",
              "std    8.798835e+00  1.985925e+00     1.501841e+03   1.501801e+03   \n",
              "min    1.000000e+00  1.000000e+00     1.014000e+04   1.014000e+04   \n",
              "25%    8.000000e+00  2.000000e+00     1.129200e+04   1.129200e+04   \n",
              "50%    1.600000e+01  4.000000e+00     1.289200e+04   1.289200e+04   \n",
              "75%    2.300000e+01  6.000000e+00     1.405700e+04   1.405700e+04   \n",
              "max    3.100000e+01  7.000000e+00     1.537600e+04   1.537600e+04   \n",
              "\n",
              "           DepDelay      ArrDelay  \n",
              "count  2.702218e+06  2.702218e+06  \n",
              "mean   1.051073e+01  6.655011e+00  \n",
              "std    3.602976e+01  3.854758e+01  \n",
              "min   -6.300000e+01 -9.400000e+01  \n",
              "25%   -4.000000e+00 -1.100000e+01  \n",
              "50%   -1.000000e+00 -3.000000e+00  \n",
              "75%    9.000000e+00  1.000000e+01  \n",
              "max    1.863000e+03  1.845000e+03  "
            ]
          },
          "metadata": {
            "tags": []
          },
          "execution_count": 18
        }
      ]
    },
    {
      "metadata": {
        "id": "DHQoiNlfE3hA",
        "colab_type": "code",
        "colab": {}
      },
      "cell_type": "code",
      "source": [
        "X = flights_df.loc[:, [\"DayofMonth\", \"DayOfWeek\", \"OriginAirportID\", \"DestAirportID\", \"DepDelay\"]]\n",
        "y = flights_df.loc[:, \"ArrDelay\"]\n",
        "X_train, X_test, y_train, y_test = train_test_split(\n",
        "    X, y, test_size=0.3, random_state=42)"
      ],
      "execution_count": 0,
      "outputs": []
    },
    {
      "metadata": {
        "id": "8ROPbLURW01V",
        "colab_type": "code",
        "colab": {
          "base_uri": "https://localhost:8080/",
          "height": 52
        },
        "outputId": "f8025d32-40b2-46d4-983b-baac56c51a73"
      },
      "cell_type": "code",
      "source": [
        "print(\"Training model...\")\n",
        "start_time = time.time()\n",
        "model = LinearRegression().fit(X_train, y_train)\n",
        "print(\"... training finished in {} seconds ---\".format(time.time() - start_time))\n",
        "y_pred = model.predict(X_test)"
      ],
      "execution_count": 20,
      "outputs": [
        {
          "output_type": "stream",
          "text": [
            "Training model...\n",
            "... training finished in 0.35336780548095703 seconds ---\n"
          ],
          "name": "stdout"
        }
      ]
    },
    {
      "metadata": {
        "id": "cEDD_5BLbzSU",
        "colab_type": "code",
        "outputId": "641c97ea-0bb8-4643-9940-468d7f9a8c01",
        "colab": {
          "base_uri": "https://localhost:8080/",
          "height": 222
        }
      },
      "cell_type": "code",
      "source": [
        "predicted = pd.DataFrame(X_test)\n",
        "predicted = pd.concat([predicted, \n",
        "                       pd.DataFrame(y_test, index=y_test.index), \n",
        "                       pd.DataFrame(y_pred, index=y_test.index)], \n",
        "                      axis=1, ignore_index=True)\n",
        "predicted.columns = list(X.columns) + [\"label\"] + [\"y_pred\"]\n",
        "predicted.head(5)"
      ],
      "execution_count": 21,
      "outputs": [
        {
          "output_type": "execute_result",
          "data": {
            "text/html": [
              "<div>\n",
              "<style scoped>\n",
              "    .dataframe tbody tr th:only-of-type {\n",
              "        vertical-align: middle;\n",
              "    }\n",
              "\n",
              "    .dataframe tbody tr th {\n",
              "        vertical-align: top;\n",
              "    }\n",
              "\n",
              "    .dataframe thead th {\n",
              "        text-align: right;\n",
              "    }\n",
              "</style>\n",
              "<table border=\"1\" class=\"dataframe\">\n",
              "  <thead>\n",
              "    <tr style=\"text-align: right;\">\n",
              "      <th></th>\n",
              "      <th>DayofMonth</th>\n",
              "      <th>DayOfWeek</th>\n",
              "      <th>OriginAirportID</th>\n",
              "      <th>DestAirportID</th>\n",
              "      <th>DepDelay</th>\n",
              "      <th>label</th>\n",
              "      <th>y_pred</th>\n",
              "    </tr>\n",
              "  </thead>\n",
              "  <tbody>\n",
              "    <tr>\n",
              "      <th>2159824</th>\n",
              "      <td>6</td>\n",
              "      <td>5</td>\n",
              "      <td>10821</td>\n",
              "      <td>11292</td>\n",
              "      <td>10</td>\n",
              "      <td>-17</td>\n",
              "      <td>5.834453</td>\n",
              "    </tr>\n",
              "    <tr>\n",
              "      <th>632083</th>\n",
              "      <td>16</td>\n",
              "      <td>4</td>\n",
              "      <td>15304</td>\n",
              "      <td>14843</td>\n",
              "      <td>4</td>\n",
              "      <td>-8</td>\n",
              "      <td>0.132481</td>\n",
              "    </tr>\n",
              "    <tr>\n",
              "      <th>115502</th>\n",
              "      <td>27</td>\n",
              "      <td>6</td>\n",
              "      <td>10821</td>\n",
              "      <td>13303</td>\n",
              "      <td>-8</td>\n",
              "      <td>-21</td>\n",
              "      <td>-12.630798</td>\n",
              "    </tr>\n",
              "    <tr>\n",
              "      <th>2577846</th>\n",
              "      <td>2</td>\n",
              "      <td>3</td>\n",
              "      <td>14492</td>\n",
              "      <td>15304</td>\n",
              "      <td>-2</td>\n",
              "      <td>-11</td>\n",
              "      <td>-6.182267</td>\n",
              "    </tr>\n",
              "    <tr>\n",
              "      <th>1194206</th>\n",
              "      <td>8</td>\n",
              "      <td>1</td>\n",
              "      <td>12266</td>\n",
              "      <td>14122</td>\n",
              "      <td>14</td>\n",
              "      <td>11</td>\n",
              "      <td>10.058543</td>\n",
              "    </tr>\n",
              "  </tbody>\n",
              "</table>\n",
              "</div>"
            ],
            "text/plain": [
              "         DayofMonth  DayOfWeek  OriginAirportID  DestAirportID  DepDelay  \\\n",
              "2159824           6          5            10821          11292        10   \n",
              "632083           16          4            15304          14843         4   \n",
              "115502           27          6            10821          13303        -8   \n",
              "2577846           2          3            14492          15304        -2   \n",
              "1194206           8          1            12266          14122        14   \n",
              "\n",
              "         label     y_pred  \n",
              "2159824    -17   5.834453  \n",
              "632083      -8   0.132481  \n",
              "115502     -21 -12.630798  \n",
              "2577846    -11  -6.182267  \n",
              "1194206     11  10.058543  "
            ]
          },
          "metadata": {
            "tags": []
          },
          "execution_count": 21
        }
      ]
    },
    {
      "metadata": {
        "id": "AVUtzmXPiK9D",
        "colab_type": "code",
        "outputId": "857393cb-71d5-480f-f3da-b69be6f85934",
        "colab": {
          "base_uri": "https://localhost:8080/",
          "height": 52
        }
      },
      "cell_type": "code",
      "source": [
        "rmse = mean_squared_error(y_test, y_pred) ** 0.5\n",
        "r2 = r2_score(y_test, y_pred)\n",
        "assert r2 == model.score(X_test, y_test)\n",
        "print(\"RMSE: {}\".format(rmse))\n",
        "print(\"R2: {}\".format(r2))"
      ],
      "execution_count": 22,
      "outputs": [
        {
          "output_type": "stream",
          "text": [
            "RMSE: 13.160356997190407\n",
            "R2: 0.8836323895450338\n"
          ],
          "name": "stdout"
        }
      ]
    },
    {
      "metadata": {
        "id": "m6sxI_ujR-Cq",
        "colab_type": "text"
      },
      "cell_type": "markdown",
      "source": [
        "### Reusing Spark split data to compare metrics"
      ]
    },
    {
      "metadata": {
        "id": "dSYex3KrR9eJ",
        "colab_type": "code",
        "colab": {}
      },
      "cell_type": "code",
      "source": [
        "train_df = train.toPandas()\n",
        "test_df = test.toPandas()"
      ],
      "execution_count": 0,
      "outputs": []
    },
    {
      "metadata": {
        "id": "X5v9pDyYSiaG",
        "colab_type": "code",
        "colab": {}
      },
      "cell_type": "code",
      "source": [
        "X_train = train_df.drop(\"ArrDelay\", axis=1)\n",
        "y_train = train_df[\"ArrDelay\"]\n",
        "X_test = test_df.drop(\"ArrDelay\", axis=1)\n",
        "y_test = test_df[\"ArrDelay\"]"
      ],
      "execution_count": 0,
      "outputs": []
    },
    {
      "metadata": {
        "id": "a95Y3ELJTbXu",
        "colab_type": "code",
        "colab": {
          "base_uri": "https://localhost:8080/",
          "height": 52
        },
        "outputId": "a2f586d2-1ef8-4a99-f0e5-1392978b6c01"
      },
      "cell_type": "code",
      "source": [
        "print(\"Training model...\")\n",
        "start_time = time.time()\n",
        "model = LinearRegression().fit(X_train, y_train)\n",
        "print(\"... training finished in {} seconds ---\".format(time.time() - start_time))\n",
        "y_pred = model.predict(X_test)"
      ],
      "execution_count": 25,
      "outputs": [
        {
          "output_type": "stream",
          "text": [
            "Training model...\n",
            "... training finished in 0.31351709365844727 seconds ---\n"
          ],
          "name": "stdout"
        }
      ]
    },
    {
      "metadata": {
        "id": "Wzp7oU1Xi6cj",
        "colab_type": "code",
        "outputId": "664f6e8d-d4a5-4907-f4de-97cfa75e707b",
        "colab": {
          "base_uri": "https://localhost:8080/",
          "height": 202
        }
      },
      "cell_type": "code",
      "source": [
        "predicted = pd.DataFrame(X_test)\n",
        "predicted = pd.concat([predicted, \n",
        "                       pd.DataFrame(y_test, index=y_test.index), \n",
        "                       pd.DataFrame(y_pred, index=y_test.index)], \n",
        "                      axis=1, ignore_index=True)\n",
        "predicted.columns = list(X.columns) + [\"label\"] + [\"y_pred\"]\n",
        "predicted.head(5)"
      ],
      "execution_count": 26,
      "outputs": [
        {
          "output_type": "execute_result",
          "data": {
            "text/html": [
              "<div>\n",
              "<style scoped>\n",
              "    .dataframe tbody tr th:only-of-type {\n",
              "        vertical-align: middle;\n",
              "    }\n",
              "\n",
              "    .dataframe tbody tr th {\n",
              "        vertical-align: top;\n",
              "    }\n",
              "\n",
              "    .dataframe thead th {\n",
              "        text-align: right;\n",
              "    }\n",
              "</style>\n",
              "<table border=\"1\" class=\"dataframe\">\n",
              "  <thead>\n",
              "    <tr style=\"text-align: right;\">\n",
              "      <th></th>\n",
              "      <th>DayofMonth</th>\n",
              "      <th>DayOfWeek</th>\n",
              "      <th>OriginAirportID</th>\n",
              "      <th>DestAirportID</th>\n",
              "      <th>DepDelay</th>\n",
              "      <th>label</th>\n",
              "      <th>y_pred</th>\n",
              "    </tr>\n",
              "  </thead>\n",
              "  <tbody>\n",
              "    <tr>\n",
              "      <th>0</th>\n",
              "      <td>1</td>\n",
              "      <td>1</td>\n",
              "      <td>10140</td>\n",
              "      <td>10397</td>\n",
              "      <td>0</td>\n",
              "      <td>-12</td>\n",
              "      <td>-3.644583</td>\n",
              "    </tr>\n",
              "    <tr>\n",
              "      <th>1</th>\n",
              "      <td>1</td>\n",
              "      <td>1</td>\n",
              "      <td>10140</td>\n",
              "      <td>10397</td>\n",
              "      <td>0</td>\n",
              "      <td>-9</td>\n",
              "      <td>-3.644583</td>\n",
              "    </tr>\n",
              "    <tr>\n",
              "      <th>2</th>\n",
              "      <td>1</td>\n",
              "      <td>1</td>\n",
              "      <td>10140</td>\n",
              "      <td>11292</td>\n",
              "      <td>-8</td>\n",
              "      <td>-6</td>\n",
              "      <td>-11.900143</td>\n",
              "    </tr>\n",
              "    <tr>\n",
              "      <th>3</th>\n",
              "      <td>1</td>\n",
              "      <td>1</td>\n",
              "      <td>10140</td>\n",
              "      <td>11292</td>\n",
              "      <td>-2</td>\n",
              "      <td>-5</td>\n",
              "      <td>-5.865919</td>\n",
              "    </tr>\n",
              "    <tr>\n",
              "      <th>4</th>\n",
              "      <td>1</td>\n",
              "      <td>1</td>\n",
              "      <td>10140</td>\n",
              "      <td>11292</td>\n",
              "      <td>2</td>\n",
              "      <td>-1</td>\n",
              "      <td>-1.843104</td>\n",
              "    </tr>\n",
              "  </tbody>\n",
              "</table>\n",
              "</div>"
            ],
            "text/plain": [
              "   DayofMonth  DayOfWeek  OriginAirportID  DestAirportID  DepDelay  label  \\\n",
              "0           1          1            10140          10397         0    -12   \n",
              "1           1          1            10140          10397         0     -9   \n",
              "2           1          1            10140          11292        -8     -6   \n",
              "3           1          1            10140          11292        -2     -5   \n",
              "4           1          1            10140          11292         2     -1   \n",
              "\n",
              "      y_pred  \n",
              "0  -3.644583  \n",
              "1  -3.644583  \n",
              "2 -11.900143  \n",
              "3  -5.865919  \n",
              "4  -1.843104  "
            ]
          },
          "metadata": {
            "tags": []
          },
          "execution_count": 26
        }
      ]
    },
    {
      "metadata": {
        "id": "sFboSDqxi8ja",
        "colab_type": "code",
        "outputId": "5dbb76c9-5b84-4d92-a97f-cfcefaf68a55",
        "colab": {
          "base_uri": "https://localhost:8080/",
          "height": 52
        }
      },
      "cell_type": "code",
      "source": [
        "rmse = mean_squared_error(y_test, y_pred) ** 0.5\n",
        "r2 = r2_score(y_test, y_pred)\n",
        "assert r2 == model.score(X_test, y_test)\n",
        "print(\"RMSE: {}\".format(rmse))\n",
        "print(\"R2: {}\".format(r2))"
      ],
      "execution_count": 27,
      "outputs": [
        {
          "output_type": "stream",
          "text": [
            "RMSE: 13.232373510294558\n",
            "R2: 0.8818278251240874\n"
          ],
          "name": "stdout"
        }
      ]
    },
    {
      "metadata": {
        "id": "bwVQexRbi-gD",
        "colab_type": "code",
        "colab": {}
      },
      "cell_type": "code",
      "source": [
        ""
      ],
      "execution_count": 0,
      "outputs": []
    }
  ]
}