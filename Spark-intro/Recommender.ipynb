{
  "nbformat": 4,
  "nbformat_minor": 0,
  "metadata": {
    "colab": {
      "name": "Recommender.ipynb",
      "version": "0.3.2",
      "provenance": [],
      "collapsed_sections": []
    },
    "kernelspec": {
      "name": "python3",
      "display_name": "Python 3"
    }
  },
  "cells": [
    {
      "metadata": {
        "id": "aHghBWOxubSQ",
        "colab_type": "text"
      },
      "cell_type": "markdown",
      "source": [
        "# Recommender\n",
        "## Platform: Spark, colab.research.google.com"
      ]
    },
    {
      "metadata": {
        "id": "-jQwTWE6udPn",
        "colab_type": "code",
        "colab": {}
      },
      "cell_type": "code",
      "source": [
        "# install Spark\n",
        "!apt-get install openjdk-8-jdk-headless -qq > /dev/null\n",
        "!wget -q http://www-us.apache.org/dist/spark/spark-2.3.1/spark-2.3.1-bin-hadoop2.7.tgz\n",
        "!tar xf spark-2.3.1-bin-hadoop2.7.tgz\n",
        "!pip install -q findspark"
      ],
      "execution_count": 0,
      "outputs": []
    },
    {
      "metadata": {
        "id": "YKK21Zmkuny6",
        "colab_type": "code",
        "colab": {}
      },
      "cell_type": "code",
      "source": [
        "# init Spark\n",
        "import os\n",
        "os.environ[\"JAVA_HOME\"] = \"/usr/lib/jvm/java-8-openjdk-amd64\"\n",
        "os.environ[\"SPARK_HOME\"] = \"/content/spark-2.3.1-bin-hadoop2.7\"\n",
        "import findspark\n",
        "findspark.init()\n",
        "from pyspark.sql import SparkSession\n",
        "spark = SparkSession.builder.master(\"local[*]\").getOrCreate()"
      ],
      "execution_count": 0,
      "outputs": []
    },
    {
      "metadata": {
        "id": "t6058xncWK9g",
        "colab_type": "code",
        "colab": {}
      },
      "cell_type": "code",
      "source": [
        "import pandas as pd\n",
        "import time\n",
        "\n",
        "from pyspark.ml.recommendation import ALS"
      ],
      "execution_count": 0,
      "outputs": []
    },
    {
      "metadata": {
        "id": "VWj6KwZ3uqMT",
        "colab_type": "code",
        "outputId": "077bc721-025b-499c-cfa9-a8493ad39b2a",
        "colab": {
          "base_uri": "https://localhost:8080/",
          "height": 124
        }
      },
      "cell_type": "code",
      "source": [
        "from google.colab import drive\n",
        "drive.mount('/content/gdrive', force_remount=True)"
      ],
      "execution_count": 4,
      "outputs": [
        {
          "output_type": "stream",
          "text": [
            "Go to this URL in a browser: https://accounts.google.com/o/oauth2/auth?client_id=947318989803-6bn6qk8qdgf4n4g3pfee6491hc0brc4i.apps.googleusercontent.com&redirect_uri=urn%3Aietf%3Awg%3Aoauth%3A2.0%3Aoob&scope=email%20https%3A%2F%2Fwww.googleapis.com%2Fauth%2Fdocs.test%20https%3A%2F%2Fwww.googleapis.com%2Fauth%2Fdrive%20https%3A%2F%2Fwww.googleapis.com%2Fauth%2Fdrive.photos.readonly%20https%3A%2F%2Fwww.googleapis.com%2Fauth%2Fpeopleapi.readonly&response_type=code\n",
            "\n",
            "Enter your authorization code:\n",
            "··········\n",
            "Mounted at /content/gdrive\n"
          ],
          "name": "stdout"
        }
      ]
    },
    {
      "metadata": {
        "id": "tRXyPLJ2usHS",
        "colab_type": "code",
        "outputId": "9199c8b0-f06f-48bd-c043-7d74bd8242ce",
        "colab": {
          "base_uri": "https://localhost:8080/",
          "height": 228
        }
      },
      "cell_type": "code",
      "source": [
        "ratings = spark.read.csv(\"/content/gdrive/My Drive/Colab Notebooks/SparkAzureTutorial/data/ratings.csv\", header=True, inferSchema=True)\n",
        "movies = spark.read.csv(\"/content/gdrive/My Drive/Colab Notebooks/SparkAzureTutorial/data/movies.csv\", header=True, inferSchema=True)\n",
        "ratings.join(movies, \"movieId\").show(5, False)"
      ],
      "execution_count": 5,
      "outputs": [
        {
          "output_type": "stream",
          "text": [
            "+-------+------+------+----------+----------------------------------------------+--------------------------------+\n",
            "|movieId|userId|rating|timestamp |title                                         |genres                          |\n",
            "+-------+------+------+----------+----------------------------------------------+--------------------------------+\n",
            "|31     |1     |2.5   |1260759144|Dangerous Minds (1995)                        |Drama                           |\n",
            "|1029   |1     |3.0   |1260759179|Dumbo (1941)                                  |Animation|Children|Drama|Musical|\n",
            "|1061   |1     |3.0   |1260759182|Sleepers (1996)                               |Thriller                        |\n",
            "|1129   |1     |2.0   |1260759185|Escape from New York (1981)                   |Action|Adventure|Sci-Fi|Thriller|\n",
            "|1172   |1     |4.0   |1260759205|Cinema Paradiso (Nuovo cinema Paradiso) (1989)|Drama                           |\n",
            "+-------+------+------+----------+----------------------------------------------+--------------------------------+\n",
            "only showing top 5 rows\n",
            "\n"
          ],
          "name": "stdout"
        }
      ]
    },
    {
      "metadata": {
        "id": "31omrYSq2_dP",
        "colab_type": "code",
        "colab": {
          "base_uri": "https://localhost:8080/",
          "height": 35
        },
        "outputId": "8f81a2db-77ec-4a9f-8921-1c38cdfdc8a5"
      },
      "cell_type": "code",
      "source": [
        "data = ratings.select(\"userId\", \"movieId\", \"rating\")\n",
        "splits = data.randomSplit([0.7, 0.3])\n",
        "train = splits[0].withColumnRenamed(\"rating\", \"label\")\n",
        "test = splits[1].withColumnRenamed(\"rating\", \"trueLabel\")\n",
        "train_rows = train.count()\n",
        "test_rows = test.count()\n",
        "print(\"Training Rows:\", train_rows, \" Testing Rows:\", test_rows)"
      ],
      "execution_count": 6,
      "outputs": [
        {
          "output_type": "stream",
          "text": [
            "Training Rows: 69848  Testing Rows: 30156\n"
          ],
          "name": "stdout"
        }
      ]
    },
    {
      "metadata": {
        "id": "Fd2ZU6yx3GUu",
        "colab_type": "code",
        "colab": {
          "base_uri": "https://localhost:8080/",
          "height": 1855
        },
        "outputId": "1112636a-34f4-41dc-9a20-7fefb34197ee"
      },
      "cell_type": "code",
      "source": [
        "als = ALS(maxIter=5, regParam=0.01, userCol=\"userId\", itemCol=\"movieId\", ratingCol=\"label\")\n",
        "model = als.fit(train)\n",
        "prediction = model.transform(test)\n",
        "prediction.join(movies, \"movieId\").select(\"userId\", \"title\", \"prediction\", \"trueLabel\").show(100, truncate=False)"
      ],
      "execution_count": 7,
      "outputs": [
        {
          "output_type": "stream",
          "text": [
            "+------+--------------------------------+----------+---------+\n",
            "|userId|title                           |prediction|trueLabel|\n",
            "+------+--------------------------------+----------+---------+\n",
            "|575   |Awfully Big Adventure, An (1995)|NaN       |4.0      |\n",
            "|380   |Guilty as Sin (1993)            |3.1161027 |3.0      |\n",
            "|242   |Guilty as Sin (1993)            |3.7684715 |4.0      |\n",
            "|30    |Guilty as Sin (1993)            |2.9855494 |4.0      |\n",
            "|548   |Hudsucker Proxy, The (1994)     |3.2737086 |4.0      |\n",
            "|285   |Hudsucker Proxy, The (1994)     |4.027282  |5.0      |\n",
            "|292   |Hudsucker Proxy, The (1994)     |4.140784  |3.5      |\n",
            "|306   |Hudsucker Proxy, The (1994)     |3.8750286 |3.0      |\n",
            "|491   |Hudsucker Proxy, The (1994)     |3.4373    |3.0      |\n",
            "|92    |Hudsucker Proxy, The (1994)     |3.6796966 |4.0      |\n",
            "|309   |Hudsucker Proxy, The (1994)     |4.5950522 |4.0      |\n",
            "|659   |Hudsucker Proxy, The (1994)     |3.9481053 |4.0      |\n",
            "|649   |Hudsucker Proxy, The (1994)     |4.873652  |3.0      |\n",
            "|195   |Hudsucker Proxy, The (1994)     |2.8077476 |3.0      |\n",
            "|487   |Hudsucker Proxy, The (1994)     |3.4750788 |4.0      |\n",
            "|574   |Hudsucker Proxy, The (1994)     |4.323826  |3.5      |\n",
            "|242   |Hudsucker Proxy, The (1994)     |4.5669518 |5.0      |\n",
            "|311   |Hudsucker Proxy, The (1994)     |2.5877738 |0.5      |\n",
            "|521   |Hudsucker Proxy, The (1994)     |4.2758913 |3.5      |\n",
            "|294   |High School High (1996)         |2.771864  |2.0      |\n",
            "|580   |Dirty Dancing (1987)            |3.0092075 |3.0      |\n",
            "|111   |Dirty Dancing (1987)            |4.294492  |3.5      |\n",
            "|52    |Dirty Dancing (1987)            |2.4553351 |4.0      |\n",
            "|54    |Dirty Dancing (1987)            |5.0510464 |5.0      |\n",
            "|19    |Dirty Dancing (1987)            |2.8345516 |3.0      |\n",
            "|607   |Dirty Dancing (1987)            |2.861044  |2.0      |\n",
            "|15    |Dirty Dancing (1987)            |2.9793198 |2.0      |\n",
            "|531   |Dirty Dancing (1987)            |0.45164132|5.0      |\n",
            "|547   |Dirty Dancing (1987)            |2.5949452 |5.0      |\n",
            "|505   |Dirty Dancing (1987)            |2.6724577 |4.0      |\n",
            "|514   |Dirty Dancing (1987)            |3.457043  |3.0      |\n",
            "|509   |Dirty Dancing (1987)            |2.399725  |2.0      |\n",
            "|21    |Dirty Dancing (1987)            |3.6395407 |2.0      |\n",
            "|621   |Dirty Dancing (1987)            |4.3592377 |3.5      |\n",
            "|303   |Dirty Dancing (1987)            |3.6448767 |3.0      |\n",
            "|574   |Dirty Dancing (1987)            |3.0260746 |3.0      |\n",
            "|344   |Dirty Dancing (1987)            |2.906547  |3.0      |\n",
            "|187   |Dirty Dancing (1987)            |3.1998193 |4.0      |\n",
            "|647   |Local Hero (1983)               |4.383569  |4.0      |\n",
            "|19    |Local Hero (1983)               |3.4803    |5.0      |\n",
            "|537   |Local Hero (1983)               |3.9930239 |5.0      |\n",
            "|585   |Local Hero (1983)               |4.9066825 |5.0      |\n",
            "|102   |Local Hero (1983)               |3.4912627 |4.0      |\n",
            "|105   |Local Hero (1983)               |3.7596076 |4.0      |\n",
            "|118   |Local Hero (1983)               |4.330023  |5.0      |\n",
            "|19    |Candyman (1992)                 |4.1720147 |3.0      |\n",
            "|564   |Candyman (1992)                 |4.2814116 |5.0      |\n",
            "|514   |Candyman (1992)                 |3.1658044 |4.0      |\n",
            "|119   |Candyman (1992)                 |3.3117497 |2.0      |\n",
            "|337   |Candyman (1992)                 |5.359037  |2.0      |\n",
            "|137   |Men in Black (a.k.a. MIB) (1997)|4.795111  |5.0      |\n",
            "|251   |Men in Black (a.k.a. MIB) (1997)|4.194471  |5.0      |\n",
            "|53    |Men in Black (a.k.a. MIB) (1997)|5.0156937 |3.0      |\n",
            "|481   |Men in Black (a.k.a. MIB) (1997)|3.6628864 |4.0      |\n",
            "|472   |Men in Black (a.k.a. MIB) (1997)|3.212581  |5.0      |\n",
            "|78    |Men in Black (a.k.a. MIB) (1997)|4.8773584 |2.5      |\n",
            "|155   |Men in Black (a.k.a. MIB) (1997)|3.202257  |5.0      |\n",
            "|211   |Men in Black (a.k.a. MIB) (1997)|4.3930907 |3.0      |\n",
            "|103   |Men in Black (a.k.a. MIB) (1997)|3.4049244 |3.0      |\n",
            "|350   |Men in Black (a.k.a. MIB) (1997)|4.1354747 |4.0      |\n",
            "|388   |Men in Black (a.k.a. MIB) (1997)|3.7195253 |3.0      |\n",
            "|417   |Men in Black (a.k.a. MIB) (1997)|4.0154266 |4.0      |\n",
            "|285   |Men in Black (a.k.a. MIB) (1997)|3.6060092 |4.0      |\n",
            "|128   |Men in Black (a.k.a. MIB) (1997)|4.2808094 |4.0      |\n",
            "|93    |Men in Black (a.k.a. MIB) (1997)|3.8029006 |3.5      |\n",
            "|111   |Men in Black (a.k.a. MIB) (1997)|3.8254683 |4.0      |\n",
            "|665   |Men in Black (a.k.a. MIB) (1997)|3.7589464 |4.0      |\n",
            "|353   |Men in Black (a.k.a. MIB) (1997)|2.9184585 |1.0      |\n",
            "|328   |Men in Black (a.k.a. MIB) (1997)|3.3518481 |4.0      |\n",
            "|20    |Men in Black (a.k.a. MIB) (1997)|3.6657004 |5.0      |\n",
            "|479   |Men in Black (a.k.a. MIB) (1997)|3.4026337 |4.5      |\n",
            "|402   |Men in Black (a.k.a. MIB) (1997)|3.7192261 |3.5      |\n",
            "|582   |Men in Black (a.k.a. MIB) (1997)|3.38918   |4.0      |\n",
            "|292   |Men in Black (a.k.a. MIB) (1997)|4.0765214 |3.5      |\n",
            "|646   |Men in Black (a.k.a. MIB) (1997)|4.7813196 |5.0      |\n",
            "|560   |Men in Black (a.k.a. MIB) (1997)|4.3758183 |3.0      |\n",
            "|15    |Men in Black (a.k.a. MIB) (1997)|3.2096167 |4.0      |\n",
            "|262   |Men in Black (a.k.a. MIB) (1997)|2.359917  |2.0      |\n",
            "|615   |Men in Black (a.k.a. MIB) (1997)|3.8618605 |3.5      |\n",
            "|358   |Men in Black (a.k.a. MIB) (1997)|2.6263497 |3.0      |\n",
            "|461   |Men in Black (a.k.a. MIB) (1997)|2.8494911 |2.0      |\n",
            "|197   |Men in Black (a.k.a. MIB) (1997)|4.8291345 |5.0      |\n",
            "|263   |Men in Black (a.k.a. MIB) (1997)|3.6487336 |4.0      |\n",
            "|17    |Men in Black (a.k.a. MIB) (1997)|3.3087769 |2.5      |\n",
            "|381   |Men in Black (a.k.a. MIB) (1997)|3.2169106 |4.0      |\n",
            "|173   |Men in Black (a.k.a. MIB) (1997)|4.7506485 |4.0      |\n",
            "|4     |Men in Black (a.k.a. MIB) (1997)|4.3401866 |5.0      |\n",
            "|23    |Men in Black (a.k.a. MIB) (1997)|3.5453506 |3.5      |\n",
            "|130   |Men in Black (a.k.a. MIB) (1997)|3.3531342 |4.0      |\n",
            "|648   |Men in Black (a.k.a. MIB) (1997)|2.7314901 |1.5      |\n",
            "|439   |Men in Black (a.k.a. MIB) (1997)|3.5470648 |2.0      |\n",
            "|97    |Men in Black (a.k.a. MIB) (1997)|1.7159317 |2.5      |\n",
            "|312   |Men in Black (a.k.a. MIB) (1997)|2.8411236 |2.0      |\n",
            "|418   |Men in Black (a.k.a. MIB) (1997)|4.2126846 |4.0      |\n",
            "|240   |Men in Black (a.k.a. MIB) (1997)|3.5160537 |4.0      |\n",
            "|480   |Men in Black (a.k.a. MIB) (1997)|4.4260683 |5.0      |\n",
            "|90    |Men in Black (a.k.a. MIB) (1997)|3.5778015 |4.0      |\n",
            "|75    |Men in Black (a.k.a. MIB) (1997)|3.285872  |2.5      |\n",
            "|592   |Men in Black (a.k.a. MIB) (1997)|4.25991   |4.0      |\n",
            "|200   |Men in Black (a.k.a. MIB) (1997)|3.0973208 |4.0      |\n",
            "+------+--------------------------------+----------+---------+\n",
            "only showing top 100 rows\n",
            "\n"
          ],
          "name": "stdout"
        }
      ]
    },
    {
      "metadata": {
        "id": "rjl34p473NJe",
        "colab_type": "code",
        "colab": {}
      },
      "cell_type": "code",
      "source": [
        ""
      ],
      "execution_count": 0,
      "outputs": []
    }
  ]
}