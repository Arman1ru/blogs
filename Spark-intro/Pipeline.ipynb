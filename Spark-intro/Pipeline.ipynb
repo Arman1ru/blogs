{
  "nbformat": 4,
  "nbformat_minor": 0,
  "metadata": {
    "colab": {
      "name": "Pipeline.ipynb",
      "version": "0.3.2",
      "provenance": [],
      "collapsed_sections": []
    },
    "kernelspec": {
      "name": "python3",
      "display_name": "Python 3"
    }
  },
  "cells": [
    {
      "metadata": {
        "id": "aHghBWOxubSQ",
        "colab_type": "text"
      },
      "cell_type": "markdown",
      "source": [
        "# Pipeline\n",
        "## Platform: Spark, colab.research.google.com"
      ]
    },
    {
      "metadata": {
        "id": "u1k0LFpfuX60",
        "colab_type": "code",
        "colab": {}
      },
      "cell_type": "code",
      "source": [
        "# Colab preinstalled packages\n",
        "import pandas as pd\n",
        "import time\n",
        "from sklearn.metrics import accuracy_score, confusion_matrix, f1_score, recall_score, precision_score"
      ],
      "execution_count": 0,
      "outputs": []
    },
    {
      "metadata": {
        "id": "-jQwTWE6udPn",
        "colab_type": "code",
        "colab": {}
      },
      "cell_type": "code",
      "source": [
        "# install Spark\n",
        "!apt-get install openjdk-8-jdk-headless -qq > /dev/null\n",
        "!wget -q http://www-us.apache.org/dist/spark/spark-2.3.1/spark-2.3.1-bin-hadoop2.7.tgz\n",
        "!tar xf spark-2.3.1-bin-hadoop2.7.tgz\n",
        "!pip install -q findspark"
      ],
      "execution_count": 0,
      "outputs": []
    },
    {
      "metadata": {
        "id": "YKK21Zmkuny6",
        "colab_type": "code",
        "colab": {}
      },
      "cell_type": "code",
      "source": [
        "# init Spark\n",
        "import os\n",
        "os.environ[\"JAVA_HOME\"] = \"/usr/lib/jvm/java-8-openjdk-amd64\"\n",
        "os.environ[\"SPARK_HOME\"] = \"/content/spark-2.3.1-bin-hadoop2.7\"\n",
        "import findspark\n",
        "findspark.init()\n",
        "from pyspark.sql import SparkSession\n",
        "spark = SparkSession.builder.master(\"local[*]\").getOrCreate()"
      ],
      "execution_count": 0,
      "outputs": []
    },
    {
      "metadata": {
        "id": "t6058xncWK9g",
        "colab_type": "code",
        "colab": {}
      },
      "cell_type": "code",
      "source": [
        "from pyspark.sql.types import *\n",
        "from pyspark.sql.functions import *\n",
        "\n",
        "from pyspark.ml import Pipeline\n",
        "from pyspark.ml.classification import DecisionTreeClassifier\n",
        "from pyspark.ml.feature import VectorAssembler, StringIndexer, VectorIndexer, MinMaxScaler"
      ],
      "execution_count": 0,
      "outputs": []
    },
    {
      "metadata": {
        "id": "VWj6KwZ3uqMT",
        "colab_type": "code",
        "outputId": "ff8b2a59-5c81-4235-f7e3-69bec37278d2",
        "colab": {
          "base_uri": "https://localhost:8080/",
          "height": 124
        }
      },
      "cell_type": "code",
      "source": [
        "from google.colab import drive\n",
        "drive.mount('/content/gdrive', force_remount=True)"
      ],
      "execution_count": 6,
      "outputs": [
        {
          "output_type": "stream",
          "text": [
            "Go to this URL in a browser: https://accounts.google.com/o/oauth2/auth?client_id=947318989803-6bn6qk8qdgf4n4g3pfee6491hc0brc4i.apps.googleusercontent.com&redirect_uri=urn%3Aietf%3Awg%3Aoauth%3A2.0%3Aoob&scope=email%20https%3A%2F%2Fwww.googleapis.com%2Fauth%2Fdocs.test%20https%3A%2F%2Fwww.googleapis.com%2Fauth%2Fdrive%20https%3A%2F%2Fwww.googleapis.com%2Fauth%2Fdrive.photos.readonly%20https%3A%2F%2Fwww.googleapis.com%2Fauth%2Fpeopleapi.readonly&response_type=code\n",
            "\n",
            "Enter your authorization code:\n",
            "··········\n",
            "Mounted at /content/gdrive\n"
          ],
          "name": "stdout"
        }
      ]
    },
    {
      "metadata": {
        "id": "tRXyPLJ2usHS",
        "colab_type": "code",
        "colab": {}
      },
      "cell_type": "code",
      "source": [
        "flights_dfs = spark.read.csv(\"/content/gdrive/My Drive/Colab Notebooks/SparkAzureTutorial/data/flights.csv\", header=True, inferSchema=True)"
      ],
      "execution_count": 0,
      "outputs": []
    },
    {
      "metadata": {
        "id": "RvhTuYofvR3D",
        "colab_type": "code",
        "outputId": "2158488f-c82a-48cc-b0ab-7a3ec426f620",
        "colab": {
          "base_uri": "https://localhost:8080/",
          "height": 211
        }
      },
      "cell_type": "code",
      "source": [
        "flights_dfs.describe().show(5, False)"
      ],
      "execution_count": 8,
      "outputs": [
        {
          "output_type": "stream",
          "text": [
            "+-------+------------------+-----------------+-------+------------------+------------------+------------------+------------------+\n",
            "|summary|DayofMonth        |DayOfWeek        |Carrier|OriginAirportID   |DestAirportID     |DepDelay          |ArrDelay          |\n",
            "+-------+------------------+-----------------+-------+------------------+------------------+------------------+------------------+\n",
            "|count  |2702218           |2702218          |2702218|2702218           |2702218           |2702218           |2702218           |\n",
            "|mean   |15.797897875004903|3.899480352806472|null   |12742.597593162358|12743.000197985506|10.510732294729737|6.6550108096386005|\n",
            "|stddev |8.7988350691642   |1.985924603367557|null   |1501.8408475102513|1501.8014309297723|36.02975608466093 |38.547584236791245|\n",
            "|min    |1                 |1                |9E     |10140             |10140             |-63               |-94               |\n",
            "|max    |31                |7                |YV     |15376             |15376             |1863              |1845              |\n",
            "+-------+------------------+-----------------+-------+------------------+------------------+------------------+------------------+\n",
            "\n"
          ],
          "name": "stdout"
        }
      ]
    },
    {
      "metadata": {
        "id": "dztq1GpJvo6G",
        "colab_type": "code",
        "outputId": "29dba4f4-7b6f-4679-c16e-d30e8c439eaa",
        "colab": {
          "base_uri": "https://localhost:8080/",
          "height": 208
        }
      },
      "cell_type": "code",
      "source": [
        "data = flights_dfs.select(\"DayofMonth\", \"DayOfWeek\", \"Carrier\", \"OriginAirportID\", \"DestAirportID\", \"DepDelay\", ((col(\"ArrDelay\") > 15).cast(\"Double\").alias(\"label\")))\n",
        "data.show(5)"
      ],
      "execution_count": 9,
      "outputs": [
        {
          "output_type": "stream",
          "text": [
            "+----------+---------+-------+---------------+-------------+--------+-----+\n",
            "|DayofMonth|DayOfWeek|Carrier|OriginAirportID|DestAirportID|DepDelay|label|\n",
            "+----------+---------+-------+---------------+-------------+--------+-----+\n",
            "|        19|        5|     DL|          11433|        13303|      -3|  0.0|\n",
            "|        19|        5|     DL|          14869|        12478|       0|  0.0|\n",
            "|        19|        5|     DL|          14057|        14869|      -4|  0.0|\n",
            "|        19|        5|     DL|          15016|        11433|      28|  1.0|\n",
            "|        19|        5|     DL|          11193|        12892|      -6|  0.0|\n",
            "+----------+---------+-------+---------------+-------------+--------+-----+\n",
            "only showing top 5 rows\n",
            "\n"
          ],
          "name": "stdout"
        }
      ]
    },
    {
      "metadata": {
        "id": "MkBPxthLwrSg",
        "colab_type": "code",
        "outputId": "4c5f014b-a0ac-4279-a939-db213089b406",
        "colab": {
          "base_uri": "https://localhost:8080/",
          "height": 225
        }
      },
      "cell_type": "code",
      "source": [
        "splits = data.randomSplit([0.7, 0.3])\n",
        "train = splits[0]\n",
        "test = splits[1].withColumnRenamed(\"label\", \"trueLabel\")\n",
        "test.show(5, truncate=False)\n",
        "print(\"Train len: {}, test len: {}\".format(train.count(), test.count()))"
      ],
      "execution_count": 10,
      "outputs": [
        {
          "output_type": "stream",
          "text": [
            "+----------+---------+-------+---------------+-------------+--------+---------+\n",
            "|DayofMonth|DayOfWeek|Carrier|OriginAirportID|DestAirportID|DepDelay|trueLabel|\n",
            "+----------+---------+-------+---------------+-------------+--------+---------+\n",
            "|1         |1        |9E     |10397          |12191        |-3      |0.0      |\n",
            "|1         |1        |9E     |10397          |12264        |-5      |0.0      |\n",
            "|1         |1        |9E     |10423          |11433        |-5      |0.0      |\n",
            "|1         |1        |9E     |10423          |11433        |-3      |0.0      |\n",
            "|1         |1        |9E     |10423          |11433        |14      |1.0      |\n",
            "+----------+---------+-------+---------------+-------------+--------+---------+\n",
            "only showing top 5 rows\n",
            "\n",
            "Train len: 1891656, test len: 810562\n"
          ],
          "name": "stdout"
        }
      ]
    },
    {
      "metadata": {
        "id": "xCII-CeQyyQZ",
        "colab_type": "code",
        "outputId": "7980b314-e871-4955-dd46-421bbef7a848",
        "colab": {
          "base_uri": "https://localhost:8080/",
          "height": 260
        }
      },
      "cell_type": "code",
      "source": [
        "# categorical features\n",
        "strIdx = StringIndexer(inputCol = \"Carrier\", outputCol = \"CarrierIdx\")\n",
        "catVect = VectorAssembler(inputCols = [\"CarrierIdx\", \"DayofMonth\", \"DayOfWeek\", \"OriginAirportID\", \"DestAirportID\"], outputCol=\"catFeatures\")\n",
        "catIdx = VectorIndexer(inputCol = catVect.getOutputCol(), outputCol = \"idxCatFeatures\")\n",
        "# numerical features\n",
        "numVect = VectorAssembler(inputCols = [\"DepDelay\"], outputCol=\"numFeatures\")\n",
        "minMax = MinMaxScaler(inputCol = numVect.getOutputCol(), outputCol=\"normFeatures\")\n",
        "# combine with classifier\n",
        "featVect = VectorAssembler(inputCols=[\"idxCatFeatures\", \"normFeatures\"], outputCol=\"features\")\n",
        "dt = DecisionTreeClassifier(labelCol=\"label\", featuresCol=\"features\")\n",
        "pipeline = Pipeline(stages=[strIdx, catVect, catIdx, numVect, minMax, featVect, dt])\n",
        "\n",
        "print(\"Training model...\")\n",
        "start_time = time.time()\n",
        "pipelineModel = pipeline.fit(train)\n",
        "print(\"Evaluating model...\")\n",
        "prediction = pipelineModel.transform(test)\n",
        "print(\"--- {} seconds ---\".format(time.time() - start_time))\n",
        "\n",
        "predicted = prediction.select(\"features\", \"trueLabel\", \"prediction\")\n",
        "predicted.show(5, truncate=False)"
      ],
      "execution_count": 11,
      "outputs": [
        {
          "output_type": "stream",
          "text": [
            "Training model...\n",
            "Evaluating model...\n",
            "--- 119.75610280036926 seconds ---\n",
            "+---------------------------------------------------+---------+----------+\n",
            "|features                                           |trueLabel|prediction|\n",
            "+---------------------------------------------------+---------+----------+\n",
            "|[10.0,1.0,0.0,10397.0,12191.0,0.03115264797507788] |0.0      |0.0       |\n",
            "|[10.0,1.0,0.0,10397.0,12264.0,0.030114226375908618]|0.0      |0.0       |\n",
            "|[10.0,1.0,0.0,10423.0,11433.0,0.030114226375908618]|0.0      |0.0       |\n",
            "|[10.0,1.0,0.0,10423.0,11433.0,0.03115264797507788] |0.0      |0.0       |\n",
            "|[10.0,1.0,0.0,10423.0,11433.0,0.03997923156801662] |1.0      |0.0       |\n",
            "+---------------------------------------------------+---------+----------+\n",
            "only showing top 5 rows\n",
            "\n"
          ],
          "name": "stdout"
        }
      ]
    },
    {
      "metadata": {
        "id": "mgbfHKTGOpN0",
        "colab_type": "code",
        "outputId": "c5501669-b045-4653-b56b-50af8d6c20be",
        "colab": {
          "base_uri": "https://localhost:8080/",
          "height": 87
        }
      },
      "cell_type": "code",
      "source": [
        "predicted_spark = predicted.toPandas()\n",
        "y_test = predicted_spark[\"trueLabel\"]\n",
        "y_pred = predicted_spark[\"prediction\"]\n",
        "accuracy = accuracy_score(y_test, y_pred)\n",
        "precision = precision_score(y_test, y_pred)\n",
        "recall = recall_score(y_test, y_pred)\n",
        "f1 = f1_score(y_test, y_pred)\n",
        "print(\"Accuracy: {}\".format(accuracy))\n",
        "print(\"Precision: {}\".format(precision))\n",
        "print(\"Recall: {}\".format(recall))\n",
        "print(\"F1: {}\".format(f1))\n",
        "# check\n",
        "cm = confusion_matrix(y_test, y_pred)\n",
        "tn, fn, fp, tp = cm[0][0], cm[1][0], cm[0][1], cm[1][1]\n",
        "assert precision == tp/(tp + fp)\n",
        "assert recall == tp/(tp + fn)"
      ],
      "execution_count": 12,
      "outputs": [
        {
          "output_type": "stream",
          "text": [
            "Accuracy: 0.9264177200510263\n",
            "Precision: 0.8844429398931769\n",
            "Recall: 0.7264026790072351\n",
            "F1: 0.7976701347780216\n"
          ],
          "name": "stdout"
        }
      ]
    },
    {
      "metadata": {
        "id": "v1e1O8mMOrSO",
        "colab_type": "text"
      },
      "cell_type": "markdown",
      "source": [
        ""
      ]
    },
    {
      "metadata": {
        "id": "OPKCmhoRBBTO",
        "colab_type": "text"
      },
      "cell_type": "markdown",
      "source": [
        "## Platform: Pandas, scikit-learn, colab.research.google.com"
      ]
    },
    {
      "metadata": {
        "id": "wjUBSNiKNF-g",
        "colab_type": "code",
        "colab": {}
      },
      "cell_type": "code",
      "source": [
        "from sklearn.model_selection import train_test_split\n",
        "from sklearn.preprocessing import LabelBinarizer, StandardScaler\n",
        "from sklearn.pipeline import Pipeline\n",
        "from sklearn.tree import DecisionTreeClassifier"
      ],
      "execution_count": 0,
      "outputs": []
    },
    {
      "metadata": {
        "id": "r9MtmZ7-BFOx",
        "colab_type": "code",
        "outputId": "4d6f09bb-c3dc-4564-85db-ca943e13c019",
        "colab": {
          "base_uri": "https://localhost:8080/",
          "height": 294
        }
      },
      "cell_type": "code",
      "source": [
        "flights_df = pd.read_csv(\"/content/gdrive/My Drive/Colab Notebooks/SparkAzureTutorial/data/flights.csv\", header=0)\n",
        "flights_df.describe()"
      ],
      "execution_count": 14,
      "outputs": [
        {
          "output_type": "execute_result",
          "data": {
            "text/html": [
              "<div>\n",
              "<style scoped>\n",
              "    .dataframe tbody tr th:only-of-type {\n",
              "        vertical-align: middle;\n",
              "    }\n",
              "\n",
              "    .dataframe tbody tr th {\n",
              "        vertical-align: top;\n",
              "    }\n",
              "\n",
              "    .dataframe thead th {\n",
              "        text-align: right;\n",
              "    }\n",
              "</style>\n",
              "<table border=\"1\" class=\"dataframe\">\n",
              "  <thead>\n",
              "    <tr style=\"text-align: right;\">\n",
              "      <th></th>\n",
              "      <th>DayofMonth</th>\n",
              "      <th>DayOfWeek</th>\n",
              "      <th>OriginAirportID</th>\n",
              "      <th>DestAirportID</th>\n",
              "      <th>DepDelay</th>\n",
              "      <th>ArrDelay</th>\n",
              "    </tr>\n",
              "  </thead>\n",
              "  <tbody>\n",
              "    <tr>\n",
              "      <th>count</th>\n",
              "      <td>2.702218e+06</td>\n",
              "      <td>2.702218e+06</td>\n",
              "      <td>2.702218e+06</td>\n",
              "      <td>2.702218e+06</td>\n",
              "      <td>2.702218e+06</td>\n",
              "      <td>2.702218e+06</td>\n",
              "    </tr>\n",
              "    <tr>\n",
              "      <th>mean</th>\n",
              "      <td>1.579790e+01</td>\n",
              "      <td>3.899480e+00</td>\n",
              "      <td>1.274260e+04</td>\n",
              "      <td>1.274300e+04</td>\n",
              "      <td>1.051073e+01</td>\n",
              "      <td>6.655011e+00</td>\n",
              "    </tr>\n",
              "    <tr>\n",
              "      <th>std</th>\n",
              "      <td>8.798835e+00</td>\n",
              "      <td>1.985925e+00</td>\n",
              "      <td>1.501841e+03</td>\n",
              "      <td>1.501801e+03</td>\n",
              "      <td>3.602976e+01</td>\n",
              "      <td>3.854758e+01</td>\n",
              "    </tr>\n",
              "    <tr>\n",
              "      <th>min</th>\n",
              "      <td>1.000000e+00</td>\n",
              "      <td>1.000000e+00</td>\n",
              "      <td>1.014000e+04</td>\n",
              "      <td>1.014000e+04</td>\n",
              "      <td>-6.300000e+01</td>\n",
              "      <td>-9.400000e+01</td>\n",
              "    </tr>\n",
              "    <tr>\n",
              "      <th>25%</th>\n",
              "      <td>8.000000e+00</td>\n",
              "      <td>2.000000e+00</td>\n",
              "      <td>1.129200e+04</td>\n",
              "      <td>1.129200e+04</td>\n",
              "      <td>-4.000000e+00</td>\n",
              "      <td>-1.100000e+01</td>\n",
              "    </tr>\n",
              "    <tr>\n",
              "      <th>50%</th>\n",
              "      <td>1.600000e+01</td>\n",
              "      <td>4.000000e+00</td>\n",
              "      <td>1.289200e+04</td>\n",
              "      <td>1.289200e+04</td>\n",
              "      <td>-1.000000e+00</td>\n",
              "      <td>-3.000000e+00</td>\n",
              "    </tr>\n",
              "    <tr>\n",
              "      <th>75%</th>\n",
              "      <td>2.300000e+01</td>\n",
              "      <td>6.000000e+00</td>\n",
              "      <td>1.405700e+04</td>\n",
              "      <td>1.405700e+04</td>\n",
              "      <td>9.000000e+00</td>\n",
              "      <td>1.000000e+01</td>\n",
              "    </tr>\n",
              "    <tr>\n",
              "      <th>max</th>\n",
              "      <td>3.100000e+01</td>\n",
              "      <td>7.000000e+00</td>\n",
              "      <td>1.537600e+04</td>\n",
              "      <td>1.537600e+04</td>\n",
              "      <td>1.863000e+03</td>\n",
              "      <td>1.845000e+03</td>\n",
              "    </tr>\n",
              "  </tbody>\n",
              "</table>\n",
              "</div>"
            ],
            "text/plain": [
              "         DayofMonth     DayOfWeek  OriginAirportID  DestAirportID  \\\n",
              "count  2.702218e+06  2.702218e+06     2.702218e+06   2.702218e+06   \n",
              "mean   1.579790e+01  3.899480e+00     1.274260e+04   1.274300e+04   \n",
              "std    8.798835e+00  1.985925e+00     1.501841e+03   1.501801e+03   \n",
              "min    1.000000e+00  1.000000e+00     1.014000e+04   1.014000e+04   \n",
              "25%    8.000000e+00  2.000000e+00     1.129200e+04   1.129200e+04   \n",
              "50%    1.600000e+01  4.000000e+00     1.289200e+04   1.289200e+04   \n",
              "75%    2.300000e+01  6.000000e+00     1.405700e+04   1.405700e+04   \n",
              "max    3.100000e+01  7.000000e+00     1.537600e+04   1.537600e+04   \n",
              "\n",
              "           DepDelay      ArrDelay  \n",
              "count  2.702218e+06  2.702218e+06  \n",
              "mean   1.051073e+01  6.655011e+00  \n",
              "std    3.602976e+01  3.854758e+01  \n",
              "min   -6.300000e+01 -9.400000e+01  \n",
              "25%   -4.000000e+00 -1.100000e+01  \n",
              "50%   -1.000000e+00 -3.000000e+00  \n",
              "75%    9.000000e+00  1.000000e+01  \n",
              "max    1.863000e+03  1.845000e+03  "
            ]
          },
          "metadata": {
            "tags": []
          },
          "execution_count": 14
        }
      ]
    },
    {
      "metadata": {
        "id": "THn5vSIMIjGR",
        "colab_type": "code",
        "outputId": "8894813d-31d6-410e-90e0-8dbdc2e91b26",
        "colab": {
          "base_uri": "https://localhost:8080/",
          "height": 222
        }
      },
      "cell_type": "code",
      "source": [
        "# create labels\n",
        "flights_df[\"late\"] = 0\n",
        "flights_df.loc[flights_df[\"ArrDelay\"] > 15,\"late\"] = 1\n",
        "flights_df.head(5)"
      ],
      "execution_count": 15,
      "outputs": [
        {
          "output_type": "execute_result",
          "data": {
            "text/html": [
              "<div>\n",
              "<style scoped>\n",
              "    .dataframe tbody tr th:only-of-type {\n",
              "        vertical-align: middle;\n",
              "    }\n",
              "\n",
              "    .dataframe tbody tr th {\n",
              "        vertical-align: top;\n",
              "    }\n",
              "\n",
              "    .dataframe thead th {\n",
              "        text-align: right;\n",
              "    }\n",
              "</style>\n",
              "<table border=\"1\" class=\"dataframe\">\n",
              "  <thead>\n",
              "    <tr style=\"text-align: right;\">\n",
              "      <th></th>\n",
              "      <th>DayofMonth</th>\n",
              "      <th>DayOfWeek</th>\n",
              "      <th>Carrier</th>\n",
              "      <th>OriginAirportID</th>\n",
              "      <th>DestAirportID</th>\n",
              "      <th>DepDelay</th>\n",
              "      <th>ArrDelay</th>\n",
              "      <th>late</th>\n",
              "    </tr>\n",
              "  </thead>\n",
              "  <tbody>\n",
              "    <tr>\n",
              "      <th>0</th>\n",
              "      <td>19</td>\n",
              "      <td>5</td>\n",
              "      <td>DL</td>\n",
              "      <td>11433</td>\n",
              "      <td>13303</td>\n",
              "      <td>-3</td>\n",
              "      <td>1</td>\n",
              "      <td>0</td>\n",
              "    </tr>\n",
              "    <tr>\n",
              "      <th>1</th>\n",
              "      <td>19</td>\n",
              "      <td>5</td>\n",
              "      <td>DL</td>\n",
              "      <td>14869</td>\n",
              "      <td>12478</td>\n",
              "      <td>0</td>\n",
              "      <td>-8</td>\n",
              "      <td>0</td>\n",
              "    </tr>\n",
              "    <tr>\n",
              "      <th>2</th>\n",
              "      <td>19</td>\n",
              "      <td>5</td>\n",
              "      <td>DL</td>\n",
              "      <td>14057</td>\n",
              "      <td>14869</td>\n",
              "      <td>-4</td>\n",
              "      <td>-15</td>\n",
              "      <td>0</td>\n",
              "    </tr>\n",
              "    <tr>\n",
              "      <th>3</th>\n",
              "      <td>19</td>\n",
              "      <td>5</td>\n",
              "      <td>DL</td>\n",
              "      <td>15016</td>\n",
              "      <td>11433</td>\n",
              "      <td>28</td>\n",
              "      <td>24</td>\n",
              "      <td>1</td>\n",
              "    </tr>\n",
              "    <tr>\n",
              "      <th>4</th>\n",
              "      <td>19</td>\n",
              "      <td>5</td>\n",
              "      <td>DL</td>\n",
              "      <td>11193</td>\n",
              "      <td>12892</td>\n",
              "      <td>-6</td>\n",
              "      <td>-11</td>\n",
              "      <td>0</td>\n",
              "    </tr>\n",
              "  </tbody>\n",
              "</table>\n",
              "</div>"
            ],
            "text/plain": [
              "   DayofMonth  DayOfWeek Carrier  OriginAirportID  DestAirportID  DepDelay  \\\n",
              "0          19          5      DL            11433          13303        -3   \n",
              "1          19          5      DL            14869          12478         0   \n",
              "2          19          5      DL            14057          14869        -4   \n",
              "3          19          5      DL            15016          11433        28   \n",
              "4          19          5      DL            11193          12892        -6   \n",
              "\n",
              "   ArrDelay  late  \n",
              "0         1     0  \n",
              "1        -8     0  \n",
              "2       -15     0  \n",
              "3        24     1  \n",
              "4       -11     0  "
            ]
          },
          "metadata": {
            "tags": []
          },
          "execution_count": 15
        }
      ]
    },
    {
      "metadata": {
        "id": "DHQoiNlfE3hA",
        "colab_type": "code",
        "colab": {}
      },
      "cell_type": "code",
      "source": [
        "X = flights_df.loc[:, [\"DayofMonth\", \"DayOfWeek\", \"Carrier\", \"OriginAirportID\", \"DestAirportID\", \"DepDelay\"]]\n",
        "y = flights_df.loc[:, \"late\"]\n",
        "X_train, X_test, y_train, y_test = train_test_split(\n",
        "    X, y, test_size=0.3, random_state=42)"
      ],
      "execution_count": 0,
      "outputs": []
    },
    {
      "metadata": {
        "id": "gFIyCqb4MhJR",
        "colab_type": "code",
        "colab": {}
      },
      "cell_type": "code",
      "source": [
        "class EncodeCategoricalCol():\n",
        "    def __init__(self, col_name, classes=None):\n",
        "        self.col_name = col_name\n",
        "        self.classes = classes\n",
        "    \n",
        "    def fit(self, X, y=None):\n",
        "        self.lb = LabelBinarizer()\n",
        "        if self.classes:\n",
        "            self.lb.classes_ = self.classes\n",
        "        else:\n",
        "            self.lb.fit(X.loc[:,self.col_name])\n",
        "        return self\n",
        "\n",
        "    def transform(self, X):\n",
        "        vals = self.lb.transform(X[self.col_name])\n",
        "        cols = [\"{}_{}\".format(self.col_name, x) for x in self.lb.classes_]\n",
        "        new_categories = pd.DataFrame(vals, columns=cols, index=X.index)\n",
        "        X_enc = pd.concat([X, new_categories], axis=1)\n",
        "        X_enc = X_enc.drop(columns=self.col_name, axis=1)\n",
        "        return X_enc"
      ],
      "execution_count": 0,
      "outputs": []
    },
    {
      "metadata": {
        "id": "9A2wrefi8VxI",
        "colab_type": "code",
        "colab": {}
      },
      "cell_type": "code",
      "source": [
        "class EncodeNumericalCol():\n",
        "    def __init__(self, col_name):\n",
        "        self.col_name = col_name\n",
        "    \n",
        "    def fit(self, X, y=None):\n",
        "        self.ss = StandardScaler()\n",
        "        self.ss.fit(X.loc[:, self.col_name].values.reshape(-1, 1))\n",
        "        return self\n",
        "\n",
        "    def transform(self, X):\n",
        "        X[self.col_name] = self.ss.transform(X[self.col_name].values.reshape(-1, 1))\n",
        "        return X"
      ],
      "execution_count": 0,
      "outputs": []
    },
    {
      "metadata": {
        "id": "vfvjrjppF61R",
        "colab_type": "code",
        "colab": {}
      },
      "cell_type": "code",
      "source": [
        "enc_day_of_week = EncodeCategoricalCol(col_name=\"DayOfWeek\", classes=list(range(1,8)))\n",
        "enc_day_of_month = EncodeCategoricalCol(col_name=\"DayofMonth\", classes=list(range(1,32)))\n",
        "enc_carrier = EncodeCategoricalCol(col_name=\"Carrier\")\n",
        "enc_dep_delay = EncodeNumericalCol(col_name=\"DepDelay\")\n",
        "model = DecisionTreeClassifier(max_depth=5, random_state=42)\n",
        "pipeline = Pipeline([(\"enc_day_of_week\", enc_day_of_week),\n",
        "                     (\"enc_day_of_month\", enc_day_of_month),\n",
        "                     (\"enc_carrier\", enc_carrier),\n",
        "                     (\"enc_dep_delay\", enc_dep_delay),\n",
        "                     (\"model\", model)])"
      ],
      "execution_count": 0,
      "outputs": []
    },
    {
      "metadata": {
        "id": "tLNyCJQOGgI9",
        "colab_type": "code",
        "outputId": "81a7959b-3cb6-4db5-c5d4-2a9b3a66aa98",
        "colab": {
          "base_uri": "https://localhost:8080/",
          "height": 263
        }
      },
      "cell_type": "code",
      "source": [
        "start_time = time.time()\n",
        "print(\"Training model...\")\n",
        "pipeline.fit(X_train, y_train)\n",
        "print(\"Evaluating model...\")\n",
        "y_pred = pipeline.predict(X_test)\n",
        "print(\"--- {} seconds ---\".format(time.time() - start_time))\n",
        "\n",
        "accuracy = accuracy_score(y_test, y_pred)\n",
        "precision = precision_score(y_test, y_pred)\n",
        "recall = recall_score(y_test, y_pred)\n",
        "f1 = f1_score(y_test, y_pred)\n",
        "print(\"Accuracy: {}\".format(accuracy))\n",
        "print(\"Precision: {}\".format(precision))\n",
        "print(\"Recall: {}\".format(recall))\n",
        "print(\"F1: {}\".format(f1))\n",
        "# check\n",
        "cm = confusion_matrix(y_test, y_pred)\n",
        "tn, fn, fp, tp = cm[0][0], cm[1][0], cm[0][1], cm[1][1]\n",
        "assert precision == tp/(tp + fp)\n",
        "assert recall == tp/(tp + fn)"
      ],
      "execution_count": 20,
      "outputs": [
        {
          "output_type": "stream",
          "text": [
            "Training model...\n"
          ],
          "name": "stdout"
        },
        {
          "output_type": "stream",
          "text": [
            "/usr/local/lib/python3.6/dist-packages/sklearn/utils/validation.py:595: DataConversionWarning: Data with input dtype int64 was converted to float64 by StandardScaler.\n",
            "  warnings.warn(msg, DataConversionWarning)\n",
            "/usr/local/lib/python3.6/dist-packages/sklearn/utils/validation.py:595: DataConversionWarning: Data with input dtype int64 was converted to float64 by StandardScaler.\n",
            "  warnings.warn(msg, DataConversionWarning)\n"
          ],
          "name": "stderr"
        },
        {
          "output_type": "stream",
          "text": [
            "Evaluating model...\n"
          ],
          "name": "stdout"
        },
        {
          "output_type": "stream",
          "text": [
            "/usr/local/lib/python3.6/dist-packages/sklearn/utils/validation.py:595: DataConversionWarning: Data with input dtype int64 was converted to float64 by StandardScaler.\n",
            "  warnings.warn(msg, DataConversionWarning)\n"
          ],
          "name": "stderr"
        },
        {
          "output_type": "stream",
          "text": [
            "--- 39.889575242996216 seconds ---\n",
            "Accuracy: 0.926816962842897\n",
            "Precision: 0.893370849573714\n",
            "Recall: 0.7188180423594616\n",
            "F1: 0.7966449693392428\n"
          ],
          "name": "stdout"
        }
      ]
    },
    {
      "metadata": {
        "id": "m6sxI_ujR-Cq",
        "colab_type": "text"
      },
      "cell_type": "markdown",
      "source": [
        "### Reusing Spark split data to compare metrics"
      ]
    },
    {
      "metadata": {
        "id": "dSYex3KrR9eJ",
        "colab_type": "code",
        "colab": {}
      },
      "cell_type": "code",
      "source": [
        "train = train.toPandas()\n",
        "test = test.toPandas()"
      ],
      "execution_count": 0,
      "outputs": []
    },
    {
      "metadata": {
        "id": "X5v9pDyYSiaG",
        "colab_type": "code",
        "colab": {}
      },
      "cell_type": "code",
      "source": [
        "y_train = train[\"label\"]\n",
        "X_train = train.drop(\"label\", axis=1)\n",
        "y_test = test[\"trueLabel\"]\n",
        "X_test = test.drop(\"trueLabel\", axis=1)"
      ],
      "execution_count": 0,
      "outputs": []
    },
    {
      "metadata": {
        "id": "Y_xnp28FS4vx",
        "colab_type": "code",
        "outputId": "4ca2ae08-3893-49b4-ff16-596c62b48856",
        "colab": {
          "base_uri": "https://localhost:8080/",
          "height": 263
        }
      },
      "cell_type": "code",
      "source": [
        "start_time = time.time()\n",
        "print(\"Training model...\")\n",
        "pipeline.fit(X_train, y_train)\n",
        "print(\"Evaluating model...\")\n",
        "print(\"--- {} seconds ---\".format(time.time() - start_time))\n",
        "\n",
        "y_pred = pipeline.predict(X_test)\n",
        "accuracy = accuracy_score(y_test, y_pred)\n",
        "precision = precision_score(y_test, y_pred)\n",
        "recall = recall_score(y_test, y_pred)\n",
        "f1 = f1_score(y_test, y_pred)\n",
        "print(\"Accuracy: {}\".format(accuracy))\n",
        "print(\"Precision: {}\".format(precision))\n",
        "print(\"Recall: {}\".format(recall))\n",
        "print(\"F1: {}\".format(f1))\n",
        "# check\n",
        "cm = confusion_matrix(y_test, y_pred)\n",
        "tn, fn, fp, tp = cm[0][0], cm[1][0], cm[0][1], cm[1][1]\n",
        "assert precision == tp/(tp + fp)\n",
        "assert recall == tp/(tp + fn)"
      ],
      "execution_count": 23,
      "outputs": [
        {
          "output_type": "stream",
          "text": [
            "Training model...\n"
          ],
          "name": "stdout"
        },
        {
          "output_type": "stream",
          "text": [
            "/usr/local/lib/python3.6/dist-packages/sklearn/utils/validation.py:595: DataConversionWarning: Data with input dtype int32 was converted to float64 by StandardScaler.\n",
            "  warnings.warn(msg, DataConversionWarning)\n",
            "/usr/local/lib/python3.6/dist-packages/sklearn/utils/validation.py:595: DataConversionWarning: Data with input dtype int32 was converted to float64 by StandardScaler.\n",
            "  warnings.warn(msg, DataConversionWarning)\n"
          ],
          "name": "stderr"
        },
        {
          "output_type": "stream",
          "text": [
            "Evaluating model...\n",
            "--- 26.6262948513031 seconds ---\n"
          ],
          "name": "stdout"
        },
        {
          "output_type": "stream",
          "text": [
            "/usr/local/lib/python3.6/dist-packages/sklearn/utils/validation.py:595: DataConversionWarning: Data with input dtype int32 was converted to float64 by StandardScaler.\n",
            "  warnings.warn(msg, DataConversionWarning)\n"
          ],
          "name": "stderr"
        },
        {
          "output_type": "stream",
          "text": [
            "Accuracy: 0.926578102600418\n",
            "Precision: 0.8940077617272923\n",
            "Recall: 0.7173449654311682\n",
            "F1: 0.7959920334294304\n"
          ],
          "name": "stdout"
        }
      ]
    },
    {
      "metadata": {
        "id": "Erq84RoLImm8",
        "colab_type": "code",
        "colab": {}
      },
      "cell_type": "code",
      "source": [
        ""
      ],
      "execution_count": 0,
      "outputs": []
    }
  ]
}