{
  "nbformat": 4,
  "nbformat_minor": 0,
  "metadata": {
    "colab": {
      "name": "CVGridSearch.ipynb",
      "version": "0.3.2",
      "provenance": [],
      "collapsed_sections": []
    },
    "kernelspec": {
      "name": "python3",
      "display_name": "Python 3"
    }
  },
  "cells": [
    {
      "metadata": {
        "id": "aHghBWOxubSQ",
        "colab_type": "text"
      },
      "cell_type": "markdown",
      "source": [
        "# CV & Grid Search\n",
        "## Platform: Spark, colab.research.google.com"
      ]
    },
    {
      "metadata": {
        "id": "-jQwTWE6udPn",
        "colab_type": "code",
        "colab": {}
      },
      "cell_type": "code",
      "source": [
        "# install Spark\n",
        "!apt-get install openjdk-8-jdk-headless -qq > /dev/null\n",
        "!wget -q http://www-us.apache.org/dist/spark/spark-2.3.1/spark-2.3.1-bin-hadoop2.7.tgz\n",
        "!tar xf spark-2.3.1-bin-hadoop2.7.tgz\n",
        "!pip install -q findspark"
      ],
      "execution_count": 0,
      "outputs": []
    },
    {
      "metadata": {
        "id": "YKK21Zmkuny6",
        "colab_type": "code",
        "colab": {}
      },
      "cell_type": "code",
      "source": [
        "# init Spark\n",
        "import os\n",
        "os.environ[\"JAVA_HOME\"] = \"/usr/lib/jvm/java-8-openjdk-amd64\"\n",
        "os.environ[\"SPARK_HOME\"] = \"/content/spark-2.3.1-bin-hadoop2.7\"\n",
        "import findspark\n",
        "findspark.init()\n",
        "from pyspark.sql import SparkSession\n",
        "spark = SparkSession.builder.master(\"local[*]\").getOrCreate()"
      ],
      "execution_count": 0,
      "outputs": []
    },
    {
      "metadata": {
        "id": "t6058xncWK9g",
        "colab_type": "code",
        "colab": {}
      },
      "cell_type": "code",
      "source": [
        "import pandas as pd\n",
        "import time\n",
        "\n",
        "from pyspark.sql.types import *\n",
        "from pyspark.sql.functions import *\n",
        "from pyspark.ml import Pipeline as SparkPipeline\n",
        "from pyspark.ml.classification import LogisticRegression as SparkLogisticRegression\n",
        "from pyspark.ml.feature import VectorAssembler\n",
        "from pyspark.ml.tuning import ParamGridBuilder, CrossValidator\n",
        "from pyspark.ml.evaluation import BinaryClassificationEvaluator\n",
        "\n",
        "from sklearn.linear_model import LogisticRegression as sklearnLogisticRegression\n",
        "from sklearn.metrics import accuracy_score, confusion_matrix, f1_score, recall_score, precision_score\n",
        "from sklearn.model_selection import train_test_split, GridSearchCV\n",
        "from sklearn.preprocessing import LabelBinarizer, StandardScaler\n",
        "from sklearn.pipeline import Pipeline as sklearnPipeline"
      ],
      "execution_count": 0,
      "outputs": []
    },
    {
      "metadata": {
        "id": "VWj6KwZ3uqMT",
        "colab_type": "code",
        "outputId": "2b80dd44-ebf9-4522-ba31-b752666ce71d",
        "colab": {
          "base_uri": "https://localhost:8080/",
          "height": 35
        }
      },
      "cell_type": "code",
      "source": [
        "from google.colab import drive\n",
        "drive.mount('/content/gdrive', force_remount=True)"
      ],
      "execution_count": 12,
      "outputs": [
        {
          "output_type": "stream",
          "text": [
            "Mounted at /content/gdrive\n"
          ],
          "name": "stdout"
        }
      ]
    },
    {
      "metadata": {
        "id": "tRXyPLJ2usHS",
        "colab_type": "code",
        "colab": {
          "base_uri": "https://localhost:8080/",
          "height": 211
        },
        "outputId": "68807e58-c47c-4b77-86df-b1e61ad34ae8"
      },
      "cell_type": "code",
      "source": [
        "flights_dfs = spark.read.csv(\"/content/gdrive/My Drive/Colab Notebooks/SparkAzureTutorial/data/flights.csv\", header=True, inferSchema=True)\n",
        "flights_dfs.describe().show(5, False)"
      ],
      "execution_count": 13,
      "outputs": [
        {
          "output_type": "stream",
          "text": [
            "+-------+------------------+-----------------+-------+------------------+------------------+------------------+------------------+\n",
            "|summary|DayofMonth        |DayOfWeek        |Carrier|OriginAirportID   |DestAirportID     |DepDelay          |ArrDelay          |\n",
            "+-------+------------------+-----------------+-------+------------------+------------------+------------------+------------------+\n",
            "|count  |2702218           |2702218          |2702218|2702218           |2702218           |2702218           |2702218           |\n",
            "|mean   |15.797897875004903|3.899480352806472|null   |12742.597593162358|12743.000197985506|10.510732294729737|6.6550108096386005|\n",
            "|stddev |8.7988350691642   |1.985924603367557|null   |1501.8408475102513|1501.8014309297723|36.02975608466093 |38.547584236791245|\n",
            "|min    |1                 |1                |9E     |10140             |10140             |-63               |-94               |\n",
            "|max    |31                |7                |YV     |15376             |15376             |1863              |1845              |\n",
            "+-------+------------------+-----------------+-------+------------------+------------------+------------------+------------------+\n",
            "\n"
          ],
          "name": "stdout"
        }
      ]
    },
    {
      "metadata": {
        "id": "MkBPxthLwrSg",
        "colab_type": "code",
        "outputId": "c95db79a-2bb5-4e10-9f80-e8173b4d91f5",
        "colab": {
          "base_uri": "https://localhost:8080/",
          "height": 225
        }
      },
      "cell_type": "code",
      "source": [
        "data = flights_dfs.select(\"DayofMonth\", \"DayOfWeek\", \"OriginAirportID\", \"DestAirportID\", \"DepDelay\", ((col(\"ArrDelay\") > 15).cast(\"Int\").alias(\"label\")))\n",
        "splits = data.randomSplit([0.7, 0.3])\n",
        "train = splits[0]\n",
        "test = splits[1].withColumnRenamed(\"label\", \"trueLabel\")\n",
        "test.show(5, truncate=False)\n",
        "print(\"Train len: {}, test len: {}\".format(train.count(), test.count()))"
      ],
      "execution_count": 14,
      "outputs": [
        {
          "output_type": "stream",
          "text": [
            "+----------+---------+---------------+-------------+--------+---------+\n",
            "|DayofMonth|DayOfWeek|OriginAirportID|DestAirportID|DepDelay|trueLabel|\n",
            "+----------+---------+---------------+-------------+--------+---------+\n",
            "|1         |1        |10140          |10397        |-2      |0        |\n",
            "|1         |1        |10140          |10397        |0       |0        |\n",
            "|1         |1        |10140          |10821        |8       |0        |\n",
            "|1         |1        |10140          |11259        |-5      |0        |\n",
            "|1         |1        |10140          |11259        |-5      |0        |\n",
            "+----------+---------+---------------+-------------+--------+---------+\n",
            "only showing top 5 rows\n",
            "\n",
            "Train len: 1891290, test len: 810928\n"
          ],
          "name": "stdout"
        }
      ]
    },
    {
      "metadata": {
        "id": "xCII-CeQyyQZ",
        "colab_type": "code",
        "outputId": "c0876f39-37b8-4c51-e287-306260482de7",
        "colab": {
          "base_uri": "https://localhost:8080/",
          "height": 520
        }
      },
      "cell_type": "code",
      "source": [
        "assembler = VectorAssembler(inputCols = [\"DayofMonth\", \"DayOfWeek\", \"OriginAirportID\", \"DestAirportID\", \"DepDelay\"], outputCol=\"features\")\n",
        "lr = SparkLogisticRegression(labelCol=\"label\", featuresCol=\"features\")\n",
        "pipeline = SparkPipeline(stages=[assembler, lr])\n",
        "\n",
        "print(\"Training model...\")\n",
        "start_time = time.time()\n",
        "pipelineModel = pipeline.fit(train)\n",
        "print(\"--- {} seconds ---\".format(time.time() - start_time))\n",
        "print(\"Evaluating model...\")\n",
        "prediction = pipelineModel.transform(test)\n",
        "\n",
        "predicted = prediction.select(\"features\", \"trueLabel\", \"prediction\")\n",
        "predicted.show(20, truncate=False)"
      ],
      "execution_count": 15,
      "outputs": [
        {
          "output_type": "stream",
          "text": [
            "Training model...\n",
            "--- 28.047178268432617 seconds ---\n",
            "Evaluating model...\n",
            "+-------------------------------+---------+----------+\n",
            "|features                       |trueLabel|prediction|\n",
            "+-------------------------------+---------+----------+\n",
            "|[1.0,1.0,10140.0,10397.0,-2.0] |0        |0.0       |\n",
            "|[1.0,1.0,10140.0,10397.0,0.0]  |0        |0.0       |\n",
            "|[1.0,1.0,10140.0,10821.0,8.0]  |0        |0.0       |\n",
            "|[1.0,1.0,10140.0,11259.0,-5.0] |0        |0.0       |\n",
            "|[1.0,1.0,10140.0,11259.0,-5.0] |0        |0.0       |\n",
            "|[1.0,1.0,10140.0,11259.0,0.0]  |0        |0.0       |\n",
            "|[1.0,1.0,10140.0,11259.0,21.0] |1        |1.0       |\n",
            "|[1.0,1.0,10140.0,11259.0,35.0] |1        |1.0       |\n",
            "|[1.0,1.0,10140.0,11292.0,-4.0] |0        |0.0       |\n",
            "|[1.0,1.0,10140.0,11292.0,-2.0] |0        |0.0       |\n",
            "|[1.0,1.0,10140.0,11292.0,4.0]  |0        |0.0       |\n",
            "|[1.0,1.0,10140.0,11292.0,22.0] |1        |1.0       |\n",
            "|[1.0,1.0,10140.0,11292.0,41.0] |1        |1.0       |\n",
            "|[1.0,1.0,10140.0,11298.0,-1.0] |0        |0.0       |\n",
            "|[1.0,1.0,10140.0,11298.0,0.0]  |0        |0.0       |\n",
            "|[1.0,1.0,10140.0,12191.0,16.0] |0        |0.0       |\n",
            "|[1.0,1.0,10140.0,12191.0,32.0] |1        |1.0       |\n",
            "|[1.0,1.0,10140.0,12191.0,124.0]|1        |1.0       |\n",
            "|[1.0,1.0,10140.0,12264.0,2.0]  |0        |0.0       |\n",
            "|[1.0,1.0,10140.0,12266.0,-5.0] |0        |0.0       |\n",
            "+-------------------------------+---------+----------+\n",
            "only showing top 20 rows\n",
            "\n"
          ],
          "name": "stdout"
        }
      ]
    },
    {
      "metadata": {
        "id": "pcfLKCRh1trg",
        "colab_type": "code",
        "colab": {}
      },
      "cell_type": "code",
      "source": [
        "def check_accuracy(y_test, y_pred):\n",
        "    print(\"Post grid search\\nAccuracy: {}\".format(accuracy_score(y_test, y_pred)))\n",
        "    print(\"Precision: {}\".format(precision_score(y_test, y_pred)))\n",
        "    print(\"Recall: {}\".format(recall_score(y_test, y_pred)))\n",
        "    print(\"F1: {}\".format(f1_score(y_test, y_pred)))\n",
        "    cm = confusion_matrix(y_test, y_pred)\n",
        "    tn, fn, fp, tp = cm[0][0], cm[1][0], cm[0][1], cm[1][1]\n",
        "    print(\"Confusion\\t Predicted\")\n",
        "    print(\"\\t\\t True \\t\\t False\")\n",
        "    print(\"Actual True \\t {} \\t {}\".format(tp, fn))\n",
        "    print(\"Actual False \\t {} \\t\\t {}\".format(fp, tn))\n",
        "    print(\"Confusion precision {}\".format(tp/(tp + fp)))\n",
        "    print(\"Confusion recall {}\".format(tp/(tp + fn)))"
      ],
      "execution_count": 0,
      "outputs": []
    },
    {
      "metadata": {
        "id": "mgbfHKTGOpN0",
        "colab_type": "code",
        "outputId": "8e3a2610-9ddb-49e8-ad00-6a4d6bbddb15",
        "colab": {
          "base_uri": "https://localhost:8080/",
          "height": 208
        }
      },
      "cell_type": "code",
      "source": [
        "predicted_spark = predicted.toPandas()\n",
        "y_test = predicted_spark[\"trueLabel\"]\n",
        "y_pred = predicted_spark[\"prediction\"]\n",
        "check_accuracy(y_test, y_pred)"
      ],
      "execution_count": 17,
      "outputs": [
        {
          "output_type": "stream",
          "text": [
            "Post grid search\n",
            "Accuracy: 0.9265791784227453\n",
            "Precision: 0.8982061945254795\n",
            "Recall: 0.7137933373205004\n",
            "F1: 0.7954513441552864\n",
            "Confusion\t Predicted\n",
            "\t\t True \t\t False\n",
            "Actual True \t 115768 \t 46419\n",
            "Actual False \t 13120 \t\t 635621\n",
            "Confusion precision 0.8982061945254795\n",
            "Confusion recall 0.7137933373205004\n"
          ],
          "name": "stdout"
        }
      ]
    },
    {
      "metadata": {
        "id": "pSQJDDClmogQ",
        "colab_type": "code",
        "colab": {
          "base_uri": "https://localhost:8080/",
          "height": 52
        },
        "outputId": "ecdd6189-3e6a-478a-b4be-981d955f0f75"
      },
      "cell_type": "code",
      "source": [
        "print(\"Starting grid search ...\")\n",
        "start_time = time.time()\n",
        "paramGrid = ParamGridBuilder().addGrid(lr.regParam, [0.3, 0.1, 0.01]).addGrid(lr.maxIter, [10, 5]).addGrid(lr.threshold, [0.35, 0.30]).build()\n",
        "cv = CrossValidator(estimator=pipeline, evaluator=BinaryClassificationEvaluator(), estimatorParamMaps=paramGrid, numFolds=2)\n",
        "model = cv.fit(train)\n",
        "print(\"--- {} seconds ---\".format(time.time() - start_time))"
      ],
      "execution_count": 18,
      "outputs": [
        {
          "output_type": "stream",
          "text": [
            "Starting grid search ...\n",
            "--- 471.94495725631714 seconds ---\n"
          ],
          "name": "stdout"
        }
      ]
    },
    {
      "metadata": {
        "id": "KWbgmuc5wTdK",
        "colab_type": "code",
        "colab": {
          "base_uri": "https://localhost:8080/",
          "height": 208
        },
        "outputId": "7f27642f-c581-4b99-a6b6-7c2b6652d592"
      },
      "cell_type": "code",
      "source": [
        "prediction = model.transform(test)\n",
        "predicted = prediction.select(\"features\", \"trueLabel\", \"prediction\")\n",
        "predicted_spark = predicted.toPandas()\n",
        "y_test = predicted_spark[\"trueLabel\"]\n",
        "y_pred = predicted_spark[\"prediction\"]\n",
        "check_accuracy(y_test, y_pred)"
      ],
      "execution_count": 19,
      "outputs": [
        {
          "output_type": "stream",
          "text": [
            "Post grid search\n",
            "Accuracy: 0.9258257206558412\n",
            "Precision: 0.8769403541954502\n",
            "Recall: 0.7318280749998458\n",
            "F1: 0.7978395891589589\n",
            "Confusion\t Predicted\n",
            "\t\t True \t\t False\n",
            "Actual True \t 118693 \t 43494\n",
            "Actual False \t 16656 \t\t 632085\n",
            "Confusion precision 0.8769403541954502\n",
            "Confusion recall 0.7318280749998458\n"
          ],
          "name": "stdout"
        }
      ]
    },
    {
      "metadata": {
        "id": "v1e1O8mMOrSO",
        "colab_type": "text"
      },
      "cell_type": "markdown",
      "source": [
        ""
      ]
    },
    {
      "metadata": {
        "id": "OPKCmhoRBBTO",
        "colab_type": "text"
      },
      "cell_type": "markdown",
      "source": [
        "## Platform: Pandas, scikit-learn, colab.research.google.com"
      ]
    },
    {
      "metadata": {
        "id": "r9MtmZ7-BFOx",
        "colab_type": "code",
        "outputId": "9a23f19a-28a3-4b83-bccb-d4112fd59f31",
        "colab": {
          "base_uri": "https://localhost:8080/",
          "height": 314
        }
      },
      "cell_type": "code",
      "source": [
        "flights_df = pd.read_csv(\"/content/gdrive/My Drive/Colab Notebooks/SparkAzureTutorial/data/flights.csv\", header=0)\n",
        "flights_df.describe()"
      ],
      "execution_count": 20,
      "outputs": [
        {
          "output_type": "execute_result",
          "data": {
            "text/html": [
              "<div>\n",
              "<style scoped>\n",
              "    .dataframe tbody tr th:only-of-type {\n",
              "        vertical-align: middle;\n",
              "    }\n",
              "\n",
              "    .dataframe tbody tr th {\n",
              "        vertical-align: top;\n",
              "    }\n",
              "\n",
              "    .dataframe thead th {\n",
              "        text-align: right;\n",
              "    }\n",
              "</style>\n",
              "<table border=\"1\" class=\"dataframe\">\n",
              "  <thead>\n",
              "    <tr style=\"text-align: right;\">\n",
              "      <th></th>\n",
              "      <th>DayofMonth</th>\n",
              "      <th>DayOfWeek</th>\n",
              "      <th>OriginAirportID</th>\n",
              "      <th>DestAirportID</th>\n",
              "      <th>DepDelay</th>\n",
              "      <th>ArrDelay</th>\n",
              "    </tr>\n",
              "  </thead>\n",
              "  <tbody>\n",
              "    <tr>\n",
              "      <th>count</th>\n",
              "      <td>2.702218e+06</td>\n",
              "      <td>2.702218e+06</td>\n",
              "      <td>2.702218e+06</td>\n",
              "      <td>2.702218e+06</td>\n",
              "      <td>2.702218e+06</td>\n",
              "      <td>2.702218e+06</td>\n",
              "    </tr>\n",
              "    <tr>\n",
              "      <th>mean</th>\n",
              "      <td>1.579790e+01</td>\n",
              "      <td>3.899480e+00</td>\n",
              "      <td>1.274260e+04</td>\n",
              "      <td>1.274300e+04</td>\n",
              "      <td>1.051073e+01</td>\n",
              "      <td>6.655011e+00</td>\n",
              "    </tr>\n",
              "    <tr>\n",
              "      <th>std</th>\n",
              "      <td>8.798835e+00</td>\n",
              "      <td>1.985925e+00</td>\n",
              "      <td>1.501841e+03</td>\n",
              "      <td>1.501801e+03</td>\n",
              "      <td>3.602976e+01</td>\n",
              "      <td>3.854758e+01</td>\n",
              "    </tr>\n",
              "    <tr>\n",
              "      <th>min</th>\n",
              "      <td>1.000000e+00</td>\n",
              "      <td>1.000000e+00</td>\n",
              "      <td>1.014000e+04</td>\n",
              "      <td>1.014000e+04</td>\n",
              "      <td>-6.300000e+01</td>\n",
              "      <td>-9.400000e+01</td>\n",
              "    </tr>\n",
              "    <tr>\n",
              "      <th>25%</th>\n",
              "      <td>8.000000e+00</td>\n",
              "      <td>2.000000e+00</td>\n",
              "      <td>1.129200e+04</td>\n",
              "      <td>1.129200e+04</td>\n",
              "      <td>-4.000000e+00</td>\n",
              "      <td>-1.100000e+01</td>\n",
              "    </tr>\n",
              "    <tr>\n",
              "      <th>50%</th>\n",
              "      <td>1.600000e+01</td>\n",
              "      <td>4.000000e+00</td>\n",
              "      <td>1.289200e+04</td>\n",
              "      <td>1.289200e+04</td>\n",
              "      <td>-1.000000e+00</td>\n",
              "      <td>-3.000000e+00</td>\n",
              "    </tr>\n",
              "    <tr>\n",
              "      <th>75%</th>\n",
              "      <td>2.300000e+01</td>\n",
              "      <td>6.000000e+00</td>\n",
              "      <td>1.405700e+04</td>\n",
              "      <td>1.405700e+04</td>\n",
              "      <td>9.000000e+00</td>\n",
              "      <td>1.000000e+01</td>\n",
              "    </tr>\n",
              "    <tr>\n",
              "      <th>max</th>\n",
              "      <td>3.100000e+01</td>\n",
              "      <td>7.000000e+00</td>\n",
              "      <td>1.537600e+04</td>\n",
              "      <td>1.537600e+04</td>\n",
              "      <td>1.863000e+03</td>\n",
              "      <td>1.845000e+03</td>\n",
              "    </tr>\n",
              "  </tbody>\n",
              "</table>\n",
              "</div>"
            ],
            "text/plain": [
              "         DayofMonth     DayOfWeek  OriginAirportID  DestAirportID  \\\n",
              "count  2.702218e+06  2.702218e+06     2.702218e+06   2.702218e+06   \n",
              "mean   1.579790e+01  3.899480e+00     1.274260e+04   1.274300e+04   \n",
              "std    8.798835e+00  1.985925e+00     1.501841e+03   1.501801e+03   \n",
              "min    1.000000e+00  1.000000e+00     1.014000e+04   1.014000e+04   \n",
              "25%    8.000000e+00  2.000000e+00     1.129200e+04   1.129200e+04   \n",
              "50%    1.600000e+01  4.000000e+00     1.289200e+04   1.289200e+04   \n",
              "75%    2.300000e+01  6.000000e+00     1.405700e+04   1.405700e+04   \n",
              "max    3.100000e+01  7.000000e+00     1.537600e+04   1.537600e+04   \n",
              "\n",
              "           DepDelay      ArrDelay  \n",
              "count  2.702218e+06  2.702218e+06  \n",
              "mean   1.051073e+01  6.655011e+00  \n",
              "std    3.602976e+01  3.854758e+01  \n",
              "min   -6.300000e+01 -9.400000e+01  \n",
              "25%   -4.000000e+00 -1.100000e+01  \n",
              "50%   -1.000000e+00 -3.000000e+00  \n",
              "75%    9.000000e+00  1.000000e+01  \n",
              "max    1.863000e+03  1.845000e+03  "
            ]
          },
          "metadata": {
            "tags": []
          },
          "execution_count": 20
        }
      ]
    },
    {
      "metadata": {
        "id": "THn5vSIMIjGR",
        "colab_type": "code",
        "outputId": "1c146e97-f5e6-4dcd-f3c4-ab280533e2f5",
        "colab": {
          "base_uri": "https://localhost:8080/",
          "height": 222
        }
      },
      "cell_type": "code",
      "source": [
        "# create labels\n",
        "flights_df[\"late\"] = 0\n",
        "flights_df.loc[flights_df[\"ArrDelay\"] > 15,\"late\"] = 1\n",
        "flights_df.head(5)"
      ],
      "execution_count": 21,
      "outputs": [
        {
          "output_type": "execute_result",
          "data": {
            "text/html": [
              "<div>\n",
              "<style scoped>\n",
              "    .dataframe tbody tr th:only-of-type {\n",
              "        vertical-align: middle;\n",
              "    }\n",
              "\n",
              "    .dataframe tbody tr th {\n",
              "        vertical-align: top;\n",
              "    }\n",
              "\n",
              "    .dataframe thead th {\n",
              "        text-align: right;\n",
              "    }\n",
              "</style>\n",
              "<table border=\"1\" class=\"dataframe\">\n",
              "  <thead>\n",
              "    <tr style=\"text-align: right;\">\n",
              "      <th></th>\n",
              "      <th>DayofMonth</th>\n",
              "      <th>DayOfWeek</th>\n",
              "      <th>Carrier</th>\n",
              "      <th>OriginAirportID</th>\n",
              "      <th>DestAirportID</th>\n",
              "      <th>DepDelay</th>\n",
              "      <th>ArrDelay</th>\n",
              "      <th>late</th>\n",
              "    </tr>\n",
              "  </thead>\n",
              "  <tbody>\n",
              "    <tr>\n",
              "      <th>0</th>\n",
              "      <td>19</td>\n",
              "      <td>5</td>\n",
              "      <td>DL</td>\n",
              "      <td>11433</td>\n",
              "      <td>13303</td>\n",
              "      <td>-3</td>\n",
              "      <td>1</td>\n",
              "      <td>0</td>\n",
              "    </tr>\n",
              "    <tr>\n",
              "      <th>1</th>\n",
              "      <td>19</td>\n",
              "      <td>5</td>\n",
              "      <td>DL</td>\n",
              "      <td>14869</td>\n",
              "      <td>12478</td>\n",
              "      <td>0</td>\n",
              "      <td>-8</td>\n",
              "      <td>0</td>\n",
              "    </tr>\n",
              "    <tr>\n",
              "      <th>2</th>\n",
              "      <td>19</td>\n",
              "      <td>5</td>\n",
              "      <td>DL</td>\n",
              "      <td>14057</td>\n",
              "      <td>14869</td>\n",
              "      <td>-4</td>\n",
              "      <td>-15</td>\n",
              "      <td>0</td>\n",
              "    </tr>\n",
              "    <tr>\n",
              "      <th>3</th>\n",
              "      <td>19</td>\n",
              "      <td>5</td>\n",
              "      <td>DL</td>\n",
              "      <td>15016</td>\n",
              "      <td>11433</td>\n",
              "      <td>28</td>\n",
              "      <td>24</td>\n",
              "      <td>1</td>\n",
              "    </tr>\n",
              "    <tr>\n",
              "      <th>4</th>\n",
              "      <td>19</td>\n",
              "      <td>5</td>\n",
              "      <td>DL</td>\n",
              "      <td>11193</td>\n",
              "      <td>12892</td>\n",
              "      <td>-6</td>\n",
              "      <td>-11</td>\n",
              "      <td>0</td>\n",
              "    </tr>\n",
              "  </tbody>\n",
              "</table>\n",
              "</div>"
            ],
            "text/plain": [
              "   DayofMonth  DayOfWeek Carrier  OriginAirportID  DestAirportID  DepDelay  \\\n",
              "0          19          5      DL            11433          13303        -3   \n",
              "1          19          5      DL            14869          12478         0   \n",
              "2          19          5      DL            14057          14869        -4   \n",
              "3          19          5      DL            15016          11433        28   \n",
              "4          19          5      DL            11193          12892        -6   \n",
              "\n",
              "   ArrDelay  late  \n",
              "0         1     0  \n",
              "1        -8     0  \n",
              "2       -15     0  \n",
              "3        24     1  \n",
              "4       -11     0  "
            ]
          },
          "metadata": {
            "tags": []
          },
          "execution_count": 21
        }
      ]
    },
    {
      "metadata": {
        "id": "DHQoiNlfE3hA",
        "colab_type": "code",
        "colab": {}
      },
      "cell_type": "code",
      "source": [
        "X = flights_df.loc[:, [\"DayofMonth\", \"DayOfWeek\", \"OriginAirportID\", \n",
        "                       \"DestAirportID\", \"DepDelay\"]]\n",
        "y = flights_df.loc[:, \"late\"]\n",
        "X_train, X_test, y_train, y_test = train_test_split(\n",
        "    X, y, test_size=0.3, random_state=42)"
      ],
      "execution_count": 0,
      "outputs": []
    },
    {
      "metadata": {
        "id": "9A2wrefi8VxI",
        "colab_type": "code",
        "colab": {}
      },
      "cell_type": "code",
      "source": [
        "class EncodeNumericalCol():\n",
        "    def __init__(self, col_name):\n",
        "        self.col_name = col_name\n",
        "    \n",
        "    def fit(self, X, y=None):\n",
        "        self.ss = StandardScaler()\n",
        "        self.ss.fit(X.loc[:, self.col_name].values.reshape(-1, 1))\n",
        "        return self\n",
        "\n",
        "    def transform(self, X):\n",
        "        X[self.col_name] = self.ss.transform(X[self.col_name].values.reshape(-1, 1))\n",
        "        return X"
      ],
      "execution_count": 0,
      "outputs": []
    },
    {
      "metadata": {
        "id": "vfvjrjppF61R",
        "colab_type": "code",
        "colab": {
          "base_uri": "https://localhost:8080/",
          "height": 72
        },
        "outputId": "7b4a9324-9880-43d4-e3b1-e7fa47e62a9b"
      },
      "cell_type": "code",
      "source": [
        "enc_dep_delay = EncodeNumericalCol(col_name=\"DepDelay\")\n",
        "model = sklearnLogisticRegression()\n",
        "model.fit(X_train, y_train)\n",
        "pipeline = sklearnPipeline([(\"enc_dep_delay\", enc_dep_delay),\n",
        "                            (\"model\", model)])"
      ],
      "execution_count": 24,
      "outputs": [
        {
          "output_type": "stream",
          "text": [
            "/usr/local/lib/python3.6/dist-packages/sklearn/linear_model/logistic.py:433: FutureWarning: Default solver will be changed to 'lbfgs' in 0.22. Specify a solver to silence this warning.\n",
            "  FutureWarning)\n"
          ],
          "name": "stderr"
        }
      ]
    },
    {
      "metadata": {
        "id": "tLNyCJQOGgI9",
        "colab_type": "code",
        "outputId": "66cec621-4df7-4cb6-fe10-adf24eeb9b3f",
        "colab": {
          "base_uri": "https://localhost:8080/",
          "height": 627
        }
      },
      "cell_type": "code",
      "source": [
        "start_time = time.time()\n",
        "print(\"Training model...\")\n",
        "pipeline.fit(X_train, y_train)\n",
        "print(\"--- {} seconds ---\".format(time.time() - start_time))\n",
        "print(\"Evaluating model...\")\n",
        "y_pred = pipeline.predict(X_test)\n",
        "check_accuracy(y_test, y_pred)"
      ],
      "execution_count": 25,
      "outputs": [
        {
          "output_type": "stream",
          "text": [
            "Training model...\n"
          ],
          "name": "stdout"
        },
        {
          "output_type": "stream",
          "text": [
            "/usr/local/lib/python3.6/dist-packages/sklearn/utils/validation.py:595: DataConversionWarning: Data with input dtype int64 was converted to float64 by StandardScaler.\n",
            "  warnings.warn(msg, DataConversionWarning)\n",
            "/usr/local/lib/python3.6/dist-packages/sklearn/utils/validation.py:595: DataConversionWarning: Data with input dtype int64 was converted to float64 by StandardScaler.\n",
            "  warnings.warn(msg, DataConversionWarning)\n",
            "/usr/local/lib/python3.6/dist-packages/ipykernel_launcher.py:11: SettingWithCopyWarning: \n",
            "A value is trying to be set on a copy of a slice from a DataFrame.\n",
            "Try using .loc[row_indexer,col_indexer] = value instead\n",
            "\n",
            "See the caveats in the documentation: http://pandas.pydata.org/pandas-docs/stable/indexing.html#indexing-view-versus-copy\n",
            "  # This is added back by InteractiveShellApp.init_path()\n",
            "/usr/local/lib/python3.6/dist-packages/sklearn/linear_model/logistic.py:433: FutureWarning: Default solver will be changed to 'lbfgs' in 0.22. Specify a solver to silence this warning.\n",
            "  FutureWarning)\n"
          ],
          "name": "stderr"
        },
        {
          "output_type": "stream",
          "text": [
            "--- 12.057843446731567 seconds ---\n",
            "Evaluating model...\n"
          ],
          "name": "stdout"
        },
        {
          "output_type": "stream",
          "text": [
            "/usr/local/lib/python3.6/dist-packages/sklearn/utils/validation.py:595: DataConversionWarning: Data with input dtype int64 was converted to float64 by StandardScaler.\n",
            "  warnings.warn(msg, DataConversionWarning)\n",
            "/usr/local/lib/python3.6/dist-packages/ipykernel_launcher.py:11: SettingWithCopyWarning: \n",
            "A value is trying to be set on a copy of a slice from a DataFrame.\n",
            "Try using .loc[row_indexer,col_indexer] = value instead\n",
            "\n",
            "See the caveats in the documentation: http://pandas.pydata.org/pandas-docs/stable/indexing.html#indexing-view-versus-copy\n",
            "  # This is added back by InteractiveShellApp.init_path()\n"
          ],
          "name": "stderr"
        },
        {
          "output_type": "stream",
          "text": [
            "Post grid search\n",
            "Accuracy: 0.907768427441141\n",
            "Precision: 0.9791140566589107\n",
            "Recall: 0.5492193685669042\n",
            "F1: 0.7037056117171989\n",
            "Confusion\t Predicted\n",
            "\t\t True \t\t False\n",
            "Actual True \t 88789 \t 72875\n",
            "Actual False \t 1894 \t\t 647108\n",
            "Confusion precision 0.9791140566589107\n",
            "Confusion recall 0.5492193685669042\n"
          ],
          "name": "stdout"
        }
      ]
    },
    {
      "metadata": {
        "id": "Erq84RoLImm8",
        "colab_type": "code",
        "colab": {
          "base_uri": "https://localhost:8080/",
          "height": 1476
        },
        "outputId": "809680db-6f82-4e23-ef4e-005bbbf07fca"
      },
      "cell_type": "code",
      "source": [
        "parameters = {\"solver\": [\"liblinear\", \"lbfgs\"], \"max_iter\": [25, 100], \n",
        "              \"C\": [0.3, 1.0]}\n",
        "model = GridSearchCV(sklearnLogisticRegression(), \n",
        "                     parameters, cv=3, scoring=\"f1\")\n",
        "start_time = time.time()\n",
        "print(\"Starting grid search ...\")\n",
        "model.fit(X_train, y_train)\n",
        "print(\"--- {} seconds ---\".format(time.time() - start_time))\n",
        "print(model.get_params)\n",
        "model.cv_results_"
      ],
      "execution_count": 28,
      "outputs": [
        {
          "output_type": "stream",
          "text": [
            "Starting grid search ...\n"
          ],
          "name": "stdout"
        },
        {
          "output_type": "stream",
          "text": [
            "/usr/local/lib/python3.6/dist-packages/sklearn/linear_model/logistic.py:758: ConvergenceWarning: lbfgs failed to converge. Increase the number of iterations.\n",
            "  \"of iterations.\", ConvergenceWarning)\n",
            "/usr/local/lib/python3.6/dist-packages/sklearn/linear_model/logistic.py:758: ConvergenceWarning: lbfgs failed to converge. Increase the number of iterations.\n",
            "  \"of iterations.\", ConvergenceWarning)\n",
            "/usr/local/lib/python3.6/dist-packages/sklearn/linear_model/logistic.py:758: ConvergenceWarning: lbfgs failed to converge. Increase the number of iterations.\n",
            "  \"of iterations.\", ConvergenceWarning)\n",
            "/usr/local/lib/python3.6/dist-packages/sklearn/linear_model/logistic.py:758: ConvergenceWarning: lbfgs failed to converge. Increase the number of iterations.\n",
            "  \"of iterations.\", ConvergenceWarning)\n",
            "/usr/local/lib/python3.6/dist-packages/sklearn/linear_model/logistic.py:758: ConvergenceWarning: lbfgs failed to converge. Increase the number of iterations.\n",
            "  \"of iterations.\", ConvergenceWarning)\n",
            "/usr/local/lib/python3.6/dist-packages/sklearn/linear_model/logistic.py:758: ConvergenceWarning: lbfgs failed to converge. Increase the number of iterations.\n",
            "  \"of iterations.\", ConvergenceWarning)\n"
          ],
          "name": "stderr"
        },
        {
          "output_type": "stream",
          "text": [
            "--- 278.1793808937073 seconds ---\n",
            "<bound method BaseEstimator.get_params of GridSearchCV(cv=3, error_score='raise-deprecating',\n",
            "       estimator=LogisticRegression(C=1.0, class_weight=None, dual=False, fit_intercept=True,\n",
            "          intercept_scaling=1, max_iter=100, multi_class='warn',\n",
            "          n_jobs=None, penalty='l2', random_state=None, solver='warn',\n",
            "          tol=0.0001, verbose=0, warm_start=False),\n",
            "       fit_params=None, iid='warn', n_jobs=None,\n",
            "       param_grid={'solver': ['liblinear', 'lbfgs'], 'max_iter': [25, 100], 'C': [0.3, 1.0]},\n",
            "       pre_dispatch='2*n_jobs', refit=True, return_train_score='warn',\n",
            "       scoring='f1', verbose=0)>\n"
          ],
          "name": "stdout"
        },
        {
          "output_type": "stream",
          "text": [
            "/usr/local/lib/python3.6/dist-packages/sklearn/utils/deprecation.py:125: FutureWarning: You are accessing a training score ('mean_train_score'), which will not be available by default any more in 0.21. If you need training scores, please set return_train_score=True\n",
            "  warnings.warn(*warn_args, **warn_kwargs)\n",
            "/usr/local/lib/python3.6/dist-packages/sklearn/utils/deprecation.py:125: FutureWarning: You are accessing a training score ('split0_train_score'), which will not be available by default any more in 0.21. If you need training scores, please set return_train_score=True\n",
            "  warnings.warn(*warn_args, **warn_kwargs)\n",
            "/usr/local/lib/python3.6/dist-packages/sklearn/utils/deprecation.py:125: FutureWarning: You are accessing a training score ('split1_train_score'), which will not be available by default any more in 0.21. If you need training scores, please set return_train_score=True\n",
            "  warnings.warn(*warn_args, **warn_kwargs)\n",
            "/usr/local/lib/python3.6/dist-packages/sklearn/utils/deprecation.py:125: FutureWarning: You are accessing a training score ('split2_train_score'), which will not be available by default any more in 0.21. If you need training scores, please set return_train_score=True\n",
            "  warnings.warn(*warn_args, **warn_kwargs)\n",
            "/usr/local/lib/python3.6/dist-packages/sklearn/utils/deprecation.py:125: FutureWarning: You are accessing a training score ('std_train_score'), which will not be available by default any more in 0.21. If you need training scores, please set return_train_score=True\n",
            "  warnings.warn(*warn_args, **warn_kwargs)\n"
          ],
          "name": "stderr"
        },
        {
          "output_type": "execute_result",
          "data": {
            "text/plain": [
              "{'mean_fit_time': array([ 8.69591196,  5.89076058,  8.79040122, 15.87993503,  8.40336013,\n",
              "         5.89400689,  8.49388742, 16.43181904]),\n",
              " 'mean_score_time': array([0.23999047, 0.23759659, 0.23413078, 0.24489792, 0.23123884,\n",
              "        0.23237046, 0.22783597, 0.26777633]),\n",
              " 'mean_test_score': array([0.73090004, 0.13596726, 0.73090004, 0.79155675, 0.71924914,\n",
              "        0.13596726, 0.71924914, 0.79390517]),\n",
              " 'mean_train_score': array([0.73130684, 0.13543593, 0.73130684, 0.79169317, 0.7199702 ,\n",
              "        0.13543593, 0.7199702 , 0.79394061]),\n",
              " 'param_C': masked_array(data=[0.3, 0.3, 0.3, 0.3, 1.0, 1.0, 1.0, 1.0],\n",
              "              mask=[False, False, False, False, False, False, False, False],\n",
              "        fill_value='?',\n",
              "             dtype=object),\n",
              " 'param_max_iter': masked_array(data=[25, 25, 100, 100, 25, 25, 100, 100],\n",
              "              mask=[False, False, False, False, False, False, False, False],\n",
              "        fill_value='?',\n",
              "             dtype=object),\n",
              " 'param_solver': masked_array(data=['liblinear', 'lbfgs', 'liblinear', 'lbfgs',\n",
              "                    'liblinear', 'lbfgs', 'liblinear', 'lbfgs'],\n",
              "              mask=[False, False, False, False, False, False, False, False],\n",
              "        fill_value='?',\n",
              "             dtype=object),\n",
              " 'params': [{'C': 0.3, 'max_iter': 25, 'solver': 'liblinear'},\n",
              "  {'C': 0.3, 'max_iter': 25, 'solver': 'lbfgs'},\n",
              "  {'C': 0.3, 'max_iter': 100, 'solver': 'liblinear'},\n",
              "  {'C': 0.3, 'max_iter': 100, 'solver': 'lbfgs'},\n",
              "  {'C': 1.0, 'max_iter': 25, 'solver': 'liblinear'},\n",
              "  {'C': 1.0, 'max_iter': 25, 'solver': 'lbfgs'},\n",
              "  {'C': 1.0, 'max_iter': 100, 'solver': 'liblinear'},\n",
              "  {'C': 1.0, 'max_iter': 100, 'solver': 'lbfgs'}],\n",
              " 'rank_test_score': array([3, 7, 3, 2, 5, 7, 5, 1], dtype=int32),\n",
              " 'split0_test_score': array([0.7158764 , 0.16251738, 0.7158764 , 0.78702407, 0.77890305,\n",
              "        0.16251738, 0.77890305, 0.79407074]),\n",
              " 'split0_train_score': array([0.71435429, 0.16083519, 0.71435429, 0.78703198, 0.77856089,\n",
              "        0.16083519, 0.77856089, 0.79373106]),\n",
              " 'split1_test_score': array([0.7088497 , 0.11135606, 0.7088497 , 0.79378949, 0.7088497 ,\n",
              "        0.11135606, 0.7088497 , 0.7937985 ]),\n",
              " 'split1_train_score': array([0.71150419, 0.11340001, 0.71150419, 0.79415153, 0.71152052,\n",
              "        0.11340001, 0.71152052, 0.79419003]),\n",
              " 'split2_test_score': array([0.76797404, 0.13402828, 0.76797404, 0.79385671, 0.66999458,\n",
              "        0.13402828, 0.66999458, 0.79384626]),\n",
              " 'split2_train_score': array([0.76806204, 0.13207259, 0.76806204, 0.79389601, 0.66982918,\n",
              "        0.13207259, 0.66982918, 0.79390072]),\n",
              " 'std_fit_time': array([0.46598846, 0.01075367, 0.54615535, 3.24274422, 0.26245538,\n",
              "        0.10153799, 0.11743414, 0.33921335]),\n",
              " 'std_score_time': array([0.01050077, 0.01079944, 0.00148658, 0.00667896, 0.00631212,\n",
              "        0.00417963, 0.00569551, 0.02067514]),\n",
              " 'std_test_score': array([0.02637175, 0.02093148, 0.02637175, 0.00320521, 0.0450657 ,\n",
              "        0.02093148, 0.0450657 , 0.00011869]),\n",
              " 'std_train_score': array([0.02601588, 0.01951082, 0.02601588, 0.00329761, 0.04478984,\n",
              "        0.01951082, 0.04478984, 0.00018949])}"
            ]
          },
          "metadata": {
            "tags": []
          },
          "execution_count": 28
        }
      ]
    },
    {
      "metadata": {
        "id": "7leWTg4l9R_O",
        "colab_type": "code",
        "colab": {
          "base_uri": "https://localhost:8080/",
          "height": 208
        },
        "outputId": "b6157806-cc91-4fa5-8d4c-b327f50057f6"
      },
      "cell_type": "code",
      "source": [
        "y_pred = model.predict(X_test)\n",
        "check_accuracy(y_test, y_pred)"
      ],
      "execution_count": 29,
      "outputs": [
        {
          "output_type": "stream",
          "text": [
            "Post grid search\n",
            "Accuracy: 0.9265850547574463\n",
            "Precision: 0.8958250990056807\n",
            "Recall: 0.715007670229612\n",
            "F1: 0.795267925021586\n",
            "Confusion\t Predicted\n",
            "\t\t True \t\t False\n",
            "Actual True \t 115591 \t 46073\n",
            "Actual False \t 13442 \t\t 635560\n",
            "Confusion precision 0.8958250990056807\n",
            "Confusion recall 0.715007670229612\n"
          ],
          "name": "stdout"
        }
      ]
    }
  ]
}