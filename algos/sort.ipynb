{
 "cells": [
  {
   "cell_type": "markdown",
   "metadata": {},
   "source": [
    "# Sorting algorithms\n",
    "### Python 3 implementations"
   ]
  },
  {
   "cell_type": "code",
   "execution_count": 211,
   "metadata": {
    "collapsed": true
   },
   "outputs": [],
   "source": [
    "import random\n",
    "import unittest"
   ]
  },
  {
   "cell_type": "markdown",
   "metadata": {},
   "source": [
    "## Quadratic: O(n<sup>2</sup>)"
   ]
  },
  {
   "cell_type": "code",
   "execution_count": 212,
   "metadata": {
    "collapsed": true
   },
   "outputs": [],
   "source": [
    "class SelectionSort(object):\n",
    "    def sort(self, aList):\n",
    "        for i in range(0, len(aList)):\n",
    "            min_i = i\n",
    "            for j in range(i, len(aList)):\n",
    "                if (aList[j] < aList[min_i]):\n",
    "                    min_i = j\n",
    "            if (min_i != i):\n",
    "                temp = aList[i]\n",
    "                aList[i] = aList[min_i]\n",
    "                aList[min_i] = temp\n",
    "        return aList"
   ]
  },
  {
   "cell_type": "code",
   "execution_count": 213,
   "metadata": {
    "collapsed": true
   },
   "outputs": [],
   "source": [
    "class InsertionSort(object):\n",
    "    def sort(self, aList):\n",
    "        for i in range(1, len(aList)):\n",
    "            pivot = aList[i]\n",
    "            j = i - 1\n",
    "            while (j >= 0 and aList[j] > pivot):\n",
    "                aList[j + 1] = aList[j]\n",
    "                j -= 1\n",
    "            aList[j + 1] = pivot\n",
    "        return aList"
   ]
  },
  {
   "cell_type": "code",
   "execution_count": 214,
   "metadata": {
    "collapsed": true
   },
   "outputs": [],
   "source": [
    "class BubbleSort(object):\n",
    "    def sort(self, aList):\n",
    "        for i in range(len(aList)):\n",
    "            for j in range(len(aList) - 1):\n",
    "                if (aList[j] > aList[j + 1]):\n",
    "                    temp = aList[j]\n",
    "                    aList[j] = aList[j + 1]\n",
    "                    aList[j + 1] = temp\n",
    "        return aList"
   ]
  },
  {
   "cell_type": "markdown",
   "metadata": {},
   "source": [
    "## Log: O(n * log(n))"
   ]
  },
  {
   "cell_type": "code",
   "execution_count": 215,
   "metadata": {
    "collapsed": true
   },
   "outputs": [],
   "source": [
    "class MergeSort(object):\n",
    "    def sort(self, aList):\n",
    "        # split list into 2 halves\n",
    "        if (len(aList) < 2):\n",
    "            return\n",
    "        mid = int(len(aList) / 2)\n",
    "        left = aList[:mid]\n",
    "        right = aList[mid:]\n",
    "        \n",
    "        # recursively sort left half and right half\n",
    "        self.sort(left)\n",
    "        self.sort(right)\n",
    "        \n",
    "        # merge sorted left and right halves\n",
    "        l = 0\n",
    "        r = 0\n",
    "        for i in range(len(aList)):\n",
    "            if (l < len(left) and r < len(right)):\n",
    "                if (left[l] < right[r]):\n",
    "                    aList[i] = left[l]\n",
    "                    l += 1\n",
    "                else:\n",
    "                    aList[i] = right[r]\n",
    "                    r += 1\n",
    "            elif (l < len(left)):\n",
    "                aList[i] = left[l]\n",
    "                l += 1\n",
    "            elif (r < len(right)):\n",
    "                aList[i] = right[r]\n",
    "                r += 1\n",
    "        return aList"
   ]
  },
  {
   "cell_type": "code",
   "execution_count": 216,
   "metadata": {
    "collapsed": false
   },
   "outputs": [],
   "source": [
    "class QuickSort(object):\n",
    "    def sort(self, aList):\n",
    "        self.sortHelper(aList, 0, len(aList))\n",
    "    \n",
    "    def sortHelper(self, aList, start, end):\n",
    "        if (start < end):\n",
    "            p = self.pivot(aList, start, end)\n",
    "            self.sortHelper(aList, start, p)\n",
    "            self.sortHelper(aList, p + 1, end)\n",
    "    \n",
    "    def pivot(self, aList, start ,end):\n",
    "        p_val = aList[start]\n",
    "        j = start + 1\n",
    "        for i in range(j, len(aList)):\n",
    "            if aList[i] < p_val:\n",
    "                temp = aList[i]\n",
    "                aList[i] = aList[j]\n",
    "                aList[j] = temp\n",
    "                j += 1\n",
    "        j -= 1\n",
    "        aList[start] = aList[j]\n",
    "        aList[j] = p_val\n",
    "        return j"
   ]
  },
  {
   "cell_type": "markdown",
   "metadata": {},
   "source": [
    "## Linear: O(n + k)"
   ]
  },
  {
   "cell_type": "code",
   "execution_count": 217,
   "metadata": {
    "collapsed": false
   },
   "outputs": [],
   "source": [
    "class BucketSort(object):\n",
    "    def sort(self, al, num_buckets=10):\n",
    "        buckets = [[] for i in range(num_buckets)]\n",
    "        min_val = min(al)\n",
    "        max_val = max(al)\n",
    "        # allocate to buckets\n",
    "        step = (max_val - min_val) / num_buckets\n",
    "        for i in al:\n",
    "            b = min(int((i - min_val) / step), num_buckets - 1) \n",
    "            buckets[b].append(i)\n",
    "        # sort and return buckets\n",
    "        output = []\n",
    "        for i in buckets:\n",
    "            output += sorted(i)\n",
    "        return output"
   ]
  },
  {
   "cell_type": "code",
   "execution_count": 218,
   "metadata": {
    "collapsed": true
   },
   "outputs": [],
   "source": [
    "class CountingSort(object):\n",
    "    def sort(self, aList):\n",
    "        min_val = min(aList)\n",
    "        max_val = max(aList)\n",
    "        buckets = [0 for i in range(max_val - min_val + 1)]   \n",
    "        # iterate over 'n'\n",
    "        for i in aList:\n",
    "            buckets[i - min_val] += 1\n",
    "        # iterate over 'k'\n",
    "        count = 0\n",
    "        for i in range(0, len(buckets)):\n",
    "            while (buckets[i] > 0):\n",
    "                aList[count] = i + min_val\n",
    "                count += 1\n",
    "                buckets[i] -= 1\n",
    "        return aList"
   ]
  },
  {
   "cell_type": "code",
   "execution_count": 219,
   "metadata": {
    "collapsed": true
   },
   "outputs": [],
   "source": [
    "class RadixSort(object):\n",
    "    def sort(self, aList):\n",
    "        aList_len = len(aList)\n",
    "        mod = 10\n",
    "        div = 1\n",
    "        while True:\n",
    "            # buckets #1-9 negative num, #10 == 0, #11-19 positive num\n",
    "            sort_buckets = [[] for i in range(mod + 10)]\n",
    "            for value in aList:\n",
    "                least_digit = int(value % mod)\n",
    "                least_digit = int(least_digit / div)\n",
    "                # if positive, move to buckets #11-19\n",
    "                if value >= 0:\n",
    "                    least_digit += 10\n",
    "                sort_buckets[least_digit].append(value)\n",
    "            mod = mod * 10\n",
    "            div = div * 10\n",
    "\n",
    "            # negative numbers sorted in #9, positive in #10\n",
    "            if len(sort_buckets[9]) + len(sort_buckets[10]) == aList_len:\n",
    "                return sort_buckets[9] + sort_buckets[10]\n",
    "\n",
    "            aList = []\n",
    "            list_append = aList.append\n",
    "            for x in sort_buckets:\n",
    "                for y in x:\n",
    "                    list_append(y)"
   ]
  },
  {
   "cell_type": "markdown",
   "metadata": {},
   "source": [
    "## Test"
   ]
  },
  {
   "cell_type": "code",
   "execution_count": 220,
   "metadata": {
    "collapsed": false
   },
   "outputs": [
    {
     "name": "stderr",
     "output_type": "stream",
     "text": [
      "test_bubble_sort (__main__.TestSorts) ... ok\n",
      "test_bucket_sort (__main__.TestSorts) ... ok\n",
      "test_counting_sort (__main__.TestSorts) ... ok\n",
      "test_insertion_sort (__main__.TestSorts) ... ok\n",
      "test_merge_sort (__main__.TestSorts) ... ok\n",
      "test_quick_sort (__main__.TestSorts) ... ok\n",
      "test_radix_sort (__main__.TestSorts) ... ok\n",
      "test_selection_sort (__main__.TestSorts) ... ok\n",
      "\n",
      "----------------------------------------------------------------------\n",
      "Ran 8 tests in 0.009s\n",
      "\n",
      "OK\n"
     ]
    },
    {
     "data": {
      "text/plain": [
       "<unittest.runner.TextTestResult run=8 errors=0 failures=0>"
      ]
     },
     "execution_count": 220,
     "metadata": {},
     "output_type": "execute_result"
    }
   ],
   "source": [
    "class TestSorts(unittest.TestCase):\n",
    "    def setUp(self):\n",
    "        self.testList1 = [3, -1, 9, 8, 2, 5]\n",
    "        self.testList2 = [3, -1, 9, 8, 2, 5, 7]\n",
    "        self.testList1_sorted = [-1, 2, 3, 5, 8, 9]\n",
    "        self.testList2_sorted = [-1, 2, 3, 5, 7, 8, 9]\n",
    "        random.shuffle(self.testList1)\n",
    "        random.shuffle(self.testList2)\n",
    "        \n",
    "    def tearDown(self):\n",
    "        pass\n",
    "    \n",
    "    def test_selection_sort(self):\n",
    "        selection_sort = SelectionSort()\n",
    "        self.run_sort(selection_sort)\n",
    "        \n",
    "    def test_insertion_sort(self):\n",
    "        insertion_sort = InsertionSort()\n",
    "        self.run_sort(insertion_sort)\n",
    "        \n",
    "    def test_bubble_sort(self):\n",
    "        bubble_sort = BubbleSort()\n",
    "        self.run_sort(bubble_sort)\n",
    "        \n",
    "    def test_merge_sort(self):\n",
    "        merge_sort = MergeSort()\n",
    "        self.run_sort(merge_sort)\n",
    "        \n",
    "    def test_quick_sort(self):\n",
    "        quick_sort = QuickSort()\n",
    "        quick_sort.sort(self.testList1)\n",
    "        self.assertEqual(self.testList1, self.testList1_sorted)\n",
    "        quick_sort.sort(self.testList2)\n",
    "        self.assertEqual(self.testList2, self.testList2_sorted)\n",
    "        \n",
    "    def test_bucket_sort(self):\n",
    "        bucket_sort = BucketSort()\n",
    "        self.run_sort(bucket_sort)\n",
    "        \n",
    "    def test_counting_sort(self):\n",
    "        counting_sort = CountingSort()\n",
    "        self.run_sort(counting_sort)\n",
    "        \n",
    "    def test_radix_sort(self):\n",
    "        radix_sort = RadixSort()\n",
    "        self.run_sort(radix_sort)\n",
    "        \n",
    "    def run_sort(self, sort_type):\n",
    "        out = sort_type.sort(self.testList1)\n",
    "        self.assertEqual(out, self.testList1_sorted)\n",
    "        out = sort_type.sort(self.testList2)\n",
    "        self.assertEqual(out, self.testList2_sorted)\n",
    "\n",
    "# runner\n",
    "my_suite = unittest.TestSuite()\n",
    "my_suite.addTests(unittest.makeSuite(TestSorts))\n",
    "unittest.TextTestRunner(verbosity = 2).run(my_suite)"
   ]
  },
  {
   "cell_type": "code",
   "execution_count": null,
   "metadata": {
    "collapsed": true
   },
   "outputs": [],
   "source": []
  }
 ],
 "metadata": {
  "kernelspec": {
   "display_name": "Python 3",
   "language": "python",
   "name": "python3"
  },
  "language_info": {
   "codemirror_mode": {
    "name": "ipython",
    "version": 3
   },
   "file_extension": ".py",
   "mimetype": "text/x-python",
   "name": "python",
   "nbconvert_exporter": "python",
   "pygments_lexer": "ipython3",
   "version": "3.4.5"
  }
 },
 "nbformat": 4,
 "nbformat_minor": 0
}
