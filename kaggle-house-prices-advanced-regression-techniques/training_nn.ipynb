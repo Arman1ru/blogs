{
 "cells": [
  {
   "cell_type": "code",
   "execution_count": 2,
   "metadata": {},
   "outputs": [],
   "source": [
    "import numpy as np\n",
    "import pandas as pd\n",
    "import pickle\n",
    "import statsmodels.api as sm\n",
    "from sklearn.neural_network import MLPRegressor\n",
    "from sklearn.feature_selection import RFE\n",
    "from sklearn.metrics import mean_absolute_error\n",
    "from sklearn.metrics import mean_squared_error\n",
    "from sklearn.metrics import r2_score\n",
    "from sklearn.model_selection import KFold"
   ]
  },
  {
   "cell_type": "markdown",
   "metadata": {},
   "source": [
    "## Build Model"
   ]
  },
  {
   "cell_type": "code",
   "execution_count": 13,
   "metadata": {},
   "outputs": [],
   "source": [
    "df_train = pd.read_csv(\"data/train_clean.csv\", header=0, index_col=0)\n",
    "columns_model_only = pickle.load(open(\"columns_model_only.pkl\", \"rb\"))\n",
    "X = df_train[columns_model_only]\n",
    "y = df_train[\"SalePrice\"]"
   ]
  },
  {
   "cell_type": "markdown",
   "metadata": {},
   "source": [
    "# K-Fold Cross Validation"
   ]
  },
  {
   "cell_type": "code",
   "execution_count": 19,
   "metadata": {},
   "outputs": [
    {
     "name": "stdout",
     "output_type": "stream",
     "text": [
      "  test_idx  R2 train    RMSE train      MAE test   R2 test     RMSE test  \\\n",
      "0  0 - 291  0.866907  29412.979195  18977.421772  0.878618  25914.508516   \n",
      "\n",
      "       MAE test  \n",
      "0  18846.504179  \n",
      "    test_idx  R2 train    RMSE train      MAE test   R2 test     RMSE test  \\\n",
      "0    0 - 291  0.866907  29412.979195  18977.421772  0.878618  25914.508516   \n",
      "1  292 - 583  0.865911  28924.874828  18992.379292  0.838658  32559.516236   \n",
      "\n",
      "       MAE test  \n",
      "0  18846.504179  \n",
      "1  21042.767972  \n",
      "    test_idx  R2 train    RMSE train      MAE test   R2 test     RMSE test  \\\n",
      "0    0 - 291  0.866907  29412.979195  18977.421772  0.878618  25914.508516   \n",
      "1  292 - 583  0.865911  28924.874828  18992.379292  0.838658  32559.516236   \n",
      "2  584 - 875  0.861677  28772.237848  18768.702358  0.864734  32015.951647   \n",
      "\n",
      "       MAE test  \n",
      "0  18846.504179  \n",
      "1  21042.767972  \n",
      "2  20462.013796  \n",
      "     test_idx  R2 train    RMSE train      MAE test   R2 test     RMSE test  \\\n",
      "0     0 - 291  0.866907  29412.979195  18977.421772  0.878618  25914.508516   \n",
      "1   292 - 583  0.865911  28924.874828  18992.379292  0.838658  32559.516236   \n",
      "2   584 - 875  0.861677  28772.237848  18768.702358  0.864734  32015.951647   \n",
      "3  876 - 1167  0.866801  29644.817250  19142.027248  0.862753  26368.027019   \n",
      "\n",
      "       MAE test  \n",
      "0  18846.504179  \n",
      "1  21042.767972  \n",
      "2  20462.013796  \n",
      "3  18960.675673  \n",
      "      test_idx  R2 train    RMSE train      MAE test   R2 test     RMSE test  \\\n",
      "0      0 - 291  0.866907  29412.979195  18977.421772  0.878618  25914.508516   \n",
      "1    292 - 583  0.865911  28924.874828  18992.379292  0.838658  32559.516236   \n",
      "2    584 - 875  0.861677  28772.237848  18768.702358  0.864734  32015.951647   \n",
      "3   876 - 1167  0.866801  29644.817250  19142.027248  0.862753  26368.027019   \n",
      "4  1168 - 1459  0.878511  27459.627859  18576.498160  0.793808  37183.217768   \n",
      "\n",
      "       MAE test  \n",
      "0  18846.504179  \n",
      "1  21042.767972  \n",
      "2  20462.013796  \n",
      "3  18960.675673  \n",
      "4  20880.144872  \n"
     ]
    },
    {
     "data": {
      "text/html": [
       "<div>\n",
       "<style scoped>\n",
       "    .dataframe tbody tr th:only-of-type {\n",
       "        vertical-align: middle;\n",
       "    }\n",
       "\n",
       "    .dataframe tbody tr th {\n",
       "        vertical-align: top;\n",
       "    }\n",
       "\n",
       "    .dataframe thead th {\n",
       "        text-align: right;\n",
       "    }\n",
       "</style>\n",
       "<table border=\"1\" class=\"dataframe\">\n",
       "  <thead>\n",
       "    <tr style=\"text-align: right;\">\n",
       "      <th></th>\n",
       "      <th>test_idx</th>\n",
       "      <th>R2 train</th>\n",
       "      <th>RMSE train</th>\n",
       "      <th>MAE test</th>\n",
       "      <th>R2 test</th>\n",
       "      <th>RMSE test</th>\n",
       "      <th>MAE test</th>\n",
       "    </tr>\n",
       "  </thead>\n",
       "  <tbody>\n",
       "    <tr>\n",
       "      <th>0</th>\n",
       "      <td>0 - 291</td>\n",
       "      <td>0.866907</td>\n",
       "      <td>29412.979195</td>\n",
       "      <td>18977.421772</td>\n",
       "      <td>0.878618</td>\n",
       "      <td>25914.508516</td>\n",
       "      <td>18846.504179</td>\n",
       "    </tr>\n",
       "    <tr>\n",
       "      <th>1</th>\n",
       "      <td>292 - 583</td>\n",
       "      <td>0.865911</td>\n",
       "      <td>28924.874828</td>\n",
       "      <td>18992.379292</td>\n",
       "      <td>0.838658</td>\n",
       "      <td>32559.516236</td>\n",
       "      <td>21042.767972</td>\n",
       "    </tr>\n",
       "    <tr>\n",
       "      <th>2</th>\n",
       "      <td>584 - 875</td>\n",
       "      <td>0.861677</td>\n",
       "      <td>28772.237848</td>\n",
       "      <td>18768.702358</td>\n",
       "      <td>0.864734</td>\n",
       "      <td>32015.951647</td>\n",
       "      <td>20462.013796</td>\n",
       "    </tr>\n",
       "    <tr>\n",
       "      <th>3</th>\n",
       "      <td>876 - 1167</td>\n",
       "      <td>0.866801</td>\n",
       "      <td>29644.817250</td>\n",
       "      <td>19142.027248</td>\n",
       "      <td>0.862753</td>\n",
       "      <td>26368.027019</td>\n",
       "      <td>18960.675673</td>\n",
       "    </tr>\n",
       "    <tr>\n",
       "      <th>4</th>\n",
       "      <td>1168 - 1459</td>\n",
       "      <td>0.878511</td>\n",
       "      <td>27459.627859</td>\n",
       "      <td>18576.498160</td>\n",
       "      <td>0.793808</td>\n",
       "      <td>37183.217768</td>\n",
       "      <td>20880.144872</td>\n",
       "    </tr>\n",
       "  </tbody>\n",
       "</table>\n",
       "</div>"
      ],
      "text/plain": [
       "      test_idx  R2 train    RMSE train      MAE test   R2 test     RMSE test  \\\n",
       "0      0 - 291  0.866907  29412.979195  18977.421772  0.878618  25914.508516   \n",
       "1    292 - 583  0.865911  28924.874828  18992.379292  0.838658  32559.516236   \n",
       "2    584 - 875  0.861677  28772.237848  18768.702358  0.864734  32015.951647   \n",
       "3   876 - 1167  0.866801  29644.817250  19142.027248  0.862753  26368.027019   \n",
       "4  1168 - 1459  0.878511  27459.627859  18576.498160  0.793808  37183.217768   \n",
       "\n",
       "       MAE test  \n",
       "0  18846.504179  \n",
       "1  21042.767972  \n",
       "2  20462.013796  \n",
       "3  18960.675673  \n",
       "4  20880.144872  "
      ]
     },
     "execution_count": 19,
     "metadata": {},
     "output_type": "execute_result"
    }
   ],
   "source": [
    "X_cv = X.values\n",
    "y_cv = y.values\n",
    "\n",
    "kf = KFold(n_splits=5)\n",
    "kf.get_n_splits(X_cv)\n",
    "cv_results = pd.DataFrame(columns=[\n",
    "    \"test_idx\", \"R2 train\", \"RMSE train\", \"MAE test\", \n",
    "    \"R2 test\", \"RMSE test\", \"MAE test\"])\n",
    "for train_index, test_index in kf.split(X_cv):\n",
    "    X_train, X_test = X_cv[train_index], X_cv[test_index]\n",
    "    y_train, y_test = y_cv[train_index], y_cv[test_index]\n",
    "    estimator = MLPRegressor(hidden_layer_sizes=(50, 20), solver=\"adam\", activation=\"relu\", \n",
    "                         random_state=2, max_iter=3000)\n",
    "    estimator.fit(X_train, y_train)\n",
    "    y_train_pred = estimator.predict(X_train)\n",
    "    y_test_pred = estimator.predict(X_test)\n",
    "    # remove <0 prices\n",
    "    npvec_zero = np.vectorize(lambda x: max(min(y_train_pred), x))\n",
    "    y_train_pred = npvec_zero(y_train_pred)\n",
    "    y_test_pred = npvec_zero(y_test_pred)\n",
    "    mae_train = mean_absolute_error(y_train, y_train_pred)\n",
    "    mse = mean_squared_error(y_train, y_train_pred)\n",
    "    rmse_train = mse ** (0.5)\n",
    "    r2_train = r2_score(y_train, y_train_pred)\n",
    "    mae_test = mean_absolute_error(y_test, y_test_pred)\n",
    "    mse = mean_squared_error(y_test, y_test_pred)\n",
    "    rmse_test = mse ** (0.5)\n",
    "    r2_test = r2_score(y_test, y_test_pred)\n",
    "    cv_results.loc[len(cv_results)] = [\"{} - {}\".format(min(test_index), max(test_index)), \n",
    "                  r2_train, rmse_train, mae_train,\n",
    "                  r2_test, rmse_test, mae_test]\n",
    "    print(cv_results)\n",
    "cv_results"
   ]
  },
  {
   "cell_type": "code",
   "execution_count": 21,
   "metadata": {},
   "outputs": [],
   "source": [
    "# save output\n",
    "estimator.fit(X_train, y_train)\n",
    "pickle.dump(estimator, open(\"estimator_nn.pkl\", \"wb\"))"
   ]
  },
  {
   "cell_type": "code",
   "execution_count": 22,
   "metadata": {},
   "outputs": [
    {
     "name": "stdout",
     "output_type": "stream",
     "text": [
      "R2 0.860508521168799, RMSE 37183.21776792265, MAE 19037.22750226403\n"
     ]
    }
   ],
   "source": [
    "# final summary\n",
    "y_pred = estimator.predict(X)\n",
    "mae_final = mean_absolute_error(y, y_pred)\n",
    "mse_final = mean_squared_error(y, y_pred)\n",
    "rmse_final = mse ** (0.5)\n",
    "r2_final = r2_score(y, y_pred)\n",
    "print(\"R2 {}, RMSE {}, MAE {}\".format(r2_final, rmse_final, mae_final))"
   ]
  },
  {
   "cell_type": "code",
   "execution_count": null,
   "metadata": {},
   "outputs": [],
   "source": []
  },
  {
   "cell_type": "code",
   "execution_count": null,
   "metadata": {},
   "outputs": [],
   "source": []
  },
  {
   "cell_type": "code",
   "execution_count": null,
   "metadata": {},
   "outputs": [],
   "source": []
  }
 ],
 "metadata": {
  "kernelspec": {
   "display_name": "Python 3",
   "language": "python",
   "name": "python3"
  },
  "language_info": {
   "codemirror_mode": {
    "name": "ipython",
    "version": 3
   },
   "file_extension": ".py",
   "mimetype": "text/x-python",
   "name": "python",
   "nbconvert_exporter": "python",
   "pygments_lexer": "ipython3",
   "version": "3.6.6"
  }
 },
 "nbformat": 4,
 "nbformat_minor": 2
}
