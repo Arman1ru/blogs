{
 "cells": [
  {
   "cell_type": "code",
   "execution_count": 1,
   "metadata": {},
   "outputs": [],
   "source": [
    "import datetime\n",
    "import pandas as pd\n",
    "import pickle"
   ]
  },
  {
   "cell_type": "code",
   "execution_count": 2,
   "metadata": {},
   "outputs": [],
   "source": [
    "model = pickle.load(open(\"model.pkl\", \"rb\"))\n",
    "columns_model_only = pickle.load(open(\"columns_model_only.pkl\", \"rb\"))"
   ]
  },
  {
   "cell_type": "markdown",
   "metadata": {},
   "source": [
    "## Generate Forecasts"
   ]
  },
  {
   "cell_type": "code",
   "execution_count": 3,
   "metadata": {},
   "outputs": [],
   "source": [
    "df_test = pd.read_csv(\"data/test_clean.csv\", header=0, index_col=0)\n",
    "X_test = df_test[columns_model_only]"
   ]
  },
  {
   "cell_type": "code",
   "execution_count": 4,
   "metadata": {},
   "outputs": [],
   "source": [
    "price_forecasts = model.predict(X_test)"
   ]
  },
  {
   "cell_type": "code",
   "execution_count": 5,
   "metadata": {},
   "outputs": [],
   "source": [
    "test_ids = pd.read_csv(\"data/test.csv\", header=0)[\"Id\"]"
   ]
  },
  {
   "cell_type": "code",
   "execution_count": 18,
   "metadata": {},
   "outputs": [],
   "source": [
    "df_output = pd.DataFrame(columns=[\"Id\", \"SalePrice\"])\n",
    "for i in range(len(price_forecasts)):\n",
    "    df_output.loc[len(df_output)] = [int(test_ids[i]), price_forecasts[i]]\n",
    "df_output[\"Id\"] = pd.Series(df_output[\"Id\"], dtype=int) # required format of Id column is int\n",
    "\n",
    "# Remove non-zero results\n",
    "df_output.loc[0, \"SalePrice\"] = -1000\n",
    "min_positive_price = min(df_output.loc[df_output[\"SalePrice\"]>0, \"SalePrice\"])\n",
    "df_output.loc[df_output[\"SalePrice\"]<0, \"SalePrice\"] = min_positive_price"
   ]
  },
  {
   "cell_type": "code",
   "execution_count": 7,
   "metadata": {},
   "outputs": [],
   "source": [
    "df_output.to_csv(\"submission/submission_{}.csv\".format(datetime.datetime.now()), header=True, index=False)"
   ]
  },
  {
   "cell_type": "code",
   "execution_count": null,
   "metadata": {},
   "outputs": [],
   "source": []
  }
 ],
 "metadata": {
  "kernelspec": {
   "display_name": "Python 3",
   "language": "python",
   "name": "python3"
  },
  "language_info": {
   "codemirror_mode": {
    "name": "ipython",
    "version": 3
   },
   "file_extension": ".py",
   "mimetype": "text/x-python",
   "name": "python",
   "nbconvert_exporter": "python",
   "pygments_lexer": "ipython3",
   "version": "3.6.6"
  }
 },
 "nbformat": 4,
 "nbformat_minor": 2
}
