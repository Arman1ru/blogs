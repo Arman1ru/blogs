{
  "nbformat": 4,
  "nbformat_minor": 0,
  "metadata": {
    "colab": {
      "name": "Classification.ipynb",
      "version": "0.3.2",
      "provenance": [],
      "collapsed_sections": []
    },
    "kernelspec": {
      "name": "python3",
      "display_name": "Python 3"
    }
  },
  "cells": [
    {
      "metadata": {
        "id": "aHghBWOxubSQ",
        "colab_type": "text"
      },
      "cell_type": "markdown",
      "source": [
        "# Classification\n",
        "## Platform: Spark, colab.research.google.com"
      ]
    },
    {
      "metadata": {
        "id": "u1k0LFpfuX60",
        "colab_type": "code",
        "colab": {}
      },
      "cell_type": "code",
      "source": [
        "# Colab preinstalled packages\n",
        "import pandas as pd"
      ],
      "execution_count": 0,
      "outputs": []
    },
    {
      "metadata": {
        "id": "-jQwTWE6udPn",
        "colab_type": "code",
        "colab": {}
      },
      "cell_type": "code",
      "source": [
        "# install Spark\n",
        "!apt-get install openjdk-8-jdk-headless -qq > /dev/null\n",
        "!wget -q http://www-us.apache.org/dist/spark/spark-2.3.1/spark-2.3.1-bin-hadoop2.7.tgz\n",
        "!tar xf spark-2.3.1-bin-hadoop2.7.tgz\n",
        "!pip install -q findspark"
      ],
      "execution_count": 0,
      "outputs": []
    },
    {
      "metadata": {
        "id": "YKK21Zmkuny6",
        "colab_type": "code",
        "colab": {}
      },
      "cell_type": "code",
      "source": [
        "# init Spark\n",
        "import os\n",
        "os.environ[\"JAVA_HOME\"] = \"/usr/lib/jvm/java-8-openjdk-amd64\"\n",
        "os.environ[\"SPARK_HOME\"] = \"/content/spark-2.3.1-bin-hadoop2.7\"\n",
        "import findspark\n",
        "findspark.init()\n",
        "from pyspark.sql import SparkSession\n",
        "spark = SparkSession.builder.master(\"local[*]\").getOrCreate()"
      ],
      "execution_count": 0,
      "outputs": []
    },
    {
      "metadata": {
        "id": "t6058xncWK9g",
        "colab_type": "code",
        "colab": {}
      },
      "cell_type": "code",
      "source": [
        "from pyspark.ml.classification import LogisticRegression\n",
        "from pyspark.ml.evaluation import BinaryClassificationEvaluator\n",
        "from pyspark.ml.feature import VectorAssembler\n",
        "from pyspark.sql.functions import *\n",
        "from pyspark.sql.types import *"
      ],
      "execution_count": 0,
      "outputs": []
    },
    {
      "metadata": {
        "id": "VWj6KwZ3uqMT",
        "colab_type": "code",
        "colab": {
          "base_uri": "https://localhost:8080/",
          "height": 35
        },
        "outputId": "a4614e9e-fd06-442a-80af-03a448b7bc04"
      },
      "cell_type": "code",
      "source": [
        "from google.colab import drive\n",
        "drive.mount('/content/gdrive', force_remount=True)"
      ],
      "execution_count": 70,
      "outputs": [
        {
          "output_type": "stream",
          "text": [
            "Mounted at /content/gdrive\n"
          ],
          "name": "stdout"
        }
      ]
    },
    {
      "metadata": {
        "id": "tRXyPLJ2usHS",
        "colab_type": "code",
        "colab": {}
      },
      "cell_type": "code",
      "source": [
        "flights_dfs = spark.read.csv(\"/content/gdrive/My Drive/Colab Notebooks/SparkAzureTutorial/data/flights.csv\", header=True, inferSchema=True)"
      ],
      "execution_count": 0,
      "outputs": []
    },
    {
      "metadata": {
        "id": "RvhTuYofvR3D",
        "colab_type": "code",
        "colab": {
          "base_uri": "https://localhost:8080/",
          "height": 211
        },
        "outputId": "46af8493-032e-47d7-9939-bbc4e9ed09e4"
      },
      "cell_type": "code",
      "source": [
        "flights_dfs.describe().show(5, False)"
      ],
      "execution_count": 72,
      "outputs": [
        {
          "output_type": "stream",
          "text": [
            "+-------+------------------+-----------------+-------+------------------+------------------+------------------+------------------+\n",
            "|summary|DayofMonth        |DayOfWeek        |Carrier|OriginAirportID   |DestAirportID     |DepDelay          |ArrDelay          |\n",
            "+-------+------------------+-----------------+-------+------------------+------------------+------------------+------------------+\n",
            "|count  |2702218           |2702218          |2702218|2702218           |2702218           |2702218           |2702218           |\n",
            "|mean   |15.797897875004903|3.899480352806472|null   |12742.597593162358|12743.000197985506|10.510732294729737|6.6550108096386005|\n",
            "|stddev |8.7988350691642   |1.985924603367557|null   |1501.8408475102513|1501.8014309297723|36.02975608466093 |38.547584236791245|\n",
            "|min    |1                 |1                |9E     |10140             |10140             |-63               |-94               |\n",
            "|max    |31                |7                |YV     |15376             |15376             |1863              |1845              |\n",
            "+-------+------------------+-----------------+-------+------------------+------------------+------------------+------------------+\n",
            "\n"
          ],
          "name": "stdout"
        }
      ]
    },
    {
      "metadata": {
        "id": "dztq1GpJvo6G",
        "colab_type": "code",
        "colab": {
          "base_uri": "https://localhost:8080/",
          "height": 208
        },
        "outputId": "45000f3a-c2ef-48a5-d72f-08550f680cc4"
      },
      "cell_type": "code",
      "source": [
        "data = flights_dfs.select(\"DayOfMonth\", \"DayOfWeek\", \"OriginAirportID\", \"DestAirportID\", \"DepDelay\", (col(\"ArrDelay\")>15).cast(\"Int\").alias(\"Late\"))\n",
        "data.show(5)"
      ],
      "execution_count": 73,
      "outputs": [
        {
          "output_type": "stream",
          "text": [
            "+----------+---------+---------------+-------------+--------+----+\n",
            "|DayOfMonth|DayOfWeek|OriginAirportID|DestAirportID|DepDelay|Late|\n",
            "+----------+---------+---------------+-------------+--------+----+\n",
            "|        19|        5|          11433|        13303|      -3|   0|\n",
            "|        19|        5|          14869|        12478|       0|   0|\n",
            "|        19|        5|          14057|        14869|      -4|   0|\n",
            "|        19|        5|          15016|        11433|      28|   1|\n",
            "|        19|        5|          11193|        12892|      -6|   0|\n",
            "+----------+---------+---------------+-------------+--------+----+\n",
            "only showing top 5 rows\n",
            "\n"
          ],
          "name": "stdout"
        }
      ]
    },
    {
      "metadata": {
        "id": "MkBPxthLwrSg",
        "colab_type": "code",
        "colab": {
          "base_uri": "https://localhost:8080/",
          "height": 35
        },
        "outputId": "2c4f8dbb-a86f-491e-f3a6-75bfd27d1e45"
      },
      "cell_type": "code",
      "source": [
        "splits = data.randomSplit([0.7, 0.3])\n",
        "train = splits[0]\n",
        "test = splits[1]\n",
        "print(\"Train len: {}, test len: {}\".format(train.count(), test.count()))"
      ],
      "execution_count": 74,
      "outputs": [
        {
          "output_type": "stream",
          "text": [
            "Train len: 1891173, test len: 811045\n"
          ],
          "name": "stdout"
        }
      ]
    },
    {
      "metadata": {
        "id": "xCII-CeQyyQZ",
        "colab_type": "code",
        "colab": {
          "base_uri": "https://localhost:8080/",
          "height": 208
        },
        "outputId": "528e3b83-7159-4ae5-e241-dbaac4dfc215"
      },
      "cell_type": "code",
      "source": [
        "assembler = VectorAssembler(inputCols = [\"DayOfMonth\", \"DayOfWeek\", \"OriginAirportID\", \"DestAirportID\", \"DepDelay\"], outputCol=\"features\")\n",
        "training = assembler.transform(train).select(col(\"features\"), col(\"Late\").alias(\"label\"))\n",
        "training.show(5, truncate=False)"
      ],
      "execution_count": 75,
      "outputs": [
        {
          "output_type": "stream",
          "text": [
            "+------------------------------+-----+\n",
            "|features                      |label|\n",
            "+------------------------------+-----+\n",
            "|[1.0,1.0,10140.0,10397.0,-4.0]|0    |\n",
            "|[1.0,1.0,10140.0,10397.0,-2.0]|0    |\n",
            "|[1.0,1.0,10140.0,10397.0,0.0] |0    |\n",
            "|[1.0,1.0,10140.0,10821.0,4.0] |0    |\n",
            "|[1.0,1.0,10140.0,10821.0,8.0] |0    |\n",
            "+------------------------------+-----+\n",
            "only showing top 5 rows\n",
            "\n"
          ],
          "name": "stdout"
        }
      ]
    },
    {
      "metadata": {
        "id": "_sTKuAc10Fu_",
        "colab_type": "code",
        "colab": {}
      },
      "cell_type": "code",
      "source": [
        "lr = LogisticRegression(labelCol=\"label\", featuresCol=\"features\", maxIter=10, regParam=0.3)\n",
        "model = lr.fit(training)"
      ],
      "execution_count": 0,
      "outputs": []
    },
    {
      "metadata": {
        "id": "fyaXJz0J1GKi",
        "colab_type": "code",
        "colab": {
          "base_uri": "https://localhost:8080/",
          "height": 208
        },
        "outputId": "5e22398a-80dc-43d7-e3d6-13c31f9b7932"
      },
      "cell_type": "code",
      "source": [
        "testing = assembler.transform(test).select(col(\"features\"), col(\"Late\").alias(\"label\"))\n",
        "testing.show(5, truncate=False)"
      ],
      "execution_count": 77,
      "outputs": [
        {
          "output_type": "stream",
          "text": [
            "+------------------------------+-----+\n",
            "|features                      |label|\n",
            "+------------------------------+-----+\n",
            "|[1.0,1.0,10140.0,10397.0,-2.0]|0    |\n",
            "|[1.0,1.0,10140.0,10397.0,0.0] |0    |\n",
            "|[1.0,1.0,10140.0,11259.0,-5.0]|0    |\n",
            "|[1.0,1.0,10140.0,11259.0,-2.0]|0    |\n",
            "|[1.0,1.0,10140.0,11259.0,24.0]|0    |\n",
            "+------------------------------+-----+\n",
            "only showing top 5 rows\n",
            "\n"
          ],
          "name": "stdout"
        }
      ]
    },
    {
      "metadata": {
        "id": "xs8FFg1f084u",
        "colab_type": "code",
        "colab": {}
      },
      "cell_type": "code",
      "source": [
        "prediction = model.transform(testing)"
      ],
      "execution_count": 0,
      "outputs": []
    },
    {
      "metadata": {
        "id": "CaKU4TR01w10",
        "colab_type": "code",
        "colab": {
          "base_uri": "https://localhost:8080/",
          "height": 228
        },
        "outputId": "1d6ec6b5-4918-46cd-bc7c-ed1ad762425e"
      },
      "cell_type": "code",
      "source": [
        "predicted = prediction.filter(\"prediction = 0.0\").select(\"features\", \"prediction\", \"probability\", \"label\")\n",
        "predicted.show(5, truncate=False)"
      ],
      "execution_count": 79,
      "outputs": [
        {
          "output_type": "stream",
          "text": [
            "+------------------------------+----------+----------------------------------------+-----+\n",
            "|features                      |prediction|probability                             |label|\n",
            "+------------------------------+----------+----------------------------------------+-----+\n",
            "|[1.0,1.0,10140.0,10397.0,-2.0]|0.0       |[0.8273427081270124,0.17265729187298773]|0    |\n",
            "|[1.0,1.0,10140.0,10397.0,0.0] |0.0       |[0.823288234492235,0.17671176550776502] |0    |\n",
            "|[1.0,1.0,10140.0,11259.0,-5.0]|0.0       |[0.8336477018241905,0.1663522981758096] |0    |\n",
            "|[1.0,1.0,10140.0,11259.0,-2.0]|0.0       |[0.827714763655645,0.172285236344355]   |0    |\n",
            "|[1.0,1.0,10140.0,11259.0,24.0]|0.0       |[0.769218878329818,0.23078112167018197] |0    |\n",
            "+------------------------------+----------+----------------------------------------+-----+\n",
            "only showing top 5 rows\n",
            "\n"
          ],
          "name": "stdout"
        }
      ]
    },
    {
      "metadata": {
        "id": "CRLSHCiS9ui7",
        "colab_type": "code",
        "colab": {
          "base_uri": "https://localhost:8080/",
          "height": 228
        },
        "outputId": "718d82d1-e1d1-441b-93c3-7e8acea11316"
      },
      "cell_type": "code",
      "source": [
        "predicted = prediction.filter(\"prediction = 1.0\").select(\"features\", \"prediction\", \"probability\", \"label\")\n",
        "predicted.show(5, truncate=False)"
      ],
      "execution_count": 80,
      "outputs": [
        {
          "output_type": "stream",
          "text": [
            "+-------------------------------+----------+------------------------------------------+-----+\n",
            "|features                       |prediction|probability                               |label|\n",
            "+-------------------------------+----------+------------------------------------------+-----+\n",
            "|[1.0,1.0,10140.0,12266.0,838.0]|1.0       |[3.5729577538386035E-5,0.9999642704224616]|1    |\n",
            "|[1.0,1.0,10397.0,12953.0,131.0]|1.0       |[0.42731779419546534,0.5726822058045347]  |1    |\n",
            "|[1.0,1.0,10397.0,12953.0,223.0]|1.0       |[0.16987624354452902,0.8301237564554709]  |1    |\n",
            "|[1.0,1.0,10397.0,13871.0,120.0]|1.0       |[0.46621528447441146,0.5337847155255886]  |1    |\n",
            "|[1.0,1.0,10693.0,12266.0,115.0]|1.0       |[0.48334003869755,0.51665996130245]       |1    |\n",
            "+-------------------------------+----------+------------------------------------------+-----+\n",
            "only showing top 5 rows\n",
            "\n"
          ],
          "name": "stdout"
        }
      ]
    },
    {
      "metadata": {
        "id": "mgbfHKTGOpN0",
        "colab_type": "code",
        "colab": {
          "base_uri": "https://localhost:8080/",
          "height": 104
        },
        "outputId": "f53a4cb2-281a-45e5-97ff-aa685e5e1f14"
      },
      "cell_type": "code",
      "source": [
        "trainingSummary = model.summary\n",
        "print(\"TP: {}. FP: {}\".format(trainingSummary.weightedTruePositiveRate, trainingSummary.weightedFalsePositiveRate))\n",
        "print(\"Accuracy: {}\".format(trainingSummary.accuracy))\n",
        "print(\"Precision: {}\".format(trainingSummary.weightedPrecision))\n",
        "print(\"Recall: {}\".format(trainingSummary.weightedRecall))\n",
        "print(\"Labels: {}\".format(trainingSummary.labels))"
      ],
      "execution_count": 82,
      "outputs": [
        {
          "output_type": "stream",
          "text": [
            "TP: 0.8247077343003523. FP: 0.7048177777769301\n",
            "Accuracy: 0.8247077343003523\n",
            "Precision: 0.855440164913897\n",
            "Recall: 0.8247077343003523\n",
            "Labels: [0.0, 1.0]\n"
          ],
          "name": "stdout"
        }
      ]
    },
    {
      "metadata": {
        "id": "v1e1O8mMOrSO",
        "colab_type": "text"
      },
      "cell_type": "markdown",
      "source": [
        ""
      ]
    },
    {
      "metadata": {
        "id": "OPKCmhoRBBTO",
        "colab_type": "text"
      },
      "cell_type": "markdown",
      "source": [
        "## Platform: Pandas, scikit-learn, colab.research.google.com"
      ]
    },
    {
      "metadata": {
        "id": "wjUBSNiKNF-g",
        "colab_type": "code",
        "colab": {}
      },
      "cell_type": "code",
      "source": [
        "from sklearn.linear_model import LogisticRegression\n",
        "from sklearn.metrics import confusion_matrix, recall_score, precision_score\n",
        "from sklearn.model_selection import train_test_split"
      ],
      "execution_count": 0,
      "outputs": []
    },
    {
      "metadata": {
        "id": "r9MtmZ7-BFOx",
        "colab_type": "code",
        "colab": {
          "base_uri": "https://localhost:8080/",
          "height": 294
        },
        "outputId": "e13f77bf-f6b7-4444-a4b5-b013436157ac"
      },
      "cell_type": "code",
      "source": [
        "flights_df = flights_dfs.toPandas()\n",
        "flights_df.describe()"
      ],
      "execution_count": 21,
      "outputs": [
        {
          "output_type": "execute_result",
          "data": {
            "text/html": [
              "<div>\n",
              "<style scoped>\n",
              "    .dataframe tbody tr th:only-of-type {\n",
              "        vertical-align: middle;\n",
              "    }\n",
              "\n",
              "    .dataframe tbody tr th {\n",
              "        vertical-align: top;\n",
              "    }\n",
              "\n",
              "    .dataframe thead th {\n",
              "        text-align: right;\n",
              "    }\n",
              "</style>\n",
              "<table border=\"1\" class=\"dataframe\">\n",
              "  <thead>\n",
              "    <tr style=\"text-align: right;\">\n",
              "      <th></th>\n",
              "      <th>DayofMonth</th>\n",
              "      <th>DayOfWeek</th>\n",
              "      <th>OriginAirportID</th>\n",
              "      <th>DestAirportID</th>\n",
              "      <th>DepDelay</th>\n",
              "      <th>ArrDelay</th>\n",
              "    </tr>\n",
              "  </thead>\n",
              "  <tbody>\n",
              "    <tr>\n",
              "      <th>count</th>\n",
              "      <td>2.702218e+06</td>\n",
              "      <td>2.702218e+06</td>\n",
              "      <td>2.702218e+06</td>\n",
              "      <td>2.702218e+06</td>\n",
              "      <td>2.702218e+06</td>\n",
              "      <td>2.702218e+06</td>\n",
              "    </tr>\n",
              "    <tr>\n",
              "      <th>mean</th>\n",
              "      <td>1.579790e+01</td>\n",
              "      <td>3.899480e+00</td>\n",
              "      <td>1.274260e+04</td>\n",
              "      <td>1.274300e+04</td>\n",
              "      <td>1.051073e+01</td>\n",
              "      <td>6.655011e+00</td>\n",
              "    </tr>\n",
              "    <tr>\n",
              "      <th>std</th>\n",
              "      <td>8.798835e+00</td>\n",
              "      <td>1.985925e+00</td>\n",
              "      <td>1.501841e+03</td>\n",
              "      <td>1.501801e+03</td>\n",
              "      <td>3.602976e+01</td>\n",
              "      <td>3.854758e+01</td>\n",
              "    </tr>\n",
              "    <tr>\n",
              "      <th>min</th>\n",
              "      <td>1.000000e+00</td>\n",
              "      <td>1.000000e+00</td>\n",
              "      <td>1.014000e+04</td>\n",
              "      <td>1.014000e+04</td>\n",
              "      <td>-6.300000e+01</td>\n",
              "      <td>-9.400000e+01</td>\n",
              "    </tr>\n",
              "    <tr>\n",
              "      <th>25%</th>\n",
              "      <td>8.000000e+00</td>\n",
              "      <td>2.000000e+00</td>\n",
              "      <td>1.129200e+04</td>\n",
              "      <td>1.129200e+04</td>\n",
              "      <td>-4.000000e+00</td>\n",
              "      <td>-1.100000e+01</td>\n",
              "    </tr>\n",
              "    <tr>\n",
              "      <th>50%</th>\n",
              "      <td>1.600000e+01</td>\n",
              "      <td>4.000000e+00</td>\n",
              "      <td>1.289200e+04</td>\n",
              "      <td>1.289200e+04</td>\n",
              "      <td>-1.000000e+00</td>\n",
              "      <td>-3.000000e+00</td>\n",
              "    </tr>\n",
              "    <tr>\n",
              "      <th>75%</th>\n",
              "      <td>2.300000e+01</td>\n",
              "      <td>6.000000e+00</td>\n",
              "      <td>1.405700e+04</td>\n",
              "      <td>1.405700e+04</td>\n",
              "      <td>9.000000e+00</td>\n",
              "      <td>1.000000e+01</td>\n",
              "    </tr>\n",
              "    <tr>\n",
              "      <th>max</th>\n",
              "      <td>3.100000e+01</td>\n",
              "      <td>7.000000e+00</td>\n",
              "      <td>1.537600e+04</td>\n",
              "      <td>1.537600e+04</td>\n",
              "      <td>1.863000e+03</td>\n",
              "      <td>1.845000e+03</td>\n",
              "    </tr>\n",
              "  </tbody>\n",
              "</table>\n",
              "</div>"
            ],
            "text/plain": [
              "         DayofMonth     DayOfWeek  OriginAirportID  DestAirportID  \\\n",
              "count  2.702218e+06  2.702218e+06     2.702218e+06   2.702218e+06   \n",
              "mean   1.579790e+01  3.899480e+00     1.274260e+04   1.274300e+04   \n",
              "std    8.798835e+00  1.985925e+00     1.501841e+03   1.501801e+03   \n",
              "min    1.000000e+00  1.000000e+00     1.014000e+04   1.014000e+04   \n",
              "25%    8.000000e+00  2.000000e+00     1.129200e+04   1.129200e+04   \n",
              "50%    1.600000e+01  4.000000e+00     1.289200e+04   1.289200e+04   \n",
              "75%    2.300000e+01  6.000000e+00     1.405700e+04   1.405700e+04   \n",
              "max    3.100000e+01  7.000000e+00     1.537600e+04   1.537600e+04   \n",
              "\n",
              "           DepDelay      ArrDelay  \n",
              "count  2.702218e+06  2.702218e+06  \n",
              "mean   1.051073e+01  6.655011e+00  \n",
              "std    3.602976e+01  3.854758e+01  \n",
              "min   -6.300000e+01 -9.400000e+01  \n",
              "25%   -4.000000e+00 -1.100000e+01  \n",
              "50%   -1.000000e+00 -3.000000e+00  \n",
              "75%    9.000000e+00  1.000000e+01  \n",
              "max    1.863000e+03  1.845000e+03  "
            ]
          },
          "metadata": {
            "tags": []
          },
          "execution_count": 21
        }
      ]
    },
    {
      "metadata": {
        "id": "gqjIegpsDiL_",
        "colab_type": "code",
        "colab": {
          "base_uri": "https://localhost:8080/",
          "height": 222
        },
        "outputId": "c986d07e-591f-438d-9db4-cf413f3364a9"
      },
      "cell_type": "code",
      "source": [
        "flights_df[\"Late\"] = 0\n",
        "flights_df.loc[flights_df[\"ArrDelay\"]>15, \"Late\"] = 1\n",
        "flights_df.head(5)"
      ],
      "execution_count": 22,
      "outputs": [
        {
          "output_type": "execute_result",
          "data": {
            "text/html": [
              "<div>\n",
              "<style scoped>\n",
              "    .dataframe tbody tr th:only-of-type {\n",
              "        vertical-align: middle;\n",
              "    }\n",
              "\n",
              "    .dataframe tbody tr th {\n",
              "        vertical-align: top;\n",
              "    }\n",
              "\n",
              "    .dataframe thead th {\n",
              "        text-align: right;\n",
              "    }\n",
              "</style>\n",
              "<table border=\"1\" class=\"dataframe\">\n",
              "  <thead>\n",
              "    <tr style=\"text-align: right;\">\n",
              "      <th></th>\n",
              "      <th>DayofMonth</th>\n",
              "      <th>DayOfWeek</th>\n",
              "      <th>Carrier</th>\n",
              "      <th>OriginAirportID</th>\n",
              "      <th>DestAirportID</th>\n",
              "      <th>DepDelay</th>\n",
              "      <th>ArrDelay</th>\n",
              "      <th>Late</th>\n",
              "    </tr>\n",
              "  </thead>\n",
              "  <tbody>\n",
              "    <tr>\n",
              "      <th>0</th>\n",
              "      <td>19</td>\n",
              "      <td>5</td>\n",
              "      <td>DL</td>\n",
              "      <td>11433</td>\n",
              "      <td>13303</td>\n",
              "      <td>-3</td>\n",
              "      <td>1</td>\n",
              "      <td>0</td>\n",
              "    </tr>\n",
              "    <tr>\n",
              "      <th>1</th>\n",
              "      <td>19</td>\n",
              "      <td>5</td>\n",
              "      <td>DL</td>\n",
              "      <td>14869</td>\n",
              "      <td>12478</td>\n",
              "      <td>0</td>\n",
              "      <td>-8</td>\n",
              "      <td>0</td>\n",
              "    </tr>\n",
              "    <tr>\n",
              "      <th>2</th>\n",
              "      <td>19</td>\n",
              "      <td>5</td>\n",
              "      <td>DL</td>\n",
              "      <td>14057</td>\n",
              "      <td>14869</td>\n",
              "      <td>-4</td>\n",
              "      <td>-15</td>\n",
              "      <td>0</td>\n",
              "    </tr>\n",
              "    <tr>\n",
              "      <th>3</th>\n",
              "      <td>19</td>\n",
              "      <td>5</td>\n",
              "      <td>DL</td>\n",
              "      <td>15016</td>\n",
              "      <td>11433</td>\n",
              "      <td>28</td>\n",
              "      <td>24</td>\n",
              "      <td>1</td>\n",
              "    </tr>\n",
              "    <tr>\n",
              "      <th>4</th>\n",
              "      <td>19</td>\n",
              "      <td>5</td>\n",
              "      <td>DL</td>\n",
              "      <td>11193</td>\n",
              "      <td>12892</td>\n",
              "      <td>-6</td>\n",
              "      <td>-11</td>\n",
              "      <td>0</td>\n",
              "    </tr>\n",
              "  </tbody>\n",
              "</table>\n",
              "</div>"
            ],
            "text/plain": [
              "   DayofMonth  DayOfWeek Carrier  OriginAirportID  DestAirportID  DepDelay  \\\n",
              "0          19          5      DL            11433          13303        -3   \n",
              "1          19          5      DL            14869          12478         0   \n",
              "2          19          5      DL            14057          14869        -4   \n",
              "3          19          5      DL            15016          11433        28   \n",
              "4          19          5      DL            11193          12892        -6   \n",
              "\n",
              "   ArrDelay  Late  \n",
              "0         1     0  \n",
              "1        -8     0  \n",
              "2       -15     0  \n",
              "3        24     1  \n",
              "4       -11     0  "
            ]
          },
          "metadata": {
            "tags": []
          },
          "execution_count": 22
        }
      ]
    },
    {
      "metadata": {
        "id": "DHQoiNlfE3hA",
        "colab_type": "code",
        "colab": {}
      },
      "cell_type": "code",
      "source": [
        "X = flights_df.loc[:, [\"DayofMonth\", \"DayOfWeek\", \"OriginAirportID\", \"DestAirportID\", \"DepDelay\"]]\n",
        "y = flights_df.loc[:, \"Late\"]\n",
        "X_train, X_test, y_train, y_test = train_test_split(\n",
        "    X, y, test_size=0.3, random_state=42)"
      ],
      "execution_count": 0,
      "outputs": []
    },
    {
      "metadata": {
        "id": "vfvjrjppF61R",
        "colab_type": "code",
        "colab": {}
      },
      "cell_type": "code",
      "source": [
        "model = LogisticRegression(random_state=0, solver='lbfgs',\n",
        "                         multi_class='multinomial').fit(X_train, y_train)"
      ],
      "execution_count": 0,
      "outputs": []
    },
    {
      "metadata": {
        "id": "tLNyCJQOGgI9",
        "colab_type": "code",
        "colab": {
          "base_uri": "https://localhost:8080/",
          "height": 69
        },
        "outputId": "56d962f4-81b0-4cf1-ed82-d1e1953d5995"
      },
      "cell_type": "code",
      "source": [
        "accuracy = model.score(X_test, y_test)\n",
        "y_pred = model.predict(X_test)\n",
        "precision = precision_score(y_test, y_pred)\n",
        "recall = recall_score(y_test, y_pred)\n",
        "print(\"Accuracy: {}\".format(accuracy))\n",
        "print(\"Precision: {}\".format(precision))\n",
        "print(\"Recall: {}\".format(recall))\n",
        "# check\n",
        "cm = confusion_matrix(y_test, y_pred)\n",
        "tn, fn, fp, tp = cm[0][0], cm[1][0], cm[0][1], cm[1][1]\n",
        "assert precision == tp/(tp + fp)\n",
        "assert recall == tp/(tp + fn)"
      ],
      "execution_count": 25,
      "outputs": [
        {
          "output_type": "stream",
          "text": [
            "Accuracy: 0.925960876612563\n",
            "Precision: 0.8933522186360787\n",
            "Recall: 0.7139622921615202\n"
          ],
          "name": "stdout"
        }
      ]
    },
    {
      "metadata": {
        "id": "m6sxI_ujR-Cq",
        "colab_type": "text"
      },
      "cell_type": "markdown",
      "source": [
        "### Reusing Spark split data to compare metrics"
      ]
    },
    {
      "metadata": {
        "id": "dSYex3KrR9eJ",
        "colab_type": "code",
        "colab": {}
      },
      "cell_type": "code",
      "source": [
        "train_df = train.toPandas()\n",
        "test_df = test.toPandas()"
      ],
      "execution_count": 0,
      "outputs": []
    },
    {
      "metadata": {
        "id": "X5v9pDyYSiaG",
        "colab_type": "code",
        "colab": {}
      },
      "cell_type": "code",
      "source": [
        "X_train = train_df.drop(\"Late\", axis=1)\n",
        "y_train = train_df[\"Late\"]\n",
        "X_test = test_df.drop(\"Late\", axis=1)\n",
        "y_test = test_df[\"Late\"]"
      ],
      "execution_count": 0,
      "outputs": []
    },
    {
      "metadata": {
        "id": "dyUl_L99HHwj",
        "colab_type": "code",
        "colab": {}
      },
      "cell_type": "code",
      "source": [
        "model = LogisticRegression(random_state=0, solver='lbfgs',\n",
        "                         multi_class='multinomial').fit(X_train, y_train)"
      ],
      "execution_count": 0,
      "outputs": []
    },
    {
      "metadata": {
        "id": "Y_xnp28FS4vx",
        "colab_type": "code",
        "colab": {
          "base_uri": "https://localhost:8080/",
          "height": 69
        },
        "outputId": "4e1db625-4b6a-4a37-ac73-e16826288714"
      },
      "cell_type": "code",
      "source": [
        "accuracy = model.score(X_test, y_test)\n",
        "y_pred = model.predict(X_test)\n",
        "precision = precision_score(y_test, y_pred)\n",
        "recall = recall_score(y_test, y_pred)\n",
        "print(\"Accuracy: {}\".format(accuracy))\n",
        "print(\"Precision: {}\".format(precision))\n",
        "print(\"Recall: {}\".format(recall))\n",
        "# check\n",
        "cm = confusion_matrix(y_test, y_pred)\n",
        "tn, fn, fp, tp = cm[0][0], cm[1][0], cm[0][1], cm[1][1]\n",
        "assert precision == tp/(tp + fp)\n",
        "assert recall == tp/(tp + fn)"
      ],
      "execution_count": 29,
      "outputs": [
        {
          "output_type": "stream",
          "text": [
            "Accuracy: 0.9260545844378124\n",
            "Precision: 0.89340917425466\n",
            "Recall: 0.7126177821481472\n"
          ],
          "name": "stdout"
        }
      ]
    },
    {
      "metadata": {
        "id": "a95Y3ELJTbXu",
        "colab_type": "code",
        "colab": {}
      },
      "cell_type": "code",
      "source": [
        ""
      ],
      "execution_count": 0,
      "outputs": []
    }
  ]
}